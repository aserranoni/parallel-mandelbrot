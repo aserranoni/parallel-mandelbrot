{
 "cells": [
  {
   "cell_type": "markdown",
   "metadata": {},
   "source": [
    "\n",
    "# EP1 de Programacao Paralela e distribuida - MAC5742\n",
    "## Analise dos Resultados\n"
   ]
  },
  {
   "cell_type": "markdown",
   "metadata": {},
   "source": [
    "| Nome | NUSP |\n",
    "|------|------|\n",
    "| Ariel Serranoni Soares da Silva| 7658024 |\n",
    "| Thiago Martinoni | Numero usp |\n"
   ]
  },
  {
   "cell_type": "markdown",
   "metadata": {},
   "source": [
    "### Resumo\n",
    "Em Topologia, um conjunto é auto \n",
    "A implementação sequencial  é muito comum em disciplinas introdutórias de computação. Neste trabalho vamos além, implementaremos três versões deste algorítmo, a clássica sequencial, uma utilizando pthreads e uma terceira utilizando open mp. Os códigos em C e seus encontram-se disponíveis em bla. Aqui vamos analisar o desempenho de cada algorítmo afim de obter um parâmetro de comparação a respeito do \n",
    "desempenho dessas bibliotecas.\n",
    "\n",
    "### Implementações em C\n",
    "\n",
    "Temos três arquivos, cada um responsável por calcular o conjunto de mandelbrot utilizando um método diferente. \n",
    "O Programa mandelbrot_seq serve como base para os outros dois. \n",
    "Notando que cada iteração do loop exterior na função compute_mandelbrot é responsável por produzir uma linha completa da imagem\n",
    "final e que cada linha é independente. adotamos isso como unidade elementar e distribuímos o trabalho entre múltiplas threads\n",
    "\n",
    "Nas implementações em paralelo, utilizamos a estratégia de divisão estática\n",
    "tanto no programa mandelbrot_pth quanto no mandelbrot_omp afim de obter uma comparação mais justa possível. Por isso deixamos todas as varíavei\n",
    "\n",
    "Quando o usuário solicita um número maior de threads do que de linhas na imagem\n",
    "Medições de tempo e output usamos do EP anterior."
   ]
  },
  {
   "cell_type": "markdown",
   "metadata": {},
   "source": [
    "### Infra estrutura Julia\n",
    "\n",
    "Para este relatório, usamos jupyter notebooks e Julia, conforme nos eps anteriores. Também usamos os mesmos pacotes e muitas das funções do nosso último trabalho adaptadas ao novo problema. A seguinte célula fará as instalações de pacotes julia  "
   ]
  },
  {
   "cell_type": "code",
   "execution_count": 1,
   "metadata": {},
   "outputs": [
    {
     "name": "stdout",
     "output_type": "stream",
     "text": [
      "\u001b[32m\u001b[1m  Updating\u001b[22m\u001b[39m registry at `~/.julia/registries/General`\n",
      "\u001b[32m\u001b[1m  Updating\u001b[22m\u001b[39m git-repo `https://github.com/JuliaRegistries/General.git`\n",
      "\u001b[?25l\u001b[2K\u001b[?25h\u001b[32m\u001b[1m Resolving\u001b[22m\u001b[39m package versions...\n",
      "\u001b[32m\u001b[1m  Updating\u001b[22m\u001b[39m `~/ariel-ep1-paralela/src/Project.toml`\n",
      "\u001b[90m [no changes]\u001b[39m\n",
      "\u001b[32m\u001b[1m  Updating\u001b[22m\u001b[39m `~/ariel-ep1-paralela/src/Manifest.toml`\n",
      "\u001b[90m [no changes]\u001b[39m\n"
     ]
    }
   ],
   "source": [
    "]up"
   ]
  },
  {
   "cell_type": "code",
   "execution_count": 2,
   "metadata": {},
   "outputs": [
    {
     "name": "stdout",
     "output_type": "stream",
     "text": [
      "\u001b[32m\u001b[1m  Building\u001b[22m\u001b[39m FFTW → `~/.julia/packages/FFTW/5DZuu/deps/build.log`\n"
     ]
    },
    {
     "data": {
      "text/plain": [
       "false"
      ]
     },
     "execution_count": 2,
     "metadata": {},
     "output_type": "execute_result"
    }
   ],
   "source": [
    "using Pkg \n",
    "Pkg.build(\"FFTW\")"
   ]
  },
  {
   "cell_type": "code",
   "execution_count": 3,
   "metadata": {},
   "outputs": [
    {
     "name": "stdout",
     "output_type": "stream",
     "text": [
      "\u001b[32m\u001b[1m    Status\u001b[22m\u001b[39m `~/ariel-ep1-paralela/src/Project.toml`\n",
      " \u001b[90m [336ed68f]\u001b[39m\u001b[37m CSV v0.6.2\u001b[39m\n",
      " \u001b[90m [a93c6f00]\u001b[39m\u001b[37m DataFrames v0.21.1\u001b[39m\n",
      " \u001b[90m [31c24e10]\u001b[39m\u001b[37m Distributions v0.23.3\u001b[39m\n",
      " \u001b[90m [7073ff75]\u001b[39m\u001b[37m IJulia v1.21.2\u001b[39m\n",
      " \u001b[90m [8314cec4]\u001b[39m\u001b[37m PGFPlotsX v1.2.6\u001b[39m\n",
      " \u001b[90m [1a8c2f83]\u001b[39m\u001b[37m Query v0.12.2\u001b[39m\n",
      " \u001b[90m [f3b207a7]\u001b[39m\u001b[37m StatsPlots v0.14.6\u001b[39m\n"
     ]
    }
   ],
   "source": [
    "] st"
   ]
  },
  {
   "cell_type": "markdown",
   "metadata": {},
   "source": [
    "### Experimentos\n",
    "\n",
    "O Primeiro passo para analisarmos o tempo de execução de um determinado programa sempre foi e sempre será executar o programa\n",
    "em questão. A função abaixo é uma adaptação da função `blá`, do mini EP3. Seu objetivo é justamente fazer uma chamada na linha de comando e salva alguns dados.\n"
   ]
  },
  {
   "cell_type": "code",
   "execution_count": 2,
   "metadata": {},
   "outputs": [
    {
     "data": {
      "text/plain": [
       "mandelbrot (generic function with 2 methods)"
      ]
     },
     "execution_count": 2,
     "metadata": {},
     "output_type": "execute_result"
    }
   ],
   "source": [
    "using DataFrames, Query, StatsPlots, Statistics\n",
    "\n",
    "function mandelbrot(method, region, image_size, threads=1)\n",
    "    a=region[2][1]\n",
    "    b=region[2][2]\n",
    "    c=region[2][3]\n",
    "    d=region[2][4]\n",
    "    results = parse.(Float64,\n",
    "        split(chomp(read(`./mandelbrot_$method $a  $b $c $d $image_size $threads`, String)), \", \"))\n",
    "        \n",
    "    return DataFrame(size = image_size,\n",
    "                region=region[1],\n",
    "                delta_x = region[2][2] - region[2][1],\n",
    "                delta_y = region[2][4] - region[2][3],\n",
    "                duration_clock = results[1],\n",
    "                duration_mono = results[2],\n",
    "                duration_sys = results[3],\n",
    "                threads=threads,\n",
    "                method=method)\n",
    "    end"
   ]
  },
  {
   "cell_type": "markdown",
   "metadata": {},
   "source": [
    "Para que nossa análise tenha alguma importância do ponto de vista estatístico, precisamos nos basear em um número consideravelmente grande de execuções do programa. A função a seguir, também adaptada do miniEP3 tem o intuito de automatizar \n",
    "repetidas chamadas dos programas em C, feitas pela função acima, coletar os resultados e retorná-los na forma de um DataFrame."
   ]
  },
  {
   "cell_type": "code",
   "execution_count": 4,
   "metadata": {},
   "outputs": [
    {
     "data": {
      "text/plain": [
       "run_experiments (generic function with 1 method)"
      ]
     },
     "execution_count": 4,
     "metadata": {},
     "output_type": "execute_result"
    }
   ],
   "source": [
    "function run_experiments(methods, regions ,image_size, threads, repetitions)\n",
    "    run(`make`)\n",
    "    \n",
    "    results = DataFrame(size = Int64[],\n",
    "                region = String[],\n",
    "                delta_x = Float64[],\n",
    "                delta_y = Float64[],\n",
    "                duration_clock = Float64[],\n",
    "                duration_mono = Float64[],\n",
    "                duration_sys = Float64[],\n",
    "                threads= Int64[],\n",
    "                method= String[])\n",
    "    \n",
    "    for tuple in regions\n",
    "        for method in methods\n",
    "            for size in image_size\n",
    "                for t in 1:length(threads)\n",
    "                    if (threads[t] <= 1 || method != \"seq\") \n",
    "                        for r in 1:repetitions\n",
    "                            append!(results, mandelbrot(method, tuple, size, threads[t]))\n",
    "                \n",
    "                        end\n",
    "                    end\n",
    "                end\n",
    "            end\n",
    "        end\n",
    "    end\n",
    "    return results\n",
    "end"
   ]
  },
  {
   "cell_type": "code",
   "execution_count": 6,
   "metadata": {},
   "outputs": [
    {
     "data": {
      "text/plain": [
       "parse_results (generic function with 1 method)"
      ]
     },
     "execution_count": 6,
     "metadata": {},
     "output_type": "execute_result"
    }
   ],
   "source": [
    "function parse_results(results)\n",
    "  parsed_results=results|>\n",
    "                @groupby((_.threads,_.method,_.region)) |>\n",
    "                @map({threads_method = key(_),\n",
    "                repetitions=repetitions,\n",
    "                size = mean(_.size),\n",
    "                delta_x = mean(_.delta_x),\n",
    "                delta_y = mean(_.delta_y),\n",
    "                mean_duration_clock = mean(_.duration_clock),\n",
    "                mean_duration_mono = mean(_.duration_mono),\n",
    "                mean_duration_sys = mean(_.duration_sys),\n",
    "                ci_duration_clock = 1.96 * std(_.duration_clock),\n",
    "                ci_duration_mono = 1.96 * std(_.duration_mono),\n",
    "                ci_duration_sys = 1.96 * std(_.duration_sys)})|>\n",
    "                DataFrame\n",
    "    \n",
    "      final_results = DataFrame(threads= Int64[],\n",
    "                    method= String[],\n",
    "                    region = String[],\n",
    "                    size = Int64[],\n",
    "                    delta_x = Float64[],\n",
    "                    delta_y = Float64[],\n",
    "                    mean_duration_clock = Float64[],\n",
    "                    mean_duration_mono = Float64[],\n",
    "                    mean_duration_sys = Float64[],\n",
    "                    ci_duration_clock = Float64[],\n",
    "                    ci_duration_mono = Float64[],\n",
    "                    ci_duration_sys = Float64[],\n",
    "                    repetitions = Int64[])\n",
    "    \n",
    "        for i in 1:length(parsed_results.size)\n",
    "            \n",
    "            append!(final_results, DataFrame(size=parsed_results.size[i],\n",
    "                                        delta_x=parsed_results.delta_x[i],\n",
    "                                         delta_y=parsed_results.delta_y[i],\n",
    "                                        mean_duration_clock=parsed_results.mean_duration_clock[i],\n",
    "                                        mean_duration_mono=parsed_results.mean_duration_mono[i],\n",
    "                                        mean_duration_sys=parsed_results.mean_duration_sys[i],\n",
    "                                        ci_duration_clock=parsed_results.ci_duration_clock[i],\n",
    "                                        ci_duration_mono=parsed_results.ci_duration_mono[i],\n",
    "                                        ci_duration_sys=parsed_results.ci_duration_sys[i],\n",
    "                                        repetitions =parsed_results.repetitions[i],\n",
    "                                        threads = parsed_results.threads_method[i][1],\n",
    "                                        method = parsed_results.threads_method[i][2],\n",
    "                                        region = parsed_results.threads_method[i][3]))\n",
    "    \n",
    "        end\n",
    "    return final_results\n",
    "end"
   ]
  },
  {
   "cell_type": "code",
   "execution_count": null,
   "metadata": {},
   "outputs": [],
   "source": [
    "Antes de iniciar os experimentos, vamos ajustar parâmetros para que os experimentos ocorram como proposto no enunciado"
   ]
  },
  {
   "cell_type": "code",
   "execution_count": 25,
   "metadata": {},
   "outputs": [
    {
     "name": "stdout",
     "output_type": "stream",
     "text": [
      "make: Nothing to be done for 'all'.\n"
     ]
    },
    {
     "data": {
      "text/html": [
       "<table class=\"data-frame\"><thead><tr><th></th><th>threads</th><th>method</th><th>region</th><th>size</th><th>delta_x</th><th>delta_y</th><th>mean_duration_clock</th></tr><tr><th></th><th>Int64</th><th>String</th><th>String</th><th>Int64</th><th>Float64</th><th>Float64</th><th>Float64</th></tr></thead><tbody><p>36 rows × 13 columns (omitted printing of 6 columns)</p><tr><th>1</th><td>1</td><td>seq</td><td>Full Picture</td><td>24</td><td>4.0</td><td>4.0</td><td>0.00018085</td></tr><tr><th>2</th><td>1</td><td>pth</td><td>Full Picture</td><td>24</td><td>4.0</td><td>4.0</td><td>0.00032115</td></tr><tr><th>3</th><td>2</td><td>pth</td><td>Full Picture</td><td>24</td><td>4.0</td><td>4.0</td><td>0.0003766</td></tr><tr><th>4</th><td>4</td><td>pth</td><td>Full Picture</td><td>24</td><td>4.0</td><td>4.0</td><td>0.0005659</td></tr><tr><th>5</th><td>8</td><td>pth</td><td>Full Picture</td><td>24</td><td>4.0</td><td>4.0</td><td>0.00083005</td></tr><tr><th>6</th><td>1</td><td>omp</td><td>Full Picture</td><td>24</td><td>4.0</td><td>4.0</td><td>0.0001863</td></tr><tr><th>7</th><td>2</td><td>omp</td><td>Full Picture</td><td>24</td><td>4.0</td><td>4.0</td><td>0.00022835</td></tr><tr><th>8</th><td>4</td><td>omp</td><td>Full Picture</td><td>24</td><td>4.0</td><td>4.0</td><td>0.00187295</td></tr><tr><th>9</th><td>8</td><td>omp</td><td>Full Picture</td><td>24</td><td>4.0</td><td>4.0</td><td>0.00872875</td></tr><tr><th>10</th><td>1</td><td>seq</td><td>Seahorse Valley</td><td>24</td><td>0.1</td><td>0.1</td><td>0.00108315</td></tr><tr><th>11</th><td>1</td><td>pth</td><td>Seahorse Valley</td><td>24</td><td>0.1</td><td>0.1</td><td>0.001324</td></tr><tr><th>12</th><td>2</td><td>pth</td><td>Seahorse Valley</td><td>24</td><td>0.1</td><td>0.1</td><td>0.0014205</td></tr><tr><th>13</th><td>4</td><td>pth</td><td>Seahorse Valley</td><td>24</td><td>0.1</td><td>0.1</td><td>0.00150855</td></tr><tr><th>14</th><td>8</td><td>pth</td><td>Seahorse Valley</td><td>24</td><td>0.1</td><td>0.1</td><td>0.0016889</td></tr><tr><th>15</th><td>1</td><td>omp</td><td>Seahorse Valley</td><td>24</td><td>0.1</td><td>0.1</td><td>0.00109725</td></tr><tr><th>16</th><td>2</td><td>omp</td><td>Seahorse Valley</td><td>24</td><td>0.1</td><td>0.1</td><td>0.00078375</td></tr><tr><th>17</th><td>4</td><td>omp</td><td>Seahorse Valley</td><td>24</td><td>0.1</td><td>0.1</td><td>0.00089685</td></tr><tr><th>18</th><td>8</td><td>omp</td><td>Seahorse Valley</td><td>24</td><td>0.1</td><td>0.1</td><td>0.0099941</td></tr><tr><th>19</th><td>1</td><td>seq</td><td>Elephant Valley</td><td>24</td><td>0.2</td><td>0.2</td><td>0.00105085</td></tr><tr><th>20</th><td>1</td><td>pth</td><td>Elephant Valley</td><td>24</td><td>0.2</td><td>0.2</td><td>0.00133005</td></tr><tr><th>21</th><td>2</td><td>pth</td><td>Elephant Valley</td><td>24</td><td>0.2</td><td>0.2</td><td>0.001348</td></tr><tr><th>22</th><td>4</td><td>pth</td><td>Elephant Valley</td><td>24</td><td>0.2</td><td>0.2</td><td>0.0015041</td></tr><tr><th>23</th><td>8</td><td>pth</td><td>Elephant Valley</td><td>24</td><td>0.2</td><td>0.2</td><td>0.0016726</td></tr><tr><th>24</th><td>1</td><td>omp</td><td>Elephant Valley</td><td>24</td><td>0.2</td><td>0.2</td><td>0.00107315</td></tr><tr><th>25</th><td>2</td><td>omp</td><td>Elephant Valley</td><td>24</td><td>0.2</td><td>0.2</td><td>0.0008264</td></tr><tr><th>26</th><td>4</td><td>omp</td><td>Elephant Valley</td><td>24</td><td>0.2</td><td>0.2</td><td>0.0011543</td></tr><tr><th>27</th><td>8</td><td>omp</td><td>Elephant Valley</td><td>24</td><td>0.2</td><td>0.2</td><td>0.00708545</td></tr><tr><th>28</th><td>1</td><td>seq</td><td>Triple Spiral Valley</td><td>24</td><td>0.176</td><td>0.2</td><td>0.00124795</td></tr><tr><th>29</th><td>1</td><td>pth</td><td>Triple Spiral Valley</td><td>24</td><td>0.176</td><td>0.2</td><td>0.00150475</td></tr><tr><th>30</th><td>2</td><td>pth</td><td>Triple Spiral Valley</td><td>24</td><td>0.176</td><td>0.2</td><td>0.0015954</td></tr><tr><th>&vellip;</th><td>&vellip;</td><td>&vellip;</td><td>&vellip;</td><td>&vellip;</td><td>&vellip;</td><td>&vellip;</td><td>&vellip;</td></tr></tbody></table>"
      ],
      "text/latex": [
       "\\begin{tabular}{r|cccccccc}\n",
       "\t& threads & method & region & size & delta\\_x & delta\\_y & mean\\_duration\\_clock & \\\\\n",
       "\t\\hline\n",
       "\t& Int64 & String & String & Int64 & Float64 & Float64 & Float64 & \\\\\n",
       "\t\\hline\n",
       "\t1 & 1 & seq & Full Picture & 24 & 4.0 & 4.0 & 0.00018085 & $\\dots$ \\\\\n",
       "\t2 & 1 & pth & Full Picture & 24 & 4.0 & 4.0 & 0.00032115 & $\\dots$ \\\\\n",
       "\t3 & 2 & pth & Full Picture & 24 & 4.0 & 4.0 & 0.0003766 & $\\dots$ \\\\\n",
       "\t4 & 4 & pth & Full Picture & 24 & 4.0 & 4.0 & 0.0005659 & $\\dots$ \\\\\n",
       "\t5 & 8 & pth & Full Picture & 24 & 4.0 & 4.0 & 0.00083005 & $\\dots$ \\\\\n",
       "\t6 & 1 & omp & Full Picture & 24 & 4.0 & 4.0 & 0.0001863 & $\\dots$ \\\\\n",
       "\t7 & 2 & omp & Full Picture & 24 & 4.0 & 4.0 & 0.00022835 & $\\dots$ \\\\\n",
       "\t8 & 4 & omp & Full Picture & 24 & 4.0 & 4.0 & 0.00187295 & $\\dots$ \\\\\n",
       "\t9 & 8 & omp & Full Picture & 24 & 4.0 & 4.0 & 0.00872875 & $\\dots$ \\\\\n",
       "\t10 & 1 & seq & Seahorse Valley & 24 & 0.1 & 0.1 & 0.00108315 & $\\dots$ \\\\\n",
       "\t11 & 1 & pth & Seahorse Valley & 24 & 0.1 & 0.1 & 0.001324 & $\\dots$ \\\\\n",
       "\t12 & 2 & pth & Seahorse Valley & 24 & 0.1 & 0.1 & 0.0014205 & $\\dots$ \\\\\n",
       "\t13 & 4 & pth & Seahorse Valley & 24 & 0.1 & 0.1 & 0.00150855 & $\\dots$ \\\\\n",
       "\t14 & 8 & pth & Seahorse Valley & 24 & 0.1 & 0.1 & 0.0016889 & $\\dots$ \\\\\n",
       "\t15 & 1 & omp & Seahorse Valley & 24 & 0.1 & 0.1 & 0.00109725 & $\\dots$ \\\\\n",
       "\t16 & 2 & omp & Seahorse Valley & 24 & 0.1 & 0.1 & 0.00078375 & $\\dots$ \\\\\n",
       "\t17 & 4 & omp & Seahorse Valley & 24 & 0.1 & 0.1 & 0.00089685 & $\\dots$ \\\\\n",
       "\t18 & 8 & omp & Seahorse Valley & 24 & 0.1 & 0.1 & 0.0099941 & $\\dots$ \\\\\n",
       "\t19 & 1 & seq & Elephant Valley & 24 & 0.2 & 0.2 & 0.00105085 & $\\dots$ \\\\\n",
       "\t20 & 1 & pth & Elephant Valley & 24 & 0.2 & 0.2 & 0.00133005 & $\\dots$ \\\\\n",
       "\t21 & 2 & pth & Elephant Valley & 24 & 0.2 & 0.2 & 0.001348 & $\\dots$ \\\\\n",
       "\t22 & 4 & pth & Elephant Valley & 24 & 0.2 & 0.2 & 0.0015041 & $\\dots$ \\\\\n",
       "\t23 & 8 & pth & Elephant Valley & 24 & 0.2 & 0.2 & 0.0016726 & $\\dots$ \\\\\n",
       "\t24 & 1 & omp & Elephant Valley & 24 & 0.2 & 0.2 & 0.00107315 & $\\dots$ \\\\\n",
       "\t25 & 2 & omp & Elephant Valley & 24 & 0.2 & 0.2 & 0.0008264 & $\\dots$ \\\\\n",
       "\t26 & 4 & omp & Elephant Valley & 24 & 0.2 & 0.2 & 0.0011543 & $\\dots$ \\\\\n",
       "\t27 & 8 & omp & Elephant Valley & 24 & 0.2 & 0.2 & 0.00708545 & $\\dots$ \\\\\n",
       "\t28 & 1 & seq & Triple Spiral Valley & 24 & 0.176 & 0.2 & 0.00124795 & $\\dots$ \\\\\n",
       "\t29 & 1 & pth & Triple Spiral Valley & 24 & 0.176 & 0.2 & 0.00150475 & $\\dots$ \\\\\n",
       "\t30 & 2 & pth & Triple Spiral Valley & 24 & 0.176 & 0.2 & 0.0015954 & $\\dots$ \\\\\n",
       "\t$\\dots$ & $\\dots$ & $\\dots$ & $\\dots$ & $\\dots$ & $\\dots$ & $\\dots$ & $\\dots$ &  \\\\\n",
       "\\end{tabular}\n"
      ],
      "text/plain": [
       "36×13 DataFrame. Omitted printing of 7 columns\n",
       "│ Row │ threads │ method │ region               │ size  │ delta_x │ delta_y │\n",
       "│     │ \u001b[90mInt64\u001b[39m   │ \u001b[90mString\u001b[39m │ \u001b[90mString\u001b[39m               │ \u001b[90mInt64\u001b[39m │ \u001b[90mFloat64\u001b[39m │ \u001b[90mFloat64\u001b[39m │\n",
       "├─────┼─────────┼────────┼──────────────────────┼───────┼─────────┼─────────┤\n",
       "│ 1   │ 1       │ seq    │ Full Picture         │ 24    │ 4.0     │ 4.0     │\n",
       "│ 2   │ 1       │ pth    │ Full Picture         │ 24    │ 4.0     │ 4.0     │\n",
       "│ 3   │ 2       │ pth    │ Full Picture         │ 24    │ 4.0     │ 4.0     │\n",
       "│ 4   │ 4       │ pth    │ Full Picture         │ 24    │ 4.0     │ 4.0     │\n",
       "│ 5   │ 8       │ pth    │ Full Picture         │ 24    │ 4.0     │ 4.0     │\n",
       "│ 6   │ 1       │ omp    │ Full Picture         │ 24    │ 4.0     │ 4.0     │\n",
       "│ 7   │ 2       │ omp    │ Full Picture         │ 24    │ 4.0     │ 4.0     │\n",
       "│ 8   │ 4       │ omp    │ Full Picture         │ 24    │ 4.0     │ 4.0     │\n",
       "│ 9   │ 8       │ omp    │ Full Picture         │ 24    │ 4.0     │ 4.0     │\n",
       "│ 10  │ 1       │ seq    │ Seahorse Valley      │ 24    │ 0.1     │ 0.1     │\n",
       "⋮\n",
       "│ 26  │ 4       │ omp    │ Elephant Valley      │ 24    │ 0.2     │ 0.2     │\n",
       "│ 27  │ 8       │ omp    │ Elephant Valley      │ 24    │ 0.2     │ 0.2     │\n",
       "│ 28  │ 1       │ seq    │ Triple Spiral Valley │ 24    │ 0.176   │ 0.2     │\n",
       "│ 29  │ 1       │ pth    │ Triple Spiral Valley │ 24    │ 0.176   │ 0.2     │\n",
       "│ 30  │ 2       │ pth    │ Triple Spiral Valley │ 24    │ 0.176   │ 0.2     │\n",
       "│ 31  │ 4       │ pth    │ Triple Spiral Valley │ 24    │ 0.176   │ 0.2     │\n",
       "│ 32  │ 8       │ pth    │ Triple Spiral Valley │ 24    │ 0.176   │ 0.2     │\n",
       "│ 33  │ 1       │ omp    │ Triple Spiral Valley │ 24    │ 0.176   │ 0.2     │\n",
       "│ 34  │ 2       │ omp    │ Triple Spiral Valley │ 24    │ 0.176   │ 0.2     │\n",
       "│ 35  │ 4       │ omp    │ Triple Spiral Valley │ 24    │ 0.176   │ 0.2     │\n",
       "│ 36  │ 8       │ omp    │ Triple Spiral Valley │ 24    │ 0.176   │ 0.2     │"
      ]
     },
     "execution_count": 25,
     "metadata": {},
     "output_type": "execute_result"
    }
   ],
   "source": [
    "sizes=[2^x for x in 4:5]\n",
    "threads = [2 ^ x for x in 0:3]\n",
    "methods = [\"seq\",\"pth\",\"omp\"]\n",
    "\n",
    "regions = Dict(\"Full Picture\" => (-2.5,1.5,-2.0,2.0),\n",
    "                \"Seahorse Valley\" => (-0.8,-0.7,0.05,0.15),\n",
    "                \"Elephant Valley\" => (0.175,0.375,-0.1,0.1),\n",
    "                \"Triple Spiral Valley\" =>(-0.188,-0.012,0.554,0.754))\n",
    "repetitions=10\n",
    "results = run_experiments(methods, regions, sizes, threads, repetitions)\n",
    "parsed_results = parse_results(results)"
   ]
  },
  {
   "cell_type": "code",
   "execution_count": null,
   "metadata": {},
   "outputs": [],
   "source": [
    "Como a função run_experiments pode fazer muitas chamadas dos programas em C, salvar os resultados em um arquivo pode ser uma forma "
   ]
  },
  {
   "cell_type": "code",
   "execution_count": null,
   "metadata": {},
   "outputs": [],
   "source": [
    "using CSV\n",
    "\n",
    "function save_csv_results(data_frame)\n",
    "    CSV.write(\"./data_frame.csv\",data_frame,delim='\\t')\n",
    "end\n",
    "\n",
    "function read_csv_results()\n",
    "    df=CSV.read(\"./data_frame.csv\")\n",
    "    return df\n",
    "end\n",
    "\n",
    "save_csv_results(parsed_results)"
   ]
  },
  {
   "cell_type": "code",
   "execution_count": null,
   "metadata": {},
   "outputs": [],
   "source": []
  },
  {
   "cell_type": "code",
   "execution_count": 35,
   "metadata": {},
   "outputs": [
    {
     "data": {
      "text/html": [
       "<table class=\"data-frame\"><thead><tr><th></th><th>threads</th><th>method</th><th>region</th><th>size</th><th>delta_x</th><th>delta_y</th><th>mean_duration_clock</th></tr><tr><th></th><th>Int64</th><th>String</th><th>String</th><th>Int64</th><th>Float64</th><th>Float64</th><th>Float64</th></tr></thead><tbody><p>9 rows × 13 columns (omitted printing of 6 columns)</p><tr><th>1</th><td>1</td><td>seq</td><td>Seahorse Valley</td><td>24</td><td>0.1</td><td>0.1</td><td>0.00108315</td></tr><tr><th>2</th><td>1</td><td>pth</td><td>Seahorse Valley</td><td>24</td><td>0.1</td><td>0.1</td><td>0.001324</td></tr><tr><th>3</th><td>2</td><td>pth</td><td>Seahorse Valley</td><td>24</td><td>0.1</td><td>0.1</td><td>0.0014205</td></tr><tr><th>4</th><td>4</td><td>pth</td><td>Seahorse Valley</td><td>24</td><td>0.1</td><td>0.1</td><td>0.00150855</td></tr><tr><th>5</th><td>8</td><td>pth</td><td>Seahorse Valley</td><td>24</td><td>0.1</td><td>0.1</td><td>0.0016889</td></tr><tr><th>6</th><td>1</td><td>omp</td><td>Seahorse Valley</td><td>24</td><td>0.1</td><td>0.1</td><td>0.00109725</td></tr><tr><th>7</th><td>2</td><td>omp</td><td>Seahorse Valley</td><td>24</td><td>0.1</td><td>0.1</td><td>0.00078375</td></tr><tr><th>8</th><td>4</td><td>omp</td><td>Seahorse Valley</td><td>24</td><td>0.1</td><td>0.1</td><td>0.00089685</td></tr><tr><th>9</th><td>8</td><td>omp</td><td>Seahorse Valley</td><td>24</td><td>0.1</td><td>0.1</td><td>0.0099941</td></tr></tbody></table>"
      ],
      "text/latex": [
       "\\begin{tabular}{r|cccccccc}\n",
       "\t& threads & method & region & size & delta\\_x & delta\\_y & mean\\_duration\\_clock & \\\\\n",
       "\t\\hline\n",
       "\t& Int64 & String & String & Int64 & Float64 & Float64 & Float64 & \\\\\n",
       "\t\\hline\n",
       "\t1 & 1 & seq & Seahorse Valley & 24 & 0.1 & 0.1 & 0.00108315 & $\\dots$ \\\\\n",
       "\t2 & 1 & pth & Seahorse Valley & 24 & 0.1 & 0.1 & 0.001324 & $\\dots$ \\\\\n",
       "\t3 & 2 & pth & Seahorse Valley & 24 & 0.1 & 0.1 & 0.0014205 & $\\dots$ \\\\\n",
       "\t4 & 4 & pth & Seahorse Valley & 24 & 0.1 & 0.1 & 0.00150855 & $\\dots$ \\\\\n",
       "\t5 & 8 & pth & Seahorse Valley & 24 & 0.1 & 0.1 & 0.0016889 & $\\dots$ \\\\\n",
       "\t6 & 1 & omp & Seahorse Valley & 24 & 0.1 & 0.1 & 0.00109725 & $\\dots$ \\\\\n",
       "\t7 & 2 & omp & Seahorse Valley & 24 & 0.1 & 0.1 & 0.00078375 & $\\dots$ \\\\\n",
       "\t8 & 4 & omp & Seahorse Valley & 24 & 0.1 & 0.1 & 0.00089685 & $\\dots$ \\\\\n",
       "\t9 & 8 & omp & Seahorse Valley & 24 & 0.1 & 0.1 & 0.0099941 & $\\dots$ \\\\\n",
       "\\end{tabular}\n"
      ],
      "text/plain": [
       "9×13 DataFrame. Omitted printing of 7 columns\n",
       "│ Row │ threads │ method │ region          │ size  │ delta_x │ delta_y │\n",
       "│     │ \u001b[90mInt64\u001b[39m   │ \u001b[90mString\u001b[39m │ \u001b[90mString\u001b[39m          │ \u001b[90mInt64\u001b[39m │ \u001b[90mFloat64\u001b[39m │ \u001b[90mFloat64\u001b[39m │\n",
       "├─────┼─────────┼────────┼─────────────────┼───────┼─────────┼─────────┤\n",
       "│ 1   │ 1       │ seq    │ Seahorse Valley │ 24    │ 0.1     │ 0.1     │\n",
       "│ 2   │ 1       │ pth    │ Seahorse Valley │ 24    │ 0.1     │ 0.1     │\n",
       "│ 3   │ 2       │ pth    │ Seahorse Valley │ 24    │ 0.1     │ 0.1     │\n",
       "│ 4   │ 4       │ pth    │ Seahorse Valley │ 24    │ 0.1     │ 0.1     │\n",
       "│ 5   │ 8       │ pth    │ Seahorse Valley │ 24    │ 0.1     │ 0.1     │\n",
       "│ 6   │ 1       │ omp    │ Seahorse Valley │ 24    │ 0.1     │ 0.1     │\n",
       "│ 7   │ 2       │ omp    │ Seahorse Valley │ 24    │ 0.1     │ 0.1     │\n",
       "│ 8   │ 4       │ omp    │ Seahorse Valley │ 24    │ 0.1     │ 0.1     │\n",
       "│ 9   │ 8       │ omp    │ Seahorse Valley │ 24    │ 0.1     │ 0.1     │"
      ]
     },
     "execution_count": 35,
     "metadata": {},
     "output_type": "execute_result"
    }
   ],
   "source": [
    "pgfplotsx()\n",
    "\n",
    "function plot_results(x, y, group, target_label, series_label; hline = [], yerror = [], max_thread_power = 10)\n",
    "    if yerror != []\n",
    "        s = scatter(x,\n",
    "            y,\n",
    "            xaxis = :log2,\n",
    "            group=group,\n",
    "            xlabel = \"Threads\",\n",
    "            xticks = [2 ^ x for x in 0:max_thread_power],\n",
    "            yerror = yerror,\n",
    "            alpha = 100,\n",
    "            labels = series_label,\n",
    "            legend = :topright)\n",
    "    else\n",
    "        p = scatter(x,\n",
    "            y,\n",
    "            xaxis = :log2,\n",
    "            group=group,\n",
    "            xlabel = \"Threads\",\n",
    "            xticks = [2 ^ x for x in 0:max_thread_power],\n",
    "            alpha = 0.6,\n",
    "            labels = series_label,\n",
    "            legend = :topright)\n",
    "    end\n",
    "\n",
    "    if hline != []\n",
    "        plot!(x,\n",
    "            hline,\n",
    "            xaxis = :log2,\n",
    "            xlabel = \"Threads\",\n",
    "            xticks = [2 ^ x for x in 0:max_thread_power],\n",
    "            labels = target_label,\n",
    "            line = :dash,\n",
    "            width = 2.0)\n",
    "    end\n",
    "\n",
    "    return p\n",
    "end\n",
    "data_full_picture = parsed_results[parsed_results.region .== \"Full Picture\",:]\n",
    "data_seahorse_valley = parsed_results[parsed_results.region .== \"Seahorse Valley\",:]"
   ]
  },
  {
   "cell_type": "code",
   "execution_count": 36,
   "metadata": {},
   "outputs": [
    {
     "data": {
      "image/svg+xml": [
       "<?xml version=\"1.0\" encoding=\"UTF-8\"?>\n",
       "<svg xmlns=\"http://www.w3.org/2000/svg\" xmlns:xlink=\"http://www.w3.org/1999/xlink\" width=\"420.951pt\" height=\"274.643pt\" viewBox=\"0 0 420.951 274.643\" version=\"1.2\">\n",
       "<defs>\n",
       "<g>\n",
       "<symbol overflow=\"visible\" id=\"glyph-1590679227147656-0-0\">\n",
       "<path style=\"stroke:none;\" d=\"\"/>\n",
       "</symbol>\n",
       "<symbol overflow=\"visible\" id=\"glyph-1590679227147656-0-1\">\n",
       "<path style=\"stroke:none;\" d=\"M 2.25 -1.625 C 2.375 -1.734375 2.703125 -2 2.828125 -2.109375 C 3.328125 -2.5625 3.796875 -3 3.796875 -3.734375 C 3.796875 -4.671875 3 -5.28125 2 -5.28125 C 1.046875 -5.28125 0.421875 -4.5625 0.421875 -3.859375 C 0.421875 -3.46875 0.734375 -3.40625 0.84375 -3.40625 C 1.015625 -3.40625 1.25 -3.53125 1.25 -3.828125 C 1.25 -4.25 0.859375 -4.25 0.765625 -4.25 C 1 -4.828125 1.53125 -5.03125 1.921875 -5.03125 C 2.65625 -5.03125 3.03125 -4.390625 3.03125 -3.734375 C 3.03125 -2.90625 2.453125 -2.296875 1.515625 -1.34375 L 0.515625 -0.296875 C 0.421875 -0.21875 0.421875 -0.203125 0.421875 0 L 3.5625 0 L 3.796875 -1.421875 L 3.546875 -1.421875 C 3.515625 -1.265625 3.453125 -0.859375 3.359375 -0.71875 C 3.3125 -0.65625 2.71875 -0.65625 2.578125 -0.65625 L 1.171875 -0.65625 Z M 2.25 -1.625 \"/>\n",
       "</symbol>\n",
       "<symbol overflow=\"visible\" id=\"glyph-1590679227147656-0-2\">\n",
       "<path style=\"stroke:none;\" d=\"M 3.890625 -2.53125 C 3.890625 -3.390625 3.796875 -3.90625 3.546875 -4.40625 C 3.1875 -5.109375 2.546875 -5.28125 2.109375 -5.28125 C 1.109375 -5.28125 0.734375 -4.546875 0.625 -4.3125 C 0.34375 -3.734375 0.328125 -2.953125 0.328125 -2.53125 C 0.328125 -2.015625 0.34375 -1.203125 0.734375 -0.578125 C 1.09375 0.015625 1.6875 0.171875 2.109375 0.171875 C 2.484375 0.171875 3.171875 0.046875 3.578125 -0.734375 C 3.859375 -1.3125 3.890625 -2.015625 3.890625 -2.53125 Z M 2.109375 -0.0625 C 1.84375 -0.0625 1.28125 -0.1875 1.125 -1.015625 C 1.03125 -1.46875 1.03125 -2.21875 1.03125 -2.625 C 1.03125 -3.1875 1.03125 -3.734375 1.125 -4.171875 C 1.28125 -4.984375 1.90625 -5.0625 2.109375 -5.0625 C 2.375 -5.0625 2.921875 -4.9375 3.078125 -4.203125 C 3.1875 -3.765625 3.1875 -3.171875 3.1875 -2.625 C 3.1875 -2.15625 3.1875 -1.453125 3.078125 -1 C 2.921875 -0.171875 2.375 -0.0625 2.109375 -0.0625 Z M 2.109375 -0.0625 \"/>\n",
       "</symbol>\n",
       "<symbol overflow=\"visible\" id=\"glyph-1590679227147656-0-3\">\n",
       "<path style=\"stroke:none;\" d=\"M 2.5 -5.0625 C 2.5 -5.28125 2.484375 -5.28125 2.265625 -5.28125 C 1.9375 -4.96875 1.515625 -4.78125 0.765625 -4.78125 L 0.765625 -4.515625 C 0.984375 -4.515625 1.40625 -4.515625 1.875 -4.734375 L 1.875 -0.65625 C 1.875 -0.359375 1.84375 -0.265625 1.09375 -0.265625 L 0.8125 -0.265625 L 0.8125 0 C 1.140625 -0.03125 1.828125 -0.03125 2.171875 -0.03125 C 2.53125 -0.03125 3.234375 -0.03125 3.5625 0 L 3.5625 -0.265625 L 3.28125 -0.265625 C 2.515625 -0.265625 2.5 -0.359375 2.5 -0.65625 Z M 2.5 -5.0625 \"/>\n",
       "</symbol>\n",
       "<symbol overflow=\"visible\" id=\"glyph-1590679227147656-0-4\">\n",
       "<path style=\"stroke:none;\" d=\"M 1.109375 -4.46875 C 1.21875 -4.4375 1.53125 -4.359375 1.875 -4.359375 C 2.859375 -4.359375 3.46875 -5.0625 3.46875 -5.171875 C 3.46875 -5.265625 3.40625 -5.28125 3.375 -5.28125 C 3.359375 -5.28125 3.34375 -5.28125 3.265625 -5.25 C 2.953125 -5.125 2.59375 -5.03125 2.15625 -5.03125 C 1.6875 -5.03125 1.296875 -5.15625 1.0625 -5.25 C 0.984375 -5.28125 0.96875 -5.28125 0.953125 -5.28125 C 0.84375 -5.28125 0.84375 -5.203125 0.84375 -5.0625 L 0.84375 -2.734375 C 0.84375 -2.578125 0.84375 -2.484375 0.984375 -2.484375 C 1.046875 -2.484375 1.0625 -2.515625 1.109375 -2.578125 C 1.203125 -2.703125 1.5 -3.109375 2.171875 -3.109375 C 2.625 -3.109375 2.84375 -2.75 2.90625 -2.59375 C 3.046875 -2.3125 3.0625 -1.9375 3.0625 -1.625 C 3.0625 -1.34375 3.046875 -0.90625 2.828125 -0.5625 C 2.6875 -0.3125 2.359375 -0.078125 1.9375 -0.078125 C 1.421875 -0.078125 0.921875 -0.390625 0.734375 -0.921875 C 0.75 -0.90625 0.796875 -0.90625 0.8125 -0.90625 C 1.03125 -0.90625 1.203125 -1.046875 1.203125 -1.296875 C 1.203125 -1.59375 0.984375 -1.6875 0.8125 -1.6875 C 0.671875 -1.6875 0.421875 -1.609375 0.421875 -1.265625 C 0.421875 -0.5625 1.046875 0.171875 1.953125 0.171875 C 2.953125 0.171875 3.796875 -0.609375 3.796875 -1.59375 C 3.796875 -2.515625 3.125 -3.328125 2.1875 -3.328125 C 1.796875 -3.328125 1.421875 -3.203125 1.109375 -2.9375 Z M 1.109375 -4.46875 \"/>\n",
       "</symbol>\n",
       "<symbol overflow=\"visible\" id=\"glyph-1590679227147656-1-0\">\n",
       "<path style=\"stroke:none;\" d=\"\"/>\n",
       "</symbol>\n",
       "<symbol overflow=\"visible\" id=\"glyph-1590679227147656-1-1\">\n",
       "<path style=\"stroke:none;\" d=\"M 3.28125 -1.90625 C 3.28125 -2.34375 3.28125 -3.96875 1.828125 -3.96875 C 0.359375 -3.96875 0.359375 -2.34375 0.359375 -1.90625 C 0.359375 -1.46875 0.359375 0.125 1.828125 0.125 C 3.28125 0.125 3.28125 -1.46875 3.28125 -1.90625 Z M 1.828125 -0.0625 C 1.5625 -0.0625 1.15625 -0.1875 1.015625 -0.6875 C 0.921875 -1.03125 0.921875 -1.609375 0.921875 -1.984375 C 0.921875 -2.375 0.921875 -2.84375 1.015625 -3.15625 C 1.15625 -3.703125 1.609375 -3.78125 1.828125 -3.78125 C 2.09375 -3.78125 2.484375 -3.640625 2.625 -3.1875 C 2.703125 -2.875 2.71875 -2.4375 2.71875 -1.984375 C 2.71875 -1.59375 2.71875 -1 2.609375 -0.65625 C 2.453125 -0.140625 2.015625 -0.0625 1.828125 -0.0625 Z M 1.828125 -0.0625 \"/>\n",
       "</symbol>\n",
       "<symbol overflow=\"visible\" id=\"glyph-1590679227147656-1-2\">\n",
       "<path style=\"stroke:none;\" d=\"M 2.140625 -3.796875 C 2.140625 -3.96875 2.125 -3.96875 1.9375 -3.96875 C 1.546875 -3.59375 0.9375 -3.59375 0.71875 -3.59375 L 0.71875 -3.359375 C 0.875 -3.359375 1.265625 -3.359375 1.625 -3.515625 L 1.625 -0.5 C 1.625 -0.3125 1.625 -0.234375 1.015625 -0.234375 L 0.765625 -0.234375 L 0.765625 0 C 1.09375 -0.03125 1.546875 -0.03125 1.890625 -0.03125 C 2.21875 -0.03125 2.6875 -0.03125 3.015625 0 L 3.015625 -0.234375 L 2.75 -0.234375 C 2.140625 -0.234375 2.140625 -0.3125 2.140625 -0.5 Z M 2.140625 -3.796875 \"/>\n",
       "</symbol>\n",
       "<symbol overflow=\"visible\" id=\"glyph-1590679227147656-1-3\">\n",
       "<path style=\"stroke:none;\" d=\"M 3.21875 -1.109375 L 2.984375 -1.109375 C 2.984375 -1.03125 2.921875 -0.640625 2.828125 -0.578125 C 2.78125 -0.53125 2.296875 -0.53125 2.21875 -0.53125 L 1.109375 -0.53125 L 1.875 -1.15625 C 2.078125 -1.3125 2.609375 -1.703125 2.78125 -1.875 C 2.96875 -2.0625 3.21875 -2.359375 3.21875 -2.78125 C 3.21875 -3.53125 2.53125 -3.96875 1.734375 -3.96875 C 0.96875 -3.96875 0.4375 -3.46875 0.4375 -2.90625 C 0.4375 -2.59375 0.6875 -2.5625 0.75 -2.5625 C 0.90625 -2.5625 1.078125 -2.671875 1.078125 -2.890625 C 1.078125 -3.015625 1 -3.203125 0.734375 -3.203125 C 0.875 -3.515625 1.234375 -3.734375 1.640625 -3.734375 C 2.28125 -3.734375 2.609375 -3.265625 2.609375 -2.78125 C 2.609375 -2.359375 2.328125 -1.921875 1.90625 -1.546875 L 0.5 -0.25 C 0.4375 -0.1875 0.4375 -0.1875 0.4375 0 L 3.03125 0 Z M 3.21875 -1.109375 \"/>\n",
       "</symbol>\n",
       "<symbol overflow=\"visible\" id=\"glyph-1590679227147656-1-4\">\n",
       "<path style=\"stroke:none;\" d=\"M 1.75 -1.984375 C 2.265625 -1.984375 2.609375 -1.640625 2.609375 -1.03125 C 2.609375 -0.375 2.203125 -0.09375 1.765625 -0.09375 C 1.609375 -0.09375 1 -0.125 0.734375 -0.46875 C 0.96875 -0.5 1.0625 -0.65625 1.0625 -0.8125 C 1.0625 -1.015625 0.90625 -1.15625 0.71875 -1.15625 C 0.5625 -1.15625 0.375 -1.046875 0.375 -0.796875 C 0.375 -0.203125 1.03125 0.125 1.796875 0.125 C 2.671875 0.125 3.265625 -0.4375 3.265625 -1.03125 C 3.265625 -1.46875 2.9375 -1.921875 2.21875 -2.109375 C 2.6875 -2.265625 3.078125 -2.640625 3.078125 -3.140625 C 3.078125 -3.609375 2.515625 -3.96875 1.796875 -3.96875 C 1.09375 -3.96875 0.5625 -3.640625 0.5625 -3.15625 C 0.5625 -2.90625 0.765625 -2.828125 0.890625 -2.828125 C 1.03125 -2.828125 1.203125 -2.9375 1.203125 -3.140625 C 1.203125 -3.328125 1.0625 -3.4375 0.90625 -3.46875 C 1.1875 -3.765625 1.734375 -3.765625 1.78125 -3.765625 C 2.09375 -3.765625 2.46875 -3.625 2.46875 -3.140625 C 2.46875 -2.8125 2.28125 -2.234375 1.6875 -2.203125 C 1.578125 -2.1875 1.421875 -2.171875 1.359375 -2.171875 C 1.3125 -2.171875 1.234375 -2.171875 1.234375 -2.078125 C 1.234375 -1.984375 1.3125 -1.984375 1.40625 -1.984375 Z M 1.75 -1.984375 \"/>\n",
       "</symbol>\n",
       "<symbol overflow=\"visible\" id=\"glyph-1590679227147656-2-0\">\n",
       "<path style=\"stroke:none;\" d=\"\"/>\n",
       "</symbol>\n",
       "<symbol overflow=\"visible\" id=\"glyph-1590679227147656-2-1\">\n",
       "<path style=\"stroke:none;\" d=\"M 1.609375 -0.4375 C 1.609375 -0.703125 1.390625 -0.875 1.171875 -0.875 C 0.921875 -0.875 0.734375 -0.671875 0.734375 -0.453125 C 0.734375 -0.171875 0.953125 0 1.171875 0 C 1.421875 0 1.609375 -0.203125 1.609375 -0.4375 Z M 1.609375 -0.4375 \"/>\n",
       "</symbol>\n",
       "<symbol overflow=\"visible\" id=\"glyph-1590679227147656-3-0\">\n",
       "<path style=\"stroke:none;\" d=\"\"/>\n",
       "</symbol>\n",
       "<symbol overflow=\"visible\" id=\"glyph-1590679227147656-3-1\">\n",
       "<path style=\"stroke:none;\" d=\"M 7.34375 -4.96875 L 7.140625 -7.421875 L 0.578125 -7.421875 L 0.375 -4.96875 L 0.625 -4.96875 C 0.78125 -6.703125 0.875 -7.09375 2.609375 -7.09375 C 2.796875 -7.09375 3.109375 -7.09375 3.1875 -7.078125 C 3.40625 -7.046875 3.421875 -6.90625 3.421875 -6.65625 L 3.421875 -0.84375 C 3.421875 -0.46875 3.421875 -0.3125 2.34375 -0.3125 L 1.953125 -0.3125 L 1.953125 0 C 2.3125 -0.015625 3.4375 -0.015625 3.859375 -0.015625 C 4.28125 -0.015625 5.421875 -0.015625 5.78125 0 L 5.78125 -0.3125 L 5.375 -0.3125 C 4.3125 -0.3125 4.3125 -0.46875 4.3125 -0.84375 L 4.3125 -6.65625 C 4.3125 -6.9375 4.328125 -7.03125 4.5 -7.078125 C 4.59375 -7.09375 4.90625 -7.09375 5.125 -7.09375 C 6.84375 -7.09375 6.9375 -6.703125 7.09375 -4.96875 Z M 7.34375 -4.96875 \"/>\n",
       "</symbol>\n",
       "<symbol overflow=\"visible\" id=\"glyph-1590679227147656-3-2\">\n",
       "<path style=\"stroke:none;\" d=\"M 5.703125 0 L 5.703125 -0.3125 C 5.15625 -0.3125 4.875 -0.3125 4.859375 -0.640625 L 4.859375 -2.65625 C 4.859375 -3.671875 4.859375 -3.984375 4.609375 -4.328125 C 4.296875 -4.75 3.78125 -4.828125 3.40625 -4.828125 C 2.46875 -4.828125 2.03125 -4.109375 1.875 -3.765625 L 1.875 -7.59375 L 0.34375 -7.46875 L 0.34375 -7.15625 C 1.09375 -7.15625 1.1875 -7.078125 1.1875 -6.546875 L 1.1875 -0.8125 C 1.1875 -0.3125 1.0625 -0.3125 0.34375 -0.3125 L 0.34375 0 C 0.640625 -0.015625 1.21875 -0.015625 1.53125 -0.015625 C 1.84375 -0.015625 2.4375 -0.015625 2.71875 0 L 2.71875 -0.3125 C 2.015625 -0.3125 1.890625 -0.3125 1.890625 -0.8125 L 1.890625 -2.84375 C 1.890625 -3.984375 2.640625 -4.609375 3.328125 -4.609375 C 4 -4.609375 4.15625 -4.046875 4.15625 -3.375 L 4.15625 -0.8125 C 4.15625 -0.3125 4.03125 -0.3125 3.328125 -0.3125 L 3.328125 0 C 3.609375 -0.015625 4.203125 -0.015625 4.5 -0.015625 C 4.828125 -0.015625 5.40625 -0.015625 5.703125 0 Z M 5.703125 0 \"/>\n",
       "</symbol>\n",
       "<symbol overflow=\"visible\" id=\"glyph-1590679227147656-3-3\">\n",
       "<path style=\"stroke:none;\" d=\"M 3.859375 -4.1875 C 3.859375 -4.515625 3.5625 -4.828125 3.09375 -4.828125 C 2.171875 -4.828125 1.84375 -3.8125 1.78125 -3.609375 L 1.765625 -3.609375 L 1.765625 -4.828125 L 0.3125 -4.703125 L 0.3125 -4.390625 C 1.046875 -4.390625 1.140625 -4.3125 1.140625 -3.765625 L 1.140625 -0.8125 C 1.140625 -0.3125 1.015625 -0.3125 0.3125 -0.3125 L 0.3125 0 C 0.609375 -0.015625 1.21875 -0.015625 1.546875 -0.015625 C 1.84375 -0.015625 2.609375 -0.015625 2.859375 0 L 2.859375 -0.3125 L 2.640625 -0.3125 C 1.84375 -0.3125 1.828125 -0.4375 1.828125 -0.828125 L 1.828125 -2.546875 C 1.828125 -3.609375 2.265625 -4.609375 3.109375 -4.609375 C 3.1875 -4.609375 3.21875 -4.609375 3.265625 -4.59375 C 3.171875 -4.546875 3 -4.484375 3 -4.1875 C 3 -3.875 3.25 -3.75 3.421875 -3.75 C 3.640625 -3.75 3.859375 -3.890625 3.859375 -4.1875 Z M 3.859375 -4.1875 \"/>\n",
       "</symbol>\n",
       "<symbol overflow=\"visible\" id=\"glyph-1590679227147656-3-4\">\n",
       "<path style=\"stroke:none;\" d=\"M 4.453125 -1.296875 C 4.453125 -1.359375 4.390625 -1.40625 4.328125 -1.40625 C 4.25 -1.40625 4.21875 -1.359375 4.203125 -1.296875 C 3.921875 -0.375 3.1875 -0.125 2.71875 -0.125 C 2.265625 -0.125 1.15625 -0.4375 1.15625 -2.328125 L 1.15625 -2.53125 L 4.1875 -2.53125 C 4.421875 -2.53125 4.453125 -2.53125 4.453125 -2.75 C 4.453125 -3.84375 3.859375 -4.875 2.53125 -4.875 C 1.296875 -4.875 0.328125 -3.75 0.328125 -2.390625 C 0.328125 -0.953125 1.4375 0.109375 2.65625 0.109375 C 3.953125 0.109375 4.453125 -1.078125 4.453125 -1.296875 Z M 3.765625 -2.75 L 1.171875 -2.75 C 1.25 -4.46875 2.21875 -4.65625 2.53125 -4.65625 C 3.703125 -4.65625 3.765625 -3.109375 3.765625 -2.75 Z M 3.765625 -2.75 \"/>\n",
       "</symbol>\n",
       "<symbol overflow=\"visible\" id=\"glyph-1590679227147656-3-5\">\n",
       "<path style=\"stroke:none;\" d=\"M 5.1875 -0.96875 L 5.1875 -1.578125 L 4.9375 -1.578125 L 4.9375 -0.96875 C 4.9375 -0.34375 4.6875 -0.265625 4.53125 -0.265625 C 4.109375 -0.265625 4.109375 -0.84375 4.109375 -1 L 4.109375 -2.921875 C 4.109375 -3.515625 4.109375 -3.953125 3.625 -4.375 C 3.25 -4.71875 2.75 -4.875 2.28125 -4.875 C 1.375 -4.875 0.6875 -4.28125 0.6875 -3.578125 C 0.6875 -3.265625 0.890625 -3.109375 1.140625 -3.109375 C 1.40625 -3.109375 1.59375 -3.296875 1.59375 -3.546875 C 1.59375 -4 1.203125 -4 1.03125 -4 C 1.296875 -4.46875 1.8125 -4.65625 2.25 -4.65625 C 2.75 -4.65625 3.40625 -4.25 3.40625 -3.265625 L 3.40625 -2.828125 C 1.203125 -2.78125 0.375 -1.875 0.375 -1.03125 C 0.375 -0.15625 1.375 0.109375 2.046875 0.109375 C 2.765625 0.109375 3.265625 -0.328125 3.46875 -0.859375 C 3.515625 -0.34375 3.84375 0.046875 4.3125 0.046875 C 4.546875 0.046875 5.1875 -0.09375 5.1875 -0.96875 Z M 3.40625 -1.546875 C 3.40625 -0.46875 2.609375 -0.109375 2.125 -0.109375 C 1.59375 -0.109375 1.140625 -0.5 1.140625 -1.03125 C 1.140625 -2.46875 3 -2.609375 3.40625 -2.625 Z M 3.40625 -1.546875 \"/>\n",
       "</symbol>\n",
       "<symbol overflow=\"visible\" id=\"glyph-1590679227147656-3-6\">\n",
       "<path style=\"stroke:none;\" d=\"M 5.625 0 L 5.625 -0.3125 C 4.890625 -0.3125 4.796875 -0.390625 4.796875 -0.921875 L 4.796875 -7.59375 L 3.28125 -7.46875 L 3.28125 -7.15625 C 4.03125 -7.15625 4.109375 -7.078125 4.109375 -6.546875 L 4.109375 -4.125 C 3.875 -4.4375 3.40625 -4.828125 2.75 -4.828125 C 1.46875 -4.828125 0.375 -3.75 0.375 -2.34375 C 0.375 -0.96875 1.421875 0.109375 2.625 0.109375 C 3.453125 0.109375 3.9375 -0.4375 4.09375 -0.640625 L 4.09375 0.109375 Z M 4.09375 -1.28125 C 4.09375 -1.078125 4.09375 -1.046875 3.9375 -0.8125 C 3.671875 -0.421875 3.21875 -0.109375 2.671875 -0.109375 C 2.390625 -0.109375 1.21875 -0.21875 1.21875 -2.34375 C 1.21875 -3.125 1.34375 -3.5625 1.578125 -3.921875 C 1.796875 -4.265625 2.234375 -4.609375 2.78125 -4.609375 C 3.46875 -4.609375 3.84375 -4.109375 3.953125 -3.9375 C 4.09375 -3.75 4.09375 -3.734375 4.09375 -3.53125 Z M 4.09375 -1.28125 \"/>\n",
       "</symbol>\n",
       "<symbol overflow=\"visible\" id=\"glyph-1590679227147656-3-7\">\n",
       "<path style=\"stroke:none;\" d=\"M 3.84375 -1.390625 C 3.84375 -1.984375 3.484375 -2.328125 3.390625 -2.421875 C 3 -2.765625 2.703125 -2.828125 1.984375 -2.96875 C 1.65625 -3.03125 0.859375 -3.1875 0.859375 -3.84375 C 0.859375 -4.171875 1.078125 -4.6875 2.0625 -4.6875 C 3.265625 -4.6875 3.328125 -3.65625 3.34375 -3.328125 C 3.359375 -3.234375 3.4375 -3.234375 3.46875 -3.234375 C 3.59375 -3.234375 3.59375 -3.296875 3.59375 -3.484375 L 3.59375 -4.625 C 3.59375 -4.828125 3.59375 -4.875 3.484375 -4.875 C 3.390625 -4.875 3.1875 -4.640625 3.109375 -4.53125 C 2.765625 -4.8125 2.421875 -4.875 2.078125 -4.875 C 0.75 -4.875 0.359375 -4.15625 0.359375 -3.546875 C 0.359375 -3.4375 0.359375 -3.046875 0.78125 -2.671875 C 1.125 -2.359375 1.5 -2.28125 2 -2.1875 C 2.609375 -2.0625 2.75 -2.03125 3.015625 -1.8125 C 3.21875 -1.65625 3.359375 -1.40625 3.359375 -1.109375 C 3.359375 -0.640625 3.078125 -0.109375 2.125 -0.109375 C 1.40625 -0.109375 0.875 -0.53125 0.640625 -1.625 C 0.59375 -1.8125 0.578125 -1.84375 0.578125 -1.84375 C 0.5625 -1.875 0.515625 -1.875 0.484375 -1.875 C 0.359375 -1.875 0.359375 -1.828125 0.359375 -1.625 L 0.359375 -0.140625 C 0.359375 0.046875 0.359375 0.109375 0.46875 0.109375 C 0.53125 0.109375 0.53125 0.09375 0.71875 -0.125 C 0.78125 -0.203125 0.78125 -0.234375 0.9375 -0.40625 C 1.359375 0.109375 1.953125 0.109375 2.125 0.109375 C 3.28125 0.109375 3.84375 -0.53125 3.84375 -1.390625 Z M 3.84375 -1.390625 \"/>\n",
       "</symbol>\n",
       "<symbol overflow=\"visible\" id=\"glyph-1590679227147656-4-0\">\n",
       "<path style=\"stroke:none;\" d=\"\"/>\n",
       "</symbol>\n",
       "<symbol overflow=\"visible\" id=\"glyph-1590679227147656-4-1\">\n",
       "<path style=\"stroke:none;\" d=\"M 3.984375 -1.6875 C 3.984375 -2.6875 3.15625 -3.546875 2.109375 -3.546875 C 1.0625 -3.546875 0.234375 -2.6875 0.234375 -1.6875 C 0.234375 -0.703125 1.09375 0.078125 2.109375 0.078125 C 3.140625 0.078125 3.984375 -0.703125 3.984375 -1.6875 Z M 3.265625 -1.765625 C 3.265625 -1.40625 3.25 -0.96875 3.03125 -0.625 C 2.8125 -0.3125 2.453125 -0.171875 2.109375 -0.171875 C 1.671875 -0.171875 1.34375 -0.375 1.171875 -0.65625 C 0.96875 -0.984375 0.953125 -1.375 0.953125 -1.765625 C 0.953125 -2.0625 0.953125 -2.546875 1.1875 -2.890625 C 1.40625 -3.171875 1.734375 -3.328125 2.109375 -3.328125 C 2.515625 -3.328125 2.859375 -3.125 3.046875 -2.84375 C 3.265625 -2.515625 3.265625 -2.078125 3.265625 -1.765625 Z M 3.265625 -1.765625 \"/>\n",
       "</symbol>\n",
       "<symbol overflow=\"visible\" id=\"glyph-1590679227147656-4-2\">\n",
       "<path style=\"stroke:none;\" d=\"M 6.8125 0 L 6.8125 -0.265625 C 6.3125 -0.265625 6.21875 -0.265625 6.21875 -0.625 L 6.21875 -2.40625 C 6.21875 -3.046875 5.9375 -3.5 5.0625 -3.5 C 4.328125 -3.5 3.96875 -3 3.84375 -2.78125 C 3.703125 -3.34375 3.25 -3.5 2.734375 -3.5 C 1.953125 -3.5 1.59375 -2.953125 1.484375 -2.75 L 1.484375 -3.5 L 0.328125 -3.421875 L 0.328125 -3.15625 C 0.859375 -3.15625 0.9375 -3.109375 0.9375 -2.71875 L 0.9375 -0.625 C 0.9375 -0.265625 0.828125 -0.265625 0.328125 -0.265625 L 0.328125 0 C 0.671875 -0.03125 1.015625 -0.03125 1.234375 -0.03125 C 1.46875 -0.03125 1.796875 -0.03125 2.140625 0 L 2.140625 -0.265625 C 1.625 -0.265625 1.53125 -0.265625 1.53125 -0.625 L 1.53125 -2.0625 C 1.53125 -2.890625 2.15625 -3.28125 2.671875 -3.28125 C 3.1875 -3.28125 3.265625 -2.875 3.265625 -2.4375 L 3.265625 -0.625 C 3.265625 -0.265625 3.171875 -0.265625 2.671875 -0.265625 L 2.671875 0 C 3 -0.03125 3.359375 -0.03125 3.578125 -0.03125 C 3.796875 -0.03125 4.140625 -0.03125 4.484375 0 L 4.484375 -0.265625 C 3.96875 -0.265625 3.875 -0.265625 3.875 -0.625 L 3.875 -2.0625 C 3.875 -2.890625 4.5 -3.28125 5 -3.28125 C 5.515625 -3.28125 5.609375 -2.875 5.609375 -2.4375 L 5.609375 -0.625 C 5.609375 -0.265625 5.515625 -0.265625 5 -0.265625 L 5 0 C 5.34375 -0.03125 5.6875 -0.03125 5.90625 -0.03125 C 6.140625 -0.03125 6.46875 -0.03125 6.8125 0 Z M 6.8125 0 \"/>\n",
       "</symbol>\n",
       "<symbol overflow=\"visible\" id=\"glyph-1590679227147656-4-3\">\n",
       "<path style=\"stroke:none;\" d=\"M 4.40625 -1.71875 C 4.40625 -2.71875 3.609375 -3.5 2.640625 -3.5 C 2.328125 -3.5 1.875 -3.421875 1.46875 -3.015625 L 1.46875 -3.5 L 0.28125 -3.421875 L 0.28125 -3.15625 C 0.84375 -3.15625 0.875 -3.109375 0.875 -2.78125 L 0.875 0.921875 C 0.875 1.28125 0.78125 1.28125 0.28125 1.28125 L 0.28125 1.546875 C 0.625 1.515625 0.96875 1.515625 1.1875 1.515625 C 1.421875 1.515625 1.75 1.515625 2.09375 1.546875 L 2.09375 1.28125 C 1.578125 1.28125 1.484375 1.28125 1.484375 0.921875 L 1.484375 -0.390625 C 1.859375 0.015625 2.265625 0.078125 2.515625 0.078125 C 3.53125 0.078125 4.40625 -0.703125 4.40625 -1.71875 Z M 3.703125 -1.71875 C 3.703125 -0.796875 3.125 -0.140625 2.484375 -0.140625 C 2.203125 -0.140625 1.84375 -0.265625 1.578125 -0.65625 C 1.484375 -0.796875 1.484375 -0.796875 1.484375 -0.953125 L 1.484375 -2.640625 C 1.671875 -2.96875 2.0625 -3.265625 2.5625 -3.265625 C 3.1875 -3.265625 3.703125 -2.578125 3.703125 -1.71875 Z M 3.703125 -1.71875 \"/>\n",
       "</symbol>\n",
       "<symbol overflow=\"visible\" id=\"glyph-1590679227147656-4-4\">\n",
       "<path style=\"stroke:none;\" d=\"M 2.8125 -1 L 2.8125 -1.4375 L 2.5625 -1.4375 L 2.5625 -1.015625 C 2.5625 -0.46875 2.3125 -0.171875 2.015625 -0.171875 C 1.484375 -0.171875 1.484375 -0.84375 1.484375 -0.984375 L 1.484375 -3.171875 L 2.671875 -3.171875 L 2.671875 -3.421875 L 1.484375 -3.421875 L 1.484375 -4.890625 L 1.234375 -4.890625 C 1.21875 -4.171875 0.90625 -3.40625 0.15625 -3.390625 L 0.15625 -3.171875 L 0.875 -3.171875 L 0.875 -1 C 0.875 -0.0625 1.59375 0.078125 1.953125 0.078125 C 2.484375 0.078125 2.8125 -0.390625 2.8125 -1 Z M 2.8125 -1 \"/>\n",
       "</symbol>\n",
       "<symbol overflow=\"visible\" id=\"glyph-1590679227147656-4-5\">\n",
       "<path style=\"stroke:none;\" d=\"M 4.46875 0 L 4.46875 -0.265625 C 3.953125 -0.265625 3.859375 -0.265625 3.859375 -0.625 L 3.859375 -2.40625 C 3.859375 -3.078125 3.5625 -3.5 2.734375 -3.5 C 2.03125 -3.5 1.65625 -3.0625 1.515625 -2.8125 L 1.515625 -5.515625 L 0.328125 -5.4375 L 0.328125 -5.171875 C 0.859375 -5.171875 0.9375 -5.109375 0.9375 -4.71875 L 0.9375 -0.625 C 0.9375 -0.265625 0.828125 -0.265625 0.328125 -0.265625 L 0.328125 0 C 0.671875 -0.03125 1.015625 -0.03125 1.234375 -0.03125 C 1.46875 -0.03125 1.796875 -0.03125 2.140625 0 L 2.140625 -0.265625 C 1.625 -0.265625 1.53125 -0.265625 1.53125 -0.625 L 1.53125 -2.0625 C 1.53125 -2.890625 2.171875 -3.28125 2.65625 -3.28125 C 3.140625 -3.28125 3.265625 -2.9375 3.265625 -2.4375 L 3.265625 -0.625 C 3.265625 -0.265625 3.171875 -0.265625 2.65625 -0.265625 L 2.65625 0 C 3 -0.03125 3.34375 -0.03125 3.5625 -0.03125 C 3.796875 -0.03125 4.125 -0.03125 4.46875 0 Z M 4.46875 0 \"/>\n",
       "</symbol>\n",
       "<symbol overflow=\"visible\" id=\"glyph-1590679227147656-4-6\">\n",
       "<path style=\"stroke:none;\" d=\"M 3.046875 -1.03125 C 3.046875 -1.40625 2.8125 -1.96875 1.875 -2.140625 C 1.8125 -2.15625 1.359375 -2.234375 1.328125 -2.234375 C 1.078125 -2.296875 0.703125 -2.453125 0.703125 -2.78125 C 0.703125 -3.015625 0.875 -3.34375 1.640625 -3.34375 C 2.53125 -3.34375 2.5625 -2.703125 2.578125 -2.46875 C 2.59375 -2.40625 2.640625 -2.390625 2.703125 -2.390625 C 2.828125 -2.390625 2.828125 -2.4375 2.828125 -2.59375 L 2.828125 -3.34375 C 2.828125 -3.46875 2.828125 -3.546875 2.734375 -3.546875 C 2.6875 -3.546875 2.671875 -3.546875 2.53125 -3.421875 C 2.515625 -3.40625 2.453125 -3.34375 2.421875 -3.34375 C 2.421875 -3.34375 2.40625 -3.34375 2.359375 -3.375 C 2.234375 -3.453125 2 -3.546875 1.640625 -3.546875 C 0.53125 -3.546875 0.28125 -2.9375 0.28125 -2.5625 C 0.28125 -2.15625 0.578125 -1.9375 0.59375 -1.90625 C 0.921875 -1.671875 1.09375 -1.640625 1.625 -1.546875 C 2 -1.46875 2.609375 -1.359375 2.609375 -0.8125 C 2.609375 -0.515625 2.40625 -0.140625 1.671875 -0.140625 C 0.875 -0.140625 0.640625 -0.765625 0.546875 -1.1875 C 0.515625 -1.28125 0.5 -1.328125 0.40625 -1.328125 C 0.28125 -1.328125 0.28125 -1.265625 0.28125 -1.109375 L 0.28125 -0.125 C 0.28125 0 0.28125 0.078125 0.375 0.078125 C 0.421875 0.078125 0.4375 0.078125 0.578125 -0.078125 C 0.625 -0.125 0.703125 -0.21875 0.75 -0.265625 C 1.109375 0.0625 1.484375 0.078125 1.6875 0.078125 C 2.703125 0.078125 3.046875 -0.5 3.046875 -1.03125 Z M 3.046875 -1.03125 \"/>\n",
       "</symbol>\n",
       "<symbol overflow=\"visible\" id=\"glyph-1590679227147656-4-7\">\n",
       "<path style=\"stroke:none;\" d=\"M 3.5 -0.953125 C 3.5 -0.984375 3.484375 -1.0625 3.375 -1.0625 C 3.296875 -1.0625 3.28125 -1.015625 3.265625 -0.96875 C 2.96875 -0.1875 2.296875 -0.171875 2.140625 -0.171875 C 1.796875 -0.171875 1.421875 -0.328125 1.1875 -0.703125 C 0.953125 -1.0625 0.953125 -1.578125 0.953125 -1.8125 L 3.28125 -1.8125 C 3.453125 -1.8125 3.5 -1.8125 3.5 -2 C 3.5 -2.703125 3.125 -3.546875 2 -3.546875 C 1.015625 -3.546875 0.234375 -2.734375 0.234375 -1.734375 C 0.234375 -0.71875 1.09375 0.078125 2.09375 0.078125 C 3.109375 0.078125 3.5 -0.765625 3.5 -0.953125 Z M 2.96875 -2.015625 L 0.953125 -2.015625 C 1.03125 -3.140625 1.703125 -3.328125 2 -3.328125 C 2.921875 -3.328125 2.953125 -2.203125 2.96875 -2.015625 Z M 2.96875 -2.015625 \"/>\n",
       "</symbol>\n",
       "<symbol overflow=\"visible\" id=\"glyph-1590679227147656-4-8\">\n",
       "<path style=\"stroke:none;\" d=\"M 4.40625 1.546875 L 4.40625 1.28125 C 3.90625 1.28125 3.8125 1.28125 3.8125 0.921875 L 3.8125 -3.5 L 3.59375 -3.5 L 3.296875 -2.8125 C 3.03125 -3.234375 2.640625 -3.5 2.140625 -3.5 C 1.15625 -3.5 0.28125 -2.734375 0.28125 -1.703125 C 0.28125 -0.71875 1.09375 0.078125 2.078125 0.078125 C 2.640625 0.078125 3.015625 -0.234375 3.203125 -0.484375 L 3.203125 0.921875 C 3.203125 1.28125 3.109375 1.28125 2.59375 1.28125 L 2.59375 1.546875 C 2.9375 1.515625 3.296875 1.515625 3.5 1.515625 C 3.734375 1.515625 4.078125 1.515625 4.40625 1.546875 Z M 3.234375 -1.125 C 3.234375 -1 3.234375 -0.953125 3.109375 -0.75 C 2.8125 -0.265625 2.390625 -0.140625 2.125 -0.140625 C 1.484375 -0.140625 0.984375 -0.84375 0.984375 -1.703125 C 0.984375 -2.609375 1.578125 -3.265625 2.203125 -3.265625 C 2.84375 -3.265625 3.234375 -2.609375 3.234375 -2.171875 Z M 3.234375 -1.125 \"/>\n",
       "</symbol>\n",
       "</g>\n",
       "<clipPath id=\"clip-1590679227147656-1\">\n",
       "  <path d=\"M 0.25 0 L 420.652344 0 L 420.652344 274.285156 L 0.25 274.285156 Z M 0.25 0 \"/>\n",
       "</clipPath>\n",
       "</defs>\n",
       "<g id=\"surface1\">\n",
       "<g clip-path=\"url(#clip-1590679227147656-1)\" clip-rule=\"nonzero\">\n",
       "<path style=\" stroke:none;fill-rule:nonzero;fill:rgb(100%,100%,100%);fill-opacity:1;\" d=\"M 0.25 274.285156 L 422.230469 274.285156 L 422.230469 -1.027344 L 0.25 -1.027344 Z M 0.25 274.285156 \"/>\n",
       "<path style=\" stroke:none;fill-rule:nonzero;fill:rgb(100%,100%,100%);fill-opacity:1;\" d=\"M 0.25 274.289062 L 0.25 0 L 420.660156 0 L 420.660156 274.289062 Z M 0.25 274.289062 \"/>\n",
       "</g>\n",
       "<path style=\" stroke:none;fill-rule:nonzero;fill:rgb(100%,100%,100%);fill-opacity:1;\" d=\"M 34.859375 241.972656 L 415.871094 241.972656 L 415.871094 4.78125 L 34.859375 4.78125 Z M 34.859375 241.972656 \"/>\n",
       "<path style=\"fill:none;stroke-width:0.49814;stroke-linecap:butt;stroke-linejoin:miter;stroke:rgb(0%,0%,0%);stroke-opacity:0.1;stroke-miterlimit:10;\" d=\"M 0.000683864 0.000810926 L 0.000683864 237.500535 M 119.953279 0.000810926 L 119.953279 237.500535 M 239.941076 0.000810926 L 239.941076 237.500535 M 359.913228 0.000810926 L 359.913228 237.500535 \" transform=\"matrix(0.998702,0,0,-0.998702,45.647755,241.973466)\"/>\n",
       "<path style=\"fill:none;stroke-width:0.49814;stroke-linecap:butt;stroke-linejoin:miter;stroke:rgb(0%,0%,0%);stroke-opacity:0.1;stroke-miterlimit:10;\" d=\"M -10.802403 55.279604 L 370.704581 55.279604 M -10.802403 111.575342 L 370.704581 111.575342 M -10.802403 167.874992 L 370.704581 167.874992 M -10.802403 224.174642 L 370.704581 224.174642 \" transform=\"matrix(0.998702,0,0,-0.998702,45.647755,241.973466)\"/>\n",
       "<path style=\"fill:none;stroke-width:0.19925;stroke-linecap:butt;stroke-linejoin:miter;stroke:rgb(0%,0%,0%);stroke-opacity:1;stroke-miterlimit:10;\" d=\"M 0.000683864 0.000810926 L 0.000683864 4.252424 M 119.953279 0.000810926 L 119.953279 4.252424 M 239.941076 0.000810926 L 239.941076 4.252424 M 359.913228 0.000810926 L 359.913228 4.252424 \" transform=\"matrix(0.998702,0,0,-0.998702,45.647755,241.973466)\"/>\n",
       "<path style=\"fill:none;stroke-width:0.19925;stroke-linecap:butt;stroke-linejoin:miter;stroke:rgb(0%,0%,0%);stroke-opacity:1;stroke-miterlimit:10;\" d=\"M -10.802403 55.279604 L -6.55079 55.279604 M -10.802403 111.575342 L -6.55079 111.575342 M -10.802403 167.874992 L -6.55079 167.874992 M -10.802403 224.174642 L -6.55079 224.174642 \" transform=\"matrix(0.998702,0,0,-0.998702,45.647755,241.973466)\"/>\n",
       "<path style=\"fill:none;stroke-width:0.99628;stroke-linecap:butt;stroke-linejoin:miter;stroke:rgb(0%,0%,0%);stroke-opacity:1;stroke-miterlimit:10;\" d=\"M -10.802403 0.000810926 L 370.704581 0.000810926 \" transform=\"matrix(0.998702,0,0,-0.998702,45.647755,241.973466)\"/>\n",
       "<path style=\"fill:none;stroke-width:0.99628;stroke-linecap:butt;stroke-linejoin:miter;stroke:rgb(0%,0%,0%);stroke-opacity:1;stroke-miterlimit:10;\" d=\"M -10.802403 0.000810926 L -10.802403 237.500535 \" transform=\"matrix(0.998702,0,0,-0.998702,45.647755,241.973466)\"/>\n",
       "<g style=\"fill:rgb(0%,0%,0%);fill-opacity:1;\">\n",
       "  <use xlink:href=\"#glyph-1590679227147656-0-1\" x=\"41.461197\" y=\"252.145244\"/>\n",
       "</g>\n",
       "<g style=\"fill:rgb(0%,0%,0%);fill-opacity:1;\">\n",
       "  <use xlink:href=\"#glyph-1590679227147656-1-1\" x=\"45.6897\" y=\"249.335896\"/>\n",
       "</g>\n",
       "<g style=\"fill:rgb(0%,0%,0%);fill-opacity:1;\">\n",
       "  <use xlink:href=\"#glyph-1590679227147656-0-1\" x=\"161.258476\" y=\"252.145244\"/>\n",
       "</g>\n",
       "<g style=\"fill:rgb(0%,0%,0%);fill-opacity:1;\">\n",
       "  <use xlink:href=\"#glyph-1590679227147656-1-2\" x=\"165.486979\" y=\"249.335896\"/>\n",
       "</g>\n",
       "<g style=\"fill:rgb(0%,0%,0%);fill-opacity:1;\">\n",
       "  <use xlink:href=\"#glyph-1590679227147656-0-1\" x=\"281.088712\" y=\"252.145244\"/>\n",
       "</g>\n",
       "<g style=\"fill:rgb(0%,0%,0%);fill-opacity:1;\">\n",
       "  <use xlink:href=\"#glyph-1590679227147656-1-3\" x=\"285.317216\" y=\"249.335896\"/>\n",
       "</g>\n",
       "<g style=\"fill:rgb(0%,0%,0%);fill-opacity:1;\">\n",
       "  <use xlink:href=\"#glyph-1590679227147656-0-1\" x=\"400.902969\" y=\"252.145244\"/>\n",
       "</g>\n",
       "<g style=\"fill:rgb(0%,0%,0%);fill-opacity:1;\">\n",
       "  <use xlink:href=\"#glyph-1590679227147656-1-4\" x=\"405.131473\" y=\"249.335896\"/>\n",
       "</g>\n",
       "<g style=\"fill:rgb(0%,0%,0%);fill-opacity:1;\">\n",
       "  <use xlink:href=\"#glyph-1590679227147656-0-2\" x=\"7.852883\" y=\"189.331893\"/>\n",
       "</g>\n",
       "<g style=\"fill:rgb(0%,0%,0%);fill-opacity:1;\">\n",
       "  <use xlink:href=\"#glyph-1590679227147656-2-1\" x=\"12.082385\" y=\"189.331893\"/>\n",
       "</g>\n",
       "<g style=\"fill:rgb(0%,0%,0%);fill-opacity:1;\">\n",
       "  <use xlink:href=\"#glyph-1590679227147656-0-2\" x=\"14.431332\" y=\"189.331893\"/>\n",
       "  <use xlink:href=\"#glyph-1590679227147656-0-2\" x=\"18.660354\" y=\"189.331893\"/>\n",
       "  <use xlink:href=\"#glyph-1590679227147656-0-3\" x=\"22.889376\" y=\"189.331893\"/>\n",
       "  <use xlink:href=\"#glyph-1590679227147656-0-2\" x=\"27.118399\" y=\"189.331893\"/>\n",
       "</g>\n",
       "<g style=\"fill:rgb(0%,0%,0%);fill-opacity:1;\">\n",
       "  <use xlink:href=\"#glyph-1590679227147656-0-2\" x=\"7.852883\" y=\"133.107977\"/>\n",
       "</g>\n",
       "<g style=\"fill:rgb(0%,0%,0%);fill-opacity:1;\">\n",
       "  <use xlink:href=\"#glyph-1590679227147656-2-1\" x=\"12.082385\" y=\"133.107977\"/>\n",
       "</g>\n",
       "<g style=\"fill:rgb(0%,0%,0%);fill-opacity:1;\">\n",
       "  <use xlink:href=\"#glyph-1590679227147656-0-2\" x=\"14.431332\" y=\"133.107977\"/>\n",
       "  <use xlink:href=\"#glyph-1590679227147656-0-2\" x=\"18.660354\" y=\"133.107977\"/>\n",
       "  <use xlink:href=\"#glyph-1590679227147656-0-3\" x=\"22.889376\" y=\"133.107977\"/>\n",
       "  <use xlink:href=\"#glyph-1590679227147656-0-4\" x=\"27.118399\" y=\"133.107977\"/>\n",
       "</g>\n",
       "<g style=\"fill:rgb(0%,0%,0%);fill-opacity:1;\">\n",
       "  <use xlink:href=\"#glyph-1590679227147656-0-2\" x=\"7.852883\" y=\"76.883062\"/>\n",
       "</g>\n",
       "<g style=\"fill:rgb(0%,0%,0%);fill-opacity:1;\">\n",
       "  <use xlink:href=\"#glyph-1590679227147656-2-1\" x=\"12.082385\" y=\"76.883062\"/>\n",
       "</g>\n",
       "<g style=\"fill:rgb(0%,0%,0%);fill-opacity:1;\">\n",
       "  <use xlink:href=\"#glyph-1590679227147656-0-2\" x=\"14.431332\" y=\"76.883062\"/>\n",
       "  <use xlink:href=\"#glyph-1590679227147656-0-2\" x=\"18.660354\" y=\"76.883062\"/>\n",
       "  <use xlink:href=\"#glyph-1590679227147656-0-1\" x=\"22.889376\" y=\"76.883062\"/>\n",
       "  <use xlink:href=\"#glyph-1590679227147656-0-2\" x=\"27.118399\" y=\"76.883062\"/>\n",
       "</g>\n",
       "<g style=\"fill:rgb(0%,0%,0%);fill-opacity:1;\">\n",
       "  <use xlink:href=\"#glyph-1590679227147656-0-2\" x=\"7.852883\" y=\"20.659146\"/>\n",
       "</g>\n",
       "<g style=\"fill:rgb(0%,0%,0%);fill-opacity:1;\">\n",
       "  <use xlink:href=\"#glyph-1590679227147656-2-1\" x=\"12.082385\" y=\"20.659146\"/>\n",
       "</g>\n",
       "<g style=\"fill:rgb(0%,0%,0%);fill-opacity:1;\">\n",
       "  <use xlink:href=\"#glyph-1590679227147656-0-2\" x=\"14.431332\" y=\"20.659146\"/>\n",
       "  <use xlink:href=\"#glyph-1590679227147656-0-2\" x=\"18.660354\" y=\"20.659146\"/>\n",
       "  <use xlink:href=\"#glyph-1590679227147656-0-1\" x=\"22.889376\" y=\"20.659146\"/>\n",
       "  <use xlink:href=\"#glyph-1590679227147656-0-4\" x=\"27.118399\" y=\"20.659146\"/>\n",
       "</g>\n",
       "<path style=\"fill-rule:nonzero;fill:rgb(0%,60.559082%,97.869873%);fill-opacity:0.6;stroke-width:0.74721;stroke-linecap:butt;stroke-linejoin:miter;stroke:rgb(0%,0%,0%);stroke-opacity:0.6;stroke-miterlimit:10;\" d=\"M 2.988938 65.848011 C 2.988938 67.498592 1.651264 68.836266 0.000683864 68.836266 C -1.649896 68.836266 -2.98757 67.498592 -2.98757 65.848011 C -2.98757 64.19352 -1.649896 62.855846 0.000683864 62.855846 C 1.651264 62.855846 2.988938 64.19352 2.988938 65.848011 Z M 2.988938 65.848011 \" transform=\"matrix(0.998702,0,0,-0.998702,45.647755,241.973466)\"/>\n",
       "<path style=\"fill-rule:nonzero;fill:rgb(0%,60.559082%,97.869873%);fill-opacity:0.6;stroke-width:0.74721;stroke-linecap:butt;stroke-linejoin:miter;stroke:rgb(0%,0%,0%);stroke-opacity:0.6;stroke-miterlimit:10;\" d=\"M 122.945445 26.038519 C 122.945445 27.689099 121.603859 29.026773 119.953279 29.026773 C 118.302699 29.026773 116.965025 27.689099 116.965025 26.038519 C 116.965025 24.387939 118.302699 23.050265 119.953279 23.050265 C 121.603859 23.050265 122.945445 24.387939 122.945445 26.038519 Z M 122.945445 26.038519 \" transform=\"matrix(0.998702,0,0,-0.998702,45.647755,241.973466)\"/>\n",
       "<path style=\"fill-rule:nonzero;fill:rgb(0%,60.559082%,97.869873%);fill-opacity:0.6;stroke-width:0.74721;stroke-linecap:butt;stroke-linejoin:miter;stroke:rgb(0%,0%,0%);stroke-opacity:0.6;stroke-miterlimit:10;\" d=\"M 242.929331 17.20283 C 242.929331 18.85341 241.591657 20.194995 239.941076 20.194995 C 238.290496 20.194995 236.952822 18.85341 236.952822 17.20283 C 236.952822 15.55225 238.290496 14.214575 239.941076 14.214575 C 241.591657 14.214575 242.929331 15.55225 242.929331 17.20283 Z M 242.929331 17.20283 \" transform=\"matrix(0.998702,0,0,-0.998702,45.647755,241.973466)\"/>\n",
       "<path style=\"fill-rule:nonzero;fill:rgb(0%,60.559082%,97.869873%);fill-opacity:0.6;stroke-width:0.74721;stroke-linecap:butt;stroke-linejoin:miter;stroke:rgb(0%,0%,0%);stroke-opacity:0.6;stroke-miterlimit:10;\" d=\"M 362.901483 230.776963 C 362.901483 232.427543 361.563809 233.765217 359.913228 233.765217 C 358.262648 233.765217 356.924974 232.427543 356.924974 230.776963 C 356.924974 229.126383 358.262648 227.788709 359.913228 227.788709 C 361.563809 227.788709 362.901483 229.126383 362.901483 230.776963 Z M 362.901483 230.776963 \" transform=\"matrix(0.998702,0,0,-0.998702,45.647755,241.973466)\"/>\n",
       "<path style=\"fill-rule:nonzero;fill:rgb(88.88855%,43.559265%,27.809143%);fill-opacity:0.6;stroke-width:0.74721;stroke-linecap:butt;stroke-linejoin:miter;stroke:rgb(0%,0%,0%);stroke-opacity:0.6;stroke-miterlimit:10;\" d=\"M 2.988938 90.594981 C 2.988938 92.245561 1.651264 93.583235 0.000683864 93.583235 C -1.649896 93.583235 -2.98757 92.245561 -2.98757 90.594981 C -2.98757 88.944401 -1.649896 87.606727 0.000683864 87.606727 C 1.651264 87.606727 2.988938 88.944401 2.988938 90.594981 Z M 2.988938 90.594981 \" transform=\"matrix(0.998702,0,0,-0.998702,45.647755,241.973466)\"/>\n",
       "<path style=\"fill-rule:nonzero;fill:rgb(88.88855%,43.559265%,27.809143%);fill-opacity:0.6;stroke-width:0.74721;stroke-linecap:butt;stroke-linejoin:miter;stroke:rgb(0%,0%,0%);stroke-opacity:0.6;stroke-miterlimit:10;\" d=\"M 122.945445 36.161035 C 122.945445 37.811615 121.603859 39.149289 119.953279 39.149289 C 118.302699 39.149289 116.965025 37.811615 116.965025 36.161035 C 116.965025 34.510454 118.302699 33.17278 119.953279 33.17278 C 121.603859 33.17278 122.945445 34.510454 122.945445 36.161035 Z M 122.945445 36.161035 \" transform=\"matrix(0.998702,0,0,-0.998702,45.647755,241.973466)\"/>\n",
       "<path style=\"fill-rule:nonzero;fill:rgb(88.88855%,43.559265%,27.809143%);fill-opacity:0.6;stroke-width:0.74721;stroke-linecap:butt;stroke-linejoin:miter;stroke:rgb(0%,0%,0%);stroke-opacity:0.6;stroke-miterlimit:10;\" d=\"M 242.929331 6.720472 C 242.929331 8.371052 241.591657 9.708726 239.941076 9.708726 C 238.290496 9.708726 236.952822 8.371052 236.952822 6.720472 C 236.952822 5.069892 238.290496 3.732217 239.941076 3.732217 C 241.591657 3.732217 242.929331 5.069892 242.929331 6.720472 Z M 242.929331 6.720472 \" transform=\"matrix(0.998702,0,0,-0.998702,45.647755,241.973466)\"/>\n",
       "<path style=\"fill-rule:nonzero;fill:rgb(88.88855%,43.559265%,27.809143%);fill-opacity:0.6;stroke-width:0.74721;stroke-linecap:butt;stroke-linejoin:miter;stroke:rgb(0%,0%,0%);stroke-opacity:0.6;stroke-miterlimit:10;\" d=\"M 362.901483 21.931625 C 362.901483 23.582205 361.563809 24.92379 359.913228 24.92379 C 358.262648 24.92379 356.924974 23.582205 356.924974 21.931625 C 356.924974 20.281045 358.262648 18.943371 359.913228 18.943371 C 361.563809 18.943371 362.901483 20.281045 362.901483 21.931625 Z M 362.901483 21.931625 \" transform=\"matrix(0.998702,0,0,-0.998702,45.647755,241.973466)\"/>\n",
       "<path style=\"fill-rule:nonzero;fill:rgb(24.21875%,64.329529%,30.439758%);fill-opacity:0.6;stroke-width:0.74721;stroke-linecap:butt;stroke-linejoin:miter;stroke:rgb(0%,0%,0%);stroke-opacity:0.6;stroke-miterlimit:10;\" d=\"M 2.988938 64.25219 C 2.988938 65.90277 1.651264 67.240444 0.000683864 67.240444 C -1.649896 67.240444 -2.98757 65.90277 -2.98757 64.25219 C -2.98757 62.601609 -1.649896 61.263935 0.000683864 61.263935 C 1.651264 61.263935 2.988938 62.601609 2.988938 64.25219 Z M 2.988938 64.25219 \" transform=\"matrix(0.998702,0,0,-0.998702,45.647755,241.973466)\"/>\n",
       "<g style=\"fill:rgb(0%,0%,0%);fill-opacity:1;\">\n",
       "  <use xlink:href=\"#glyph-1590679227147656-3-1\" x=\"206.281951\" y=\"266.572491\"/>\n",
       "  <use xlink:href=\"#glyph-1590679227147656-3-2\" x=\"214.019835\" y=\"266.572491\"/>\n",
       "  <use xlink:href=\"#glyph-1590679227147656-3-3\" x=\"219.973737\" y=\"266.572491\"/>\n",
       "  <use xlink:href=\"#glyph-1590679227147656-3-4\" x=\"224.143658\" y=\"266.572491\"/>\n",
       "  <use xlink:href=\"#glyph-1590679227147656-3-5\" x=\"228.904591\" y=\"266.572491\"/>\n",
       "  <use xlink:href=\"#glyph-1590679227147656-3-6\" x=\"234.267481\" y=\"266.572491\"/>\n",
       "  <use xlink:href=\"#glyph-1590679227147656-3-7\" x=\"240.221383\" y=\"266.572491\"/>\n",
       "</g>\n",
       "<path style=\"fill-rule:nonzero;fill:rgb(100%,100%,100%);fill-opacity:1;stroke-width:0.99628;stroke-linecap:butt;stroke-linejoin:miter;stroke:rgb(0%,0%,0%);stroke-opacity:1;stroke-miterlimit:10;\" d=\"M 330.648675 199.18517 L 362.576842 199.18517 L 362.576842 232.251533 L 330.648675 232.251533 Z M 330.648675 199.18517 \" transform=\"matrix(0.998702,0,0,-0.998702,45.647755,241.973466)\"/>\n",
       "<path style=\"fill-rule:nonzero;fill:rgb(0%,60.559082%,97.869873%);fill-opacity:0.6;stroke-width:0.74721;stroke-linecap:butt;stroke-linejoin:miter;stroke:rgb(0%,0%,0%);stroke-opacity:0.6;stroke-miterlimit:10;\" d=\"M 11.493527 -0.00173846 C 11.493527 1.648842 10.155853 2.990427 8.505272 2.990427 C 6.854692 2.990427 5.517018 1.648842 5.517018 -0.00173846 C 5.517018 -1.652319 6.854692 -2.989993 8.505272 -2.989993 C 10.155853 -2.989993 11.493527 -1.652319 11.493527 -0.00173846 Z M 11.493527 -0.00173846 \" transform=\"matrix(0.998702,0,0,-0.998702,373.3378,16.529514)\"/>\n",
       "<g style=\"fill:rgb(0%,0%,0%);fill-opacity:1;\">\n",
       "  <use xlink:href=\"#glyph-1590679227147656-4-1\" x=\"386.806293\" y=\"17.558177\"/>\n",
       "  <use xlink:href=\"#glyph-1590679227147656-4-2\" x=\"391.032927\" y=\"17.558177\"/>\n",
       "  <use xlink:href=\"#glyph-1590679227147656-4-3\" x=\"398.077318\" y=\"17.558177\"/>\n",
       "</g>\n",
       "<path style=\"fill-rule:nonzero;fill:rgb(88.88855%,43.559265%,27.809143%);fill-opacity:0.6;stroke-width:0.74721;stroke-linecap:butt;stroke-linejoin:miter;stroke:rgb(0%,0%,0%);stroke-opacity:0.6;stroke-miterlimit:10;\" d=\"M 11.493527 -0.000559812 C 11.493527 1.65002 10.155853 2.987694 8.505272 2.987694 C 6.854692 2.987694 5.517018 1.65002 5.517018 -0.000559812 C 5.517018 -1.65114 6.854692 -2.988814 8.505272 -2.988814 C 10.155853 -2.988814 11.493527 -1.65114 11.493527 -0.000559812 Z M 11.493527 -0.000559812 \" transform=\"matrix(0.998702,0,0,-0.998702,373.3378,26.538503)\"/>\n",
       "<g style=\"fill:rgb(0%,0%,0%);fill-opacity:1;\">\n",
       "  <use xlink:href=\"#glyph-1590679227147656-4-3\" x=\"386.806293\" y=\"28.554882\"/>\n",
       "  <use xlink:href=\"#glyph-1590679227147656-4-4\" x=\"391.502553\" y=\"28.554882\"/>\n",
       "  <use xlink:href=\"#glyph-1590679227147656-4-5\" x=\"394.789936\" y=\"28.554882\"/>\n",
       "</g>\n",
       "<path style=\"fill-rule:nonzero;fill:rgb(24.21875%,64.329529%,30.439758%);fill-opacity:0.6;stroke-width:0.74721;stroke-linecap:butt;stroke-linejoin:miter;stroke:rgb(0%,0%,0%);stroke-opacity:0.6;stroke-miterlimit:10;\" d=\"M 11.493527 0.00161884 C 11.493527 1.652199 10.155853 2.989873 8.505272 2.989873 C 6.854692 2.989873 5.517018 1.652199 5.517018 0.00161884 C 5.517018 -1.648961 6.854692 -2.990547 8.505272 -2.990547 C 10.155853 -2.990547 11.493527 -1.648961 11.493527 0.00161884 Z M 11.493527 0.00161884 \" transform=\"matrix(0.998702,0,0,-0.998702,373.3378,36.548492)\"/>\n",
       "<g style=\"fill:rgb(0%,0%,0%);fill-opacity:1;\">\n",
       "  <use xlink:href=\"#glyph-1590679227147656-4-6\" x=\"386.806293\" y=\"37.577155\"/>\n",
       "  <use xlink:href=\"#glyph-1590679227147656-4-7\" x=\"390.141434\" y=\"37.577155\"/>\n",
       "  <use xlink:href=\"#glyph-1590679227147656-4-8\" x=\"393.898442\" y=\"37.577155\"/>\n",
       "</g>\n",
       "</g>\n",
       "</svg>\n",
       "\n"
      ]
     },
     "execution_count": 36,
     "metadata": {},
     "output_type": "execute_result"
    }
   ],
   "source": [
    "\n",
    "plot_results(data_full_picture.threads,\n",
    "            data_full_picture.mean_duration_mono,\n",
    "            data_full_picture.method,\n",
    "            \"\",\n",
    "            data_full_picture.method,\n",
    "            max_thread_power = 10)\n",
    "\n",
    "plot_results(data_seahorse_valley.threads,\n",
    "            data_seahorse_valley.mean_duration_mono,\n",
    "            data_seahorse_valley.method,\n",
    "            \"\",\n",
    "            data_seahorse_valley.method,\n",
    "            max_thread_power = 10)\n",
    "\n"
   ]
  },
  {
   "cell_type": "code",
   "execution_count": 11,
   "metadata": {},
   "outputs": [
    {
     "name": "stdout",
     "output_type": "stream",
     "text": [
      "0x13 query result\n",
      "threads │ method │ region │ size │ delta_x │ delta_y │ mean_duration_clock\n",
      "────────┼────────┼────────┼──────┼─────────┼─────────┼────────────────────\n",
      "... with 6 more columns: mean_duration_mono, mean_duration_sys, ci_duration_clock, ci_duration_mono, ci_duration_sys, repetitions"
     ]
    }
   ],
   "source": []
  },
  {
   "cell_type": "code",
   "execution_count": null,
   "metadata": {},
   "outputs": [],
   "source": []
  }
 ],
 "metadata": {
  "kernelspec": {
   "display_name": "Julia 1.3.0",
   "language": "julia",
   "name": "julia-1.3"
  },
  "language_info": {
   "file_extension": ".jl",
   "mimetype": "application/julia",
   "name": "julia",
   "version": "1.3.0"
  },
  "name": "Untitled.ipynb"
 },
 "nbformat": 4,
 "nbformat_minor": 4
}
