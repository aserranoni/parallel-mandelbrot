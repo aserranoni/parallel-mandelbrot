{
 "cells": [
  {
   "cell_type": "markdown",
   "metadata": {},
   "source": [
    "# EP1 de Programacao Paralela e distribuida - MAC5742\n",
    "## Analise dos Resultados\n"
   ]
  },
  {
   "cell_type": "markdown",
   "metadata": {},
   "source": [
    "| Nome | NUSP |\n",
    "|------|------|\n",
    "| Ariel Serranoni Soares da Silva| 7658024 |\n",
    "| Thiago Martinoni | Numero usp |\n"
   ]
  },
  {
   "cell_type": "markdown",
   "metadata": {},
   "source": [
    "O Objetivo deste documento e analisar os resultados dos experimentos... A ideia foi desviar o minimo possivel da \n",
    "trilha estabelecida nos trabalhos anteriores. Por isso, vamos usar varias coisas do passado. O trabalho em C foi \n",
    "executado na maquina brucutu da rede IME."
   ]
  },
  {
   "cell_type": "code",
   "execution_count": null,
   "metadata": {},
   "outputs": [],
   "source": [
    "### Infra estrutura Julia\n",
    "\n",
    "como vamos usar muito da estrutura dos ultimos trabalhos, usamos o mesmo arquivo project.toml. \n",
    "Pode instalar rodando a celula a seguir"
   ]
  },
  {
   "cell_type": "code",
   "execution_count": 5,
   "metadata": {},
   "outputs": [
    {
     "ename": "ErrorException",
     "evalue": "error compiling #add_or_develop#13: error compiling shred!: error compiling #26: error compiling with: error compiling #27: could not load library \"libgit2\"\n/usr/lib/x86_64-linux-gnu/libmbedx509.so.0: undefined symbol: mbedtls_mutex_unlock",
     "output_type": "error",
     "traceback": [
      "error compiling #add_or_develop#13: error compiling shred!: error compiling #26: error compiling with: error compiling #27: could not load library \"libgit2\"\n/usr/lib/x86_64-linux-gnu/libmbedx509.so.0: undefined symbol: mbedtls_mutex_unlock",
      "",
      "Stacktrace:",
      " [1] (::getfield(Pkg.API, Symbol(\"#kw##add_or_develop\")))(::NamedTuple{(:mode,),Tuple{Symbol}}, ::typeof(Pkg.API.add_or_develop), ::Pkg.Types.Context, ::Array{Pkg.Types.PackageSpec,1}) at ./none:0",
      " [2] do_add!(::Dict{Symbol,Any}, ::Array{Pkg.Types.PackageSpec,1}, ::Dict{Symbol,Any}) at /build/julia-wJr69F/julia-1.0.3+dfsg/usr/share/julia/stdlib/v1.0/Pkg/src/REPLMode.jl:709",
      " [3] #invokelatest#1(::Base.Iterators.Pairs{Union{},Union{},Tuple{},NamedTuple{(),Tuple{}}}, ::Function, ::Any, ::Any, ::Vararg{Any,N} where N) at ./essentials.jl:697",
      " [4] invokelatest(::Any, ::Any, ::Vararg{Any,N} where N) at ./essentials.jl:696",
      " [5] do_cmd!(::Pkg.REPLMode.PkgCommand, ::IJulia.MiniREPL) at /build/julia-wJr69F/julia-1.0.3+dfsg/usr/share/julia/stdlib/v1.0/Pkg/src/REPLMode.jl:603",
      " [6] #do_cmd#33(::Bool, ::Function, ::IJulia.MiniREPL, ::String) at /build/julia-wJr69F/julia-1.0.3+dfsg/usr/share/julia/stdlib/v1.0/Pkg/src/REPLMode.jl:577",
      " [7] (::getfield(Pkg.REPLMode, Symbol(\"#kw##do_cmd\")))(::NamedTuple{(:do_rethrow,),Tuple{Bool}}, ::typeof(Pkg.REPLMode.do_cmd), ::IJulia.MiniREPL, ::String) at ./none:0",
      " [8] top-level scope at In[5]:1"
     ]
    }
   ],
   "source": []
  },
  {
   "cell_type": "code",
   "execution_count": null,
   "metadata": {},
   "outputs": [],
   "source": [
    "Tambem podemos verificar se ha algum problema rodando a seguinte celula"
   ]
  },
  {
   "cell_type": "code",
   "execution_count": 6,
   "metadata": {},
   "outputs": [
    {
     "name": "stdout",
     "output_type": "stream",
     "text": [
      "\u001b[32m\u001b[1m    Status\u001b[22m\u001b[39m `~/.julia/environments/v1.0/Project.toml`\n",
      " \u001b[90m [336ed68f]\u001b[39m\u001b[37m CSV v0.6.2\u001b[39m\n",
      " \u001b[90m [7073ff75]\u001b[39m\u001b[37m IJulia v1.21.2\u001b[39m\n"
     ]
    }
   ],
   "source": [
    "] st"
   ]
  },
  {
   "cell_type": "code",
   "execution_count": null,
   "metadata": {},
   "outputs": [],
   "source": [
    "### Infra estrutura C\n",
    "\n",
    "blablabla explicacao"
   ]
  },
  {
   "cell_type": "code",
   "execution_count": null,
   "metadata": {},
   "outputs": [],
   "source": [
    "### Experimentos"
   ]
  },
  {
   "cell_type": "code",
   "execution_count": 10,
   "metadata": {},
   "outputs": [
    {
     "ename": "ErrorException",
     "evalue": "error compiling add: error compiling #add_or_develop#13: error compiling shred!: error compiling #26: error compiling with: error compiling #27: could not load library \"libgit2\"\n/usr/lib/x86_64-linux-gnu/libmbedx509.so.0: undefined symbol: mbedtls_mutex_unlock",
     "output_type": "error",
     "traceback": [
      "error compiling add: error compiling #add_or_develop#13: error compiling shred!: error compiling #26: error compiling with: error compiling #27: could not load library \"libgit2\"\n/usr/lib/x86_64-linux-gnu/libmbedx509.so.0: undefined symbol: mbedtls_mutex_unlock",
      "",
      "Stacktrace:",
      " [1] top-level scope at In[10]:2"
     ]
    }
   ],
   "source": [
    "import Pkg\n",
    "Pkg.add(\"DataFrames\")\n",
    "using DataFrames, Query, StatsPlots, Statistics\n",
    "\n",
    "function mandelbrot_seq(c_x_min, c_x_max, c_y_min, c_y_max, image_size)\n",
    "    results = parse.(Float64,\n",
    "        split(chomp(read(`./mandelbrot_seq $c_x_min $c_x_max $c_y_min $c_y_max $image_size`, String)), \", \"))\n",
    "        \n",
    "    return DataFrame(size = image_size\n",
    "        delta_x = c_x_max - c_x_min,\n",
    "        delta_y = c_y_max - c_y_min,\n",
    "        duration = results[2],\n",
    "        threads=1)\n",
    "end\n",
    "\n",
    "function mandelbrot_pth(c_x_min, c_x_max, c_y_min, c_y_max, image_size, threads)\n",
    "    results = parse.(Float64,\n",
    "        split(chomp(read(`./mandelbrot_pth $c_x_min $c_x_max $c_y_min $c_y_max $image_size $threads`, String)), \", \"))\n",
    "        \n",
    "    return DataFrame(size = image_size,\n",
    "                delta_x = c_x_max - c_x_min,\n",
    "                delta_y = c_y_max - c_y_min,\n",
    "                duration = results[2],\n",
    "                threads=threads)\n",
    "end\n"
   ]
  },
  {
   "cell_type": "code",
   "execution_count": null,
   "metadata": {},
   "outputs": [],
   "source": []
  }
 ],
 "metadata": {
  "kernelspec": {
   "display_name": "Julia 1.0.3",
   "language": "julia",
   "name": "julia-1.0"
  },
  "language_info": {
   "file_extension": ".jl",
   "mimetype": "application/julia",
   "name": "julia",
   "version": "1.0.3"
  }
 },
 "nbformat": 4,
 "nbformat_minor": 4
}
