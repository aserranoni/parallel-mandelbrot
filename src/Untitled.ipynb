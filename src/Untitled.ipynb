{
 "cells": [
  {
   "cell_type": "markdown",
   "metadata": {},
   "source": [
    "\n",
    "# EP1 de Programacao Paralela e distribuida - MAC5742\n",
    "## Analise dos Resultados\n"
   ]
  },
  {
   "cell_type": "markdown",
   "metadata": {},
   "source": [
    "| Nome | NUSP |\n",
    "|------|------|\n",
    "| Ariel Serranoni Soares da Silva| 7658024 |\n",
    "| Thiago Martinoni | Numero usp |\n"
   ]
  },
  {
   "cell_type": "markdown",
   "metadata": {},
   "source": [
    "O Objetivo deste documento e analisar os resultados dos experimentos... A ideia foi desviar o minimo possivel da \n",
    "trilha estabelecida nos trabalhos anteriores. Por isso, vamos usar varias coisas do passado. O trabalho em C foi \n",
    "executado na maquina brucutu da rede IME."
   ]
  },
  {
   "cell_type": "code",
   "execution_count": null,
   "metadata": {},
   "outputs": [],
   "source": [
    "### Infra estrutura Julia\n",
    "\n",
    "como vamos usar muito da estrutura dos ultimos trabalhos, usamos o mesmo arquivo project.toml. \n",
    "Pode instalar rodando a celula a seguir"
   ]
  },
  {
   "cell_type": "code",
   "execution_count": 1,
   "metadata": {},
   "outputs": [
    {
     "name": "stderr",
     "output_type": "stream",
     "text": [
      "\u001b[32m\u001b[1m   Updating\u001b[22m\u001b[39m registry at `~/.julia/registries/General`\n"
     ]
    },
    {
     "name": "stdout",
     "output_type": "stream",
     "text": [
      "\u001b[?25l\u001b[2K"
     ]
    },
    {
     "name": "stderr",
     "output_type": "stream",
     "text": [
      "\u001b[32m\u001b[1m   Updating\u001b[22m\u001b[39m git-repo `https://github.com/JuliaRegistries/General.git`\n"
     ]
    },
    {
     "name": "stdout",
     "output_type": "stream",
     "text": [
      "\u001b[?25h"
     ]
    },
    {
     "name": "stderr",
     "output_type": "stream",
     "text": [
      "\u001b[32m\u001b[1m  Installed\u001b[22m\u001b[39m PositiveFactorizations ─────── v0.2.3\n",
      "\u001b[32m\u001b[1m  Installed\u001b[22m\u001b[39m PooledArrays ───────────────── v0.5.3\n",
      "\u001b[32m\u001b[1m  Installed\u001b[22m\u001b[39m StatsPlots ─────────────────── v0.14.6\n",
      "\u001b[32m\u001b[1m  Installed\u001b[22m\u001b[39m Query ──────────────────────── v0.12.2\n",
      "\u001b[32m\u001b[1m  Installed\u001b[22m\u001b[39m PGFPlotsX ──────────────────── v1.2.6\n",
      "\u001b[32m\u001b[1m  Installed\u001b[22m\u001b[39m DataFrames ─────────────────── v0.21.1\n",
      "\u001b[32m\u001b[1m  Installed\u001b[22m\u001b[39m Distributions ──────────────── v0.23.2\n",
      "\u001b[32m\u001b[1m  Installed\u001b[22m\u001b[39m Rmath_jll ──────────────────── v0.2.2+0\n",
      "\u001b[32m\u001b[1m  Installed\u001b[22m\u001b[39m Ogg_jll ────────────────────── v1.3.4+0\n",
      "\u001b[32m\u001b[1m  Installed\u001b[22m\u001b[39m TableOperations ────────────── v0.2.1\n",
      "\u001b[32m\u001b[1m  Installed\u001b[22m\u001b[39m TableShowUtils ─────────────── v0.2.5\n",
      "\u001b[32m\u001b[1m  Installed\u001b[22m\u001b[39m RecipesPipeline ────────────── v0.1.9\n",
      "\u001b[32m\u001b[1m  Installed\u001b[22m\u001b[39m Colors ─────────────────────── v0.12.1\n",
      "\u001b[32m\u001b[1m  Installed\u001b[22m\u001b[39m CSV ────────────────────────── v0.6.2\n",
      "\u001b[32m\u001b[1m  Installed\u001b[22m\u001b[39m Arpack ─────────────────────── v0.4.0\n",
      "\u001b[32m\u001b[1m  Installed\u001b[22m\u001b[39m DataValueInterfaces ────────── v1.0.0\n",
      "\u001b[32m\u001b[1m  Installed\u001b[22m\u001b[39m Parameters ─────────────────── v0.12.1\n",
      "\u001b[32m\u001b[1m  Installed\u001b[22m\u001b[39m FilePathsBase ──────────────── v0.8.0\n",
      "\u001b[32m\u001b[1m  Installed\u001b[22m\u001b[39m Plots ──────────────────────── v1.3.4\n",
      "\u001b[32m\u001b[1m  Installed\u001b[22m\u001b[39m LibVPX_jll ─────────────────── v1.8.1+1\n",
      "\u001b[32m\u001b[1m  Installed\u001b[22m\u001b[39m IteratorInterfaceExtensions ── v1.0.0\n",
      "\u001b[32m\u001b[1m  Installed\u001b[22m\u001b[39m Opus_jll ───────────────────── v1.3.1+1\n",
      "\u001b[32m\u001b[1m  Installed\u001b[22m\u001b[39m x264_jll ───────────────────── v2019.5.25+2\n",
      "\u001b[32m\u001b[1m  Installed\u001b[22m\u001b[39m NearestNeighbors ───────────── v0.4.4\n",
      "\u001b[32m\u001b[1m  Installed\u001b[22m\u001b[39m DiffResults ────────────────── v1.0.2\n",
      "\u001b[32m\u001b[1m  Installed\u001b[22m\u001b[39m FriBidi_jll ────────────────── v1.0.5+3\n",
      "\u001b[32m\u001b[1m  Installed\u001b[22m\u001b[39m FreeType2_jll ──────────────── v2.10.1+2\n",
      "\u001b[32m\u001b[1m  Installed\u001b[22m\u001b[39m Observables ────────────────── v0.3.1\n",
      "\u001b[32m\u001b[1m  Installed\u001b[22m\u001b[39m FFTW ───────────────────────── v1.2.1\n",
      "\u001b[32m\u001b[1m  Installed\u001b[22m\u001b[39m CompilerSupportLibraries_jll ─ v0.3.3+0\n",
      "\u001b[32m\u001b[1m  Installed\u001b[22m\u001b[39m ColorSchemes ───────────────── v3.9.0\n",
      "\u001b[32m\u001b[1m  Installed\u001b[22m\u001b[39m QueryOperators ─────────────── v0.9.1\n",
      "\u001b[32m\u001b[1m  Installed\u001b[22m\u001b[39m Showoff ────────────────────── v0.3.1\n",
      "\u001b[32m\u001b[1m  Installed\u001b[22m\u001b[39m PlotUtils ──────────────────── v1.0.4\n",
      "\u001b[32m\u001b[1m  Installed\u001b[22m\u001b[39m DataValues ─────────────────── v0.4.13\n",
      "\u001b[32m\u001b[1m  Installed\u001b[22m\u001b[39m FiniteDiff ─────────────────── v2.3.2\n",
      "\u001b[32m\u001b[1m  Installed\u001b[22m\u001b[39m GeometryTypes ──────────────── v0.8.3\n",
      "\u001b[32m\u001b[1m  Installed\u001b[22m\u001b[39m AxisAlgorithms ─────────────── v1.0.0\n",
      "\u001b[32m\u001b[1m  Installed\u001b[22m\u001b[39m DiffRules ──────────────────── v1.0.1\n",
      "\u001b[32m\u001b[1m  Installed\u001b[22m\u001b[39m ArgCheck ───────────────────── v2.0.0\n",
      "\u001b[32m\u001b[1m  Installed\u001b[22m\u001b[39m libvorbis_jll ──────────────── v1.3.6+4\n",
      "\u001b[32m\u001b[1m  Installed\u001b[22m\u001b[39m Ratios ─────────────────────── v0.4.0\n",
      "\u001b[32m\u001b[1m  Installed\u001b[22m\u001b[39m UnPack ─────────────────────── v1.0.1\n",
      "\u001b[32m\u001b[1m  Installed\u001b[22m\u001b[39m LAME_jll ───────────────────── v3.100.0+1\n",
      "\u001b[32m\u001b[1m  Installed\u001b[22m\u001b[39m ColorTypes ─────────────────── v0.10.3\n",
      "\u001b[32m\u001b[1m  Installed\u001b[22m\u001b[39m Distances ──────────────────── v0.8.2\n",
      "\u001b[32m\u001b[1m  Installed\u001b[22m\u001b[39m DefaultApplication ─────────── v1.0.0\n",
      "\u001b[32m\u001b[1m  Installed\u001b[22m\u001b[39m FFTW_jll ───────────────────── v3.3.9+5\n",
      "\u001b[32m\u001b[1m  Installed\u001b[22m\u001b[39m Tables ─────────────────────── v1.0.4\n",
      "\u001b[32m\u001b[1m  Installed\u001b[22m\u001b[39m Compat ─────────────────────── v3.10.0\n",
      "\u001b[32m\u001b[1m  Installed\u001b[22m\u001b[39m PDMats ─────────────────────── v0.9.12\n",
      "\u001b[32m\u001b[1m  Installed\u001b[22m\u001b[39m FixedPointNumbers ──────────── v0.8.0\n",
      "\u001b[32m\u001b[1m  Installed\u001b[22m\u001b[39m IntelOpenMP_jll ────────────── v2018.0.3+0\n",
      "\u001b[32m\u001b[1m  Installed\u001b[22m\u001b[39m WoodburyMatrices ───────────── v0.5.2\n",
      "\u001b[32m\u001b[1m  Installed\u001b[22m\u001b[39m LineSearches ───────────────── v7.0.1\n",
      "\u001b[32m\u001b[1m  Installed\u001b[22m\u001b[39m OffsetArrays ───────────────── v1.0.4\n",
      "\u001b[32m\u001b[1m  Installed\u001b[22m\u001b[39m Rmath ──────────────────────── v0.6.1\n",
      "\u001b[32m\u001b[1m  Installed\u001b[22m\u001b[39m Arpack_jll ─────────────────── v3.5.0+3\n",
      "\u001b[32m\u001b[1m  Installed\u001b[22m\u001b[39m TableTraitsUtils ───────────── v1.0.1\n",
      "\u001b[32m\u001b[1m  Installed\u001b[22m\u001b[39m NaNMath ────────────────────── v0.3.3\n",
      "\u001b[32m\u001b[1m  Installed\u001b[22m\u001b[39m Missings ───────────────────── v0.4.3\n",
      "\u001b[32m\u001b[1m  Installed\u001b[22m\u001b[39m PlotThemes ─────────────────── v2.0.0\n",
      "\u001b[32m\u001b[1m  Installed\u001b[22m\u001b[39m CategoricalArrays ──────────── v0.8.1\n",
      "\u001b[32m\u001b[1m  Installed\u001b[22m\u001b[39m Widgets ────────────────────── v0.6.2\n",
      "\u001b[32m\u001b[1m  Installed\u001b[22m\u001b[39m Bzip2_jll ──────────────────── v1.0.6+2\n",
      "\u001b[32m\u001b[1m  Installed\u001b[22m\u001b[39m AbstractFFTs ───────────────── v0.5.0\n",
      "\u001b[32m\u001b[1m  Installed\u001b[22m\u001b[39m SortingAlgorithms ──────────── v0.3.1\n",
      "\u001b[32m\u001b[1m  Installed\u001b[22m\u001b[39m IterableTables ─────────────── v1.0.0\n",
      "\u001b[32m\u001b[1m  Installed\u001b[22m\u001b[39m x265_jll ───────────────────── v3.0.0+1\n",
      "\u001b[32m\u001b[1m  Installed\u001b[22m\u001b[39m DataAPI ────────────────────── v1.3.0\n",
      "\u001b[32m\u001b[1m  Installed\u001b[22m\u001b[39m Contour ────────────────────── v0.5.3\n",
      "\u001b[32m\u001b[1m  Installed\u001b[22m\u001b[39m OpenSpecFun_jll ────────────── v0.5.3+3\n",
      "\u001b[32m\u001b[1m  Installed\u001b[22m\u001b[39m OpenBLAS_jll ───────────────── v0.3.9+4\n",
      "\u001b[32m\u001b[1m  Installed\u001b[22m\u001b[39m GR ─────────────────────────── v0.49.1\n",
      "\u001b[32m\u001b[1m  Installed\u001b[22m\u001b[39m RecipesBase ────────────────── v1.0.1\n",
      "\u001b[32m\u001b[1m  Installed\u001b[22m\u001b[39m Measures ───────────────────── v0.3.1\n",
      "\u001b[32m\u001b[1m  Installed\u001b[22m\u001b[39m StatsFuns ──────────────────── v0.9.5\n",
      "\u001b[32m\u001b[1m  Installed\u001b[22m\u001b[39m FillArrays ─────────────────── v0.8.10\n",
      "\u001b[32m\u001b[1m  Installed\u001b[22m\u001b[39m DataStructures ─────────────── v0.17.17\n",
      "\u001b[32m\u001b[1m  Installed\u001b[22m\u001b[39m libass_jll ─────────────────── v0.14.0+2\n",
      "\u001b[32m\u001b[1m  Installed\u001b[22m\u001b[39m ArrayInterface ─────────────── v2.8.7\n",
      "\u001b[32m\u001b[1m  Installed\u001b[22m\u001b[39m libfdk_aac_jll ─────────────── v0.1.6+2\n",
      "\u001b[32m\u001b[1m  Installed\u001b[22m\u001b[39m WeakRefStrings ─────────────── v0.6.2\n",
      "\u001b[32m\u001b[1m  Installed\u001b[22m\u001b[39m Optim ──────────────────────── v0.21.0\n",
      "\u001b[32m\u001b[1m  Installed\u001b[22m\u001b[39m StaticArrays ───────────────── v0.12.3\n",
      "\u001b[32m\u001b[1m  Installed\u001b[22m\u001b[39m FFMPEG ─────────────────────── v0.3.0\n",
      "\u001b[32m\u001b[1m  Installed\u001b[22m\u001b[39m MultivariateStats ──────────── v0.7.0\n",
      "\u001b[32m\u001b[1m  Installed\u001b[22m\u001b[39m Zlib_jll ───────────────────── v1.2.11+10\n",
      "\u001b[32m\u001b[1m  Installed\u001b[22m\u001b[39m NLSolversBase ──────────────── v7.6.1\n",
      "\u001b[32m\u001b[1m  Installed\u001b[22m\u001b[39m FFMPEG_jll ─────────────────── v4.1.0+3\n",
      "\u001b[32m\u001b[1m  Installed\u001b[22m\u001b[39m TableTraits ────────────────── v1.0.0\n",
      "\u001b[32m\u001b[1m  Installed\u001b[22m\u001b[39m SpecialFunctions ───────────── v0.10.3\n",
      "\u001b[32m\u001b[1m  Installed\u001b[22m\u001b[39m ForwardDiff ────────────────── v0.10.10\n",
      "\u001b[32m\u001b[1m  Installed\u001b[22m\u001b[39m Clustering ─────────────────── v0.14.0\n",
      "\u001b[32m\u001b[1m  Installed\u001b[22m\u001b[39m Reexport ───────────────────── v0.2.0\n",
      "\u001b[32m\u001b[1m  Installed\u001b[22m\u001b[39m QuadGK ─────────────────────── v2.3.1\n",
      "\u001b[32m\u001b[1m  Installed\u001b[22m\u001b[39m MKL_jll ────────────────────── v2019.0.117+2\n",
      "\u001b[32m\u001b[1m  Installed\u001b[22m\u001b[39m InvertedIndices ────────────── v1.0.0\n",
      "\u001b[32m\u001b[1m  Installed\u001b[22m\u001b[39m CommonSubexpressions ───────── v0.2.0\n",
      "\u001b[32m\u001b[1m  Installed\u001b[22m\u001b[39m KernelDensity ──────────────── v0.5.1\n",
      "\u001b[32m\u001b[1m  Installed\u001b[22m\u001b[39m MacroTools ─────────────────── v0.5.5\n",
      "\u001b[32m\u001b[1m  Installed\u001b[22m\u001b[39m OpenSSL_jll ────────────────── v1.1.1+2\n",
      "\u001b[32m\u001b[1m  Installed\u001b[22m\u001b[39m DocStringExtensions ────────── v0.8.1\n",
      "\u001b[32m\u001b[1m  Installed\u001b[22m\u001b[39m Interpolations ─────────────── v0.12.10\n",
      "\u001b[32m\u001b[1m  Installed\u001b[22m\u001b[39m Requires ───────────────────── v1.0.1\n",
      "\u001b[32m\u001b[1m  Installed\u001b[22m\u001b[39m OrderedCollections ─────────── v1.2.0\n",
      "\u001b[32m\u001b[1m  Installed\u001b[22m\u001b[39m StatsBase ──────────────────── v0.33.0\n",
      "######################################################################### 100.0%#=#=-#  #                                                                      \n",
      "######################################################################### 100.0%##O#- #                                                                        \n",
      "######################################################################### 100.0%##O#- #                                                                        \n",
      "######################################################################### 100.0%##O=#  #                                                                       \n",
      "######################################################################### 100.0%##O#- #                                                                        \n",
      "######################################################################### 100.0%##O=#  #                                                                       \n",
      "######################################################################### 100.0%##O#- #                                                                        \n",
      "######################################################################### 100.0%##O#- #                                                                        \n",
      "######################################################################### 100.0%##O#- #                                                                        \n",
      "######################################################################### 100.0%##O=#  #                                                                       \n",
      "######################################################################### 100.0%##O#- #                                                                        \n",
      "######################################################################### 100.0%##O#- #                                                                        \n",
      "######################################################################### 100.0%##O=#  #                                                                       \n",
      "######################################################################### 100.0%##O#- #                                                                        \n",
      "######################################################################### 100.0%##O#- #                                                                        \n",
      "######################################################################### 100.0%##O=#  #                                                                       \n",
      "######################################################################### 100.0%##O=#  #                                                                       \n",
      "######################################################################### 100.0%##O#- #                                                                        \n",
      "######################################################################### 100.0%##O#- #                                                                                                          2.1%\n",
      "######################################################################### 100.0%##O#- #                                                                        \n",
      "######################################################################### 100.0%##O#- #                                                                        \n",
      "######################################################################### 100.0%00.0%##O#- #                                                                        \n",
      "\u001b[32m\u001b[1m   Updating\u001b[22m\u001b[39m `/mnt/c/Users/Ariel/Desktop/EP1/src/Project.toml`\n",
      " \u001b[90m [336ed68f]\u001b[39m\u001b[92m + CSV v0.6.2\u001b[39m\n",
      " \u001b[90m [a93c6f00]\u001b[39m\u001b[92m + DataFrames v0.21.1\u001b[39m\n",
      " \u001b[90m [31c24e10]\u001b[39m\u001b[92m + Distributions v0.23.2\u001b[39m\n",
      " \u001b[90m [7073ff75]\u001b[39m\u001b[92m + IJulia v1.21.2\u001b[39m\n",
      " \u001b[90m [8314cec4]\u001b[39m\u001b[92m + PGFPlotsX v1.2.6\u001b[39m\n",
      " \u001b[90m [1a8c2f83]\u001b[39m\u001b[92m + Query v0.12.2\u001b[39m\n",
      " \u001b[90m [f3b207a7]\u001b[39m\u001b[92m + StatsPlots v0.14.6\u001b[39m\n",
      "\u001b[32m\u001b[1m   Updating\u001b[22m\u001b[39m `/mnt/c/Users/Ariel/Desktop/EP1/src/Manifest.toml`\n",
      " \u001b[90m [621f4979]\u001b[39m\u001b[92m + AbstractFFTs v0.5.0\u001b[39m\n",
      " \u001b[90m [dce04be8]\u001b[39m\u001b[92m + ArgCheck v2.0.0\u001b[39m\n",
      " \u001b[90m [7d9fca2a]\u001b[39m\u001b[92m + Arpack v0.4.0\u001b[39m\n",
      " \u001b[90m [68821587]\u001b[39m\u001b[92m + Arpack_jll v3.5.0+3\u001b[39m\n",
      " \u001b[90m [4fba245c]\u001b[39m\u001b[92m + ArrayInterface v2.8.7\u001b[39m\n",
      " \u001b[90m [13072b0f]\u001b[39m\u001b[92m + AxisAlgorithms v1.0.0\u001b[39m\n",
      " \u001b[90m [6e34b625]\u001b[39m\u001b[92m + Bzip2_jll v1.0.6+2\u001b[39m\n",
      " \u001b[90m [336ed68f]\u001b[39m\u001b[92m + CSV v0.6.2\u001b[39m\n",
      " \u001b[90m [324d7699]\u001b[39m\u001b[92m + CategoricalArrays v0.8.1\u001b[39m\n",
      " \u001b[90m [aaaa29a8]\u001b[39m\u001b[92m + Clustering v0.14.0\u001b[39m\n",
      " \u001b[90m [35d6a980]\u001b[39m\u001b[92m + ColorSchemes v3.9.0\u001b[39m\n",
      " \u001b[90m [3da002f7]\u001b[39m\u001b[92m + ColorTypes v0.10.3\u001b[39m\n",
      " \u001b[90m [5ae59095]\u001b[39m\u001b[92m + Colors v0.12.1\u001b[39m\n",
      " \u001b[90m [bbf7d656]\u001b[39m\u001b[92m + CommonSubexpressions v0.2.0\u001b[39m\n",
      " \u001b[90m [34da2185]\u001b[39m\u001b[92m + Compat v3.10.0\u001b[39m\n",
      " \u001b[90m [e66e0078]\u001b[39m\u001b[92m + CompilerSupportLibraries_jll v0.3.3+0\u001b[39m\n",
      " \u001b[90m [8f4d0f93]\u001b[39m\u001b[92m + Conda v1.4.1\u001b[39m\n",
      " \u001b[90m [d38c429a]\u001b[39m\u001b[92m + Contour v0.5.3\u001b[39m\n",
      " \u001b[90m [9a962f9c]\u001b[39m\u001b[92m + DataAPI v1.3.0\u001b[39m\n",
      " \u001b[90m [a93c6f00]\u001b[39m\u001b[92m + DataFrames v0.21.1\u001b[39m\n",
      " \u001b[90m [864edb3b]\u001b[39m\u001b[92m + DataStructures v0.17.17\u001b[39m\n",
      " \u001b[90m [e2d170a0]\u001b[39m\u001b[92m + DataValueInterfaces v1.0.0\u001b[39m\n",
      " \u001b[90m [e7dc6d0d]\u001b[39m\u001b[92m + DataValues v0.4.13\u001b[39m\n",
      " \u001b[90m [3f0dd361]\u001b[39m\u001b[92m + DefaultApplication v1.0.0\u001b[39m\n",
      " \u001b[90m [163ba53b]\u001b[39m\u001b[92m + DiffResults v1.0.2\u001b[39m\n",
      " \u001b[90m [b552c78f]\u001b[39m\u001b[92m + DiffRules v1.0.1\u001b[39m\n",
      " \u001b[90m [b4f34e82]\u001b[39m\u001b[92m + Distances v0.8.2\u001b[39m\n",
      " \u001b[90m [31c24e10]\u001b[39m\u001b[92m + Distributions v0.23.2\u001b[39m\n",
      " \u001b[90m [ffbed154]\u001b[39m\u001b[92m + DocStringExtensions v0.8.1\u001b[39m\n",
      " \u001b[90m [c87230d0]\u001b[39m\u001b[92m + FFMPEG v0.3.0\u001b[39m\n",
      " \u001b[90m [b22a6f82]\u001b[39m\u001b[92m + FFMPEG_jll v4.1.0+3\u001b[39m\n",
      " \u001b[90m [7a1cc6ca]\u001b[39m\u001b[92m + FFTW v1.2.1\u001b[39m\n",
      " \u001b[90m [f5851436]\u001b[39m\u001b[92m + FFTW_jll v3.3.9+5\u001b[39m\n",
      " \u001b[90m [48062228]\u001b[39m\u001b[92m + FilePathsBase v0.8.0\u001b[39m\n",
      " \u001b[90m [1a297f60]\u001b[39m\u001b[92m + FillArrays v0.8.10\u001b[39m\n",
      " \u001b[90m [6a86dc24]\u001b[39m\u001b[92m + FiniteDiff v2.3.2\u001b[39m\n",
      " \u001b[90m [53c48c17]\u001b[39m\u001b[92m + FixedPointNumbers v0.8.0\u001b[39m\n",
      " \u001b[90m [f6369f11]\u001b[39m\u001b[92m + ForwardDiff v0.10.10\u001b[39m\n",
      " \u001b[90m [d7e528f0]\u001b[39m\u001b[92m + FreeType2_jll v2.10.1+2\u001b[39m\n",
      " \u001b[90m [559328eb]\u001b[39m\u001b[92m + FriBidi_jll v1.0.5+3\u001b[39m\n",
      " \u001b[90m [28b8d3ca]\u001b[39m\u001b[92m + GR v0.49.1\u001b[39m\n",
      " \u001b[90m [4d00f742]\u001b[39m\u001b[92m + GeometryTypes v0.8.3\u001b[39m\n",
      " \u001b[90m [7073ff75]\u001b[39m\u001b[92m + IJulia v1.21.2\u001b[39m\n",
      " \u001b[90m [1d5cc7b8]\u001b[39m\u001b[92m + IntelOpenMP_jll v2018.0.3+0\u001b[39m\n",
      " \u001b[90m [a98d9a8b]\u001b[39m\u001b[92m + Interpolations v0.12.10\u001b[39m\n",
      " \u001b[90m [41ab1584]\u001b[39m\u001b[92m + InvertedIndices v1.0.0\u001b[39m\n",
      " \u001b[90m [1c8ee90f]\u001b[39m\u001b[92m + IterableTables v1.0.0\u001b[39m\n",
      " \u001b[90m [82899510]\u001b[39m\u001b[92m + IteratorInterfaceExtensions v1.0.0\u001b[39m\n",
      " \u001b[90m [682c06a0]\u001b[39m\u001b[92m + JSON v0.21.0\u001b[39m\n",
      " \u001b[90m [5ab0869b]\u001b[39m\u001b[92m + KernelDensity v0.5.1\u001b[39m\n",
      " \u001b[90m [c1c5ebd0]\u001b[39m\u001b[92m + LAME_jll v3.100.0+1\u001b[39m\n",
      " \u001b[90m [dd192d2f]\u001b[39m\u001b[92m + LibVPX_jll v1.8.1+1\u001b[39m\n",
      " \u001b[90m [d3d80556]\u001b[39m\u001b[92m + LineSearches v7.0.1\u001b[39m\n",
      " \u001b[90m [856f044c]\u001b[39m\u001b[92m + MKL_jll v2019.0.117+2\u001b[39m\n",
      " \u001b[90m [1914dd2f]\u001b[39m\u001b[92m + MacroTools v0.5.5\u001b[39m\n",
      " \u001b[90m [739be429]\u001b[39m\u001b[92m + MbedTLS v1.0.2\u001b[39m\n",
      " \u001b[90m [c8ffd9c3]\u001b[39m\u001b[92m + MbedTLS_jll v2.16.0+2\u001b[39m\n",
      " \u001b[90m [442fdcdd]\u001b[39m\u001b[92m + Measures v0.3.1\u001b[39m\n",
      " \u001b[90m [e1d29d7a]\u001b[39m\u001b[92m + Missings v0.4.3\u001b[39m\n",
      " \u001b[90m [6f286f6a]\u001b[39m\u001b[92m + MultivariateStats v0.7.0\u001b[39m\n",
      " \u001b[90m [d41bc354]\u001b[39m\u001b[92m + NLSolversBase v7.6.1\u001b[39m\n",
      " \u001b[90m [77ba4419]\u001b[39m\u001b[92m + NaNMath v0.3.3\u001b[39m\n",
      " \u001b[90m [b8a86587]\u001b[39m\u001b[92m + NearestNeighbors v0.4.4\u001b[39m\n",
      " \u001b[90m [510215fc]\u001b[39m\u001b[92m + Observables v0.3.1\u001b[39m\n",
      " \u001b[90m [6fe1bfb0]\u001b[39m\u001b[92m + OffsetArrays v1.0.4\u001b[39m\n",
      " \u001b[90m [e7412a2a]\u001b[39m\u001b[92m + Ogg_jll v1.3.4+0\u001b[39m\n",
      " \u001b[90m [4536629a]\u001b[39m\u001b[92m + OpenBLAS_jll v0.3.9+4\u001b[39m\n",
      " \u001b[90m [458c3c95]\u001b[39m\u001b[92m + OpenSSL_jll v1.1.1+2\u001b[39m\n",
      " \u001b[90m [efe28fd5]\u001b[39m\u001b[92m + OpenSpecFun_jll v0.5.3+3\u001b[39m\n",
      " \u001b[90m [429524aa]\u001b[39m\u001b[92m + Optim v0.21.0\u001b[39m\n",
      " \u001b[90m [91d4177d]\u001b[39m\u001b[92m + Opus_jll v1.3.1+1\u001b[39m\n",
      " \u001b[90m [bac558e1]\u001b[39m\u001b[92m + OrderedCollections v1.2.0\u001b[39m\n",
      " \u001b[90m [90014a1f]\u001b[39m\u001b[92m + PDMats v0.9.12\u001b[39m\n",
      " \u001b[90m [8314cec4]\u001b[39m\u001b[92m + PGFPlotsX v1.2.6\u001b[39m\n",
      " \u001b[90m [d96e819e]\u001b[39m\u001b[92m + Parameters v0.12.1\u001b[39m\n",
      " \u001b[90m [69de0a69]\u001b[39m\u001b[92m + Parsers v1.0.4\u001b[39m\n",
      " \u001b[90m [ccf2f8ad]\u001b[39m\u001b[92m + PlotThemes v2.0.0\u001b[39m\n",
      " \u001b[90m [995b91a9]\u001b[39m\u001b[92m + PlotUtils v1.0.4\u001b[39m\n",
      " \u001b[90m [91a5bcdd]\u001b[39m\u001b[92m + Plots v1.3.4\u001b[39m\n",
      " \u001b[90m [2dfb63ee]\u001b[39m\u001b[92m + PooledArrays v0.5.3\u001b[39m\n",
      " \u001b[90m [85a6dd25]\u001b[39m\u001b[92m + PositiveFactorizations v0.2.3\u001b[39m\n",
      " \u001b[90m [1fd47b50]\u001b[39m\u001b[92m + QuadGK v2.3.1\u001b[39m\n",
      " \u001b[90m [1a8c2f83]\u001b[39m\u001b[92m + Query v0.12.2\u001b[39m\n",
      " \u001b[90m [2aef5ad7]\u001b[39m\u001b[92m + QueryOperators v0.9.1\u001b[39m\n",
      " \u001b[90m [c84ed2f1]\u001b[39m\u001b[92m + Ratios v0.4.0\u001b[39m\n",
      " \u001b[90m [3cdcf5f2]\u001b[39m\u001b[92m + RecipesBase v1.0.1\u001b[39m\n",
      " \u001b[90m [01d81517]\u001b[39m\u001b[92m + RecipesPipeline v0.1.9\u001b[39m\n",
      " \u001b[90m [189a3867]\u001b[39m\u001b[92m + Reexport v0.2.0\u001b[39m\n",
      " \u001b[90m [ae029012]\u001b[39m\u001b[92m + Requires v1.0.1\u001b[39m\n",
      " \u001b[90m [79098fc4]\u001b[39m\u001b[92m + Rmath v0.6.1\u001b[39m\n",
      " \u001b[90m [f50d1b31]\u001b[39m\u001b[92m + Rmath_jll v0.2.2+0\u001b[39m\n",
      " \u001b[90m [992d4aef]\u001b[39m\u001b[92m + Showoff v0.3.1\u001b[39m\n",
      " \u001b[90m [b85f4697]\u001b[39m\u001b[92m + SoftGlobalScope v1.0.10\u001b[39m\n",
      " \u001b[90m [a2af1166]\u001b[39m\u001b[92m + SortingAlgorithms v0.3.1\u001b[39m\n",
      " \u001b[90m [276daf66]\u001b[39m\u001b[92m + SpecialFunctions v0.10.3\u001b[39m\n",
      " \u001b[90m [90137ffa]\u001b[39m\u001b[92m + StaticArrays v0.12.3\u001b[39m\n"
     ]
    },
    {
     "name": "stderr",
     "output_type": "stream",
     "text": [
      " \u001b[90m [2913bbd2]\u001b[39m\u001b[92m + StatsBase v0.33.0\u001b[39m\n",
      " \u001b[90m [4c63d2b9]\u001b[39m\u001b[92m + StatsFuns v0.9.5\u001b[39m\n",
      " \u001b[90m [f3b207a7]\u001b[39m\u001b[92m + StatsPlots v0.14.6\u001b[39m\n",
      " \u001b[90m [ab02a1b2]\u001b[39m\u001b[92m + TableOperations v0.2.1\u001b[39m\n",
      " \u001b[90m [5e66a065]\u001b[39m\u001b[92m + TableShowUtils v0.2.5\u001b[39m\n",
      " \u001b[90m [3783bdb8]\u001b[39m\u001b[92m + TableTraits v1.0.0\u001b[39m\n",
      " \u001b[90m [382cd787]\u001b[39m\u001b[92m + TableTraitsUtils v1.0.1\u001b[39m\n",
      " \u001b[90m [bd369af6]\u001b[39m\u001b[92m + Tables v1.0.4\u001b[39m\n",
      " \u001b[90m [3a884ed6]\u001b[39m\u001b[92m + UnPack v1.0.1\u001b[39m\n",
      " \u001b[90m [81def892]\u001b[39m\u001b[92m + VersionParsing v1.2.0\u001b[39m\n",
      " \u001b[90m [ea10d353]\u001b[39m\u001b[92m + WeakRefStrings v0.6.2\u001b[39m\n",
      " \u001b[90m [cc8bc4a8]\u001b[39m\u001b[92m + Widgets v0.6.2\u001b[39m\n",
      " \u001b[90m [efce3f68]\u001b[39m\u001b[92m + WoodburyMatrices v0.5.2\u001b[39m\n",
      " \u001b[90m [c2297ded]\u001b[39m\u001b[92m + ZMQ v1.2.0\u001b[39m\n",
      " \u001b[90m [8f1865be]\u001b[39m\u001b[92m + ZeroMQ_jll v4.3.2+3\u001b[39m\n",
      " \u001b[90m [83775a58]\u001b[39m\u001b[92m + Zlib_jll v1.2.11+10\u001b[39m\n",
      " \u001b[90m [0ac62f75]\u001b[39m\u001b[92m + libass_jll v0.14.0+2\u001b[39m\n",
      " \u001b[90m [f638f0a6]\u001b[39m\u001b[92m + libfdk_aac_jll v0.1.6+2\u001b[39m\n",
      " \u001b[90m [f27f6e37]\u001b[39m\u001b[92m + libvorbis_jll v1.3.6+4\u001b[39m\n",
      " \u001b[90m [1270edf5]\u001b[39m\u001b[92m + x264_jll v2019.5.25+2\u001b[39m\n",
      " \u001b[90m [dfaa095f]\u001b[39m\u001b[92m + x265_jll v3.0.0+1\u001b[39m\n",
      " \u001b[90m [2a0f44e3]\u001b[39m\u001b[92m + Base64 \u001b[39m\n",
      " \u001b[90m [ade2ca70]\u001b[39m\u001b[92m + Dates \u001b[39m\n",
      " \u001b[90m [8bb1440f]\u001b[39m\u001b[92m + DelimitedFiles \u001b[39m\n",
      " \u001b[90m [8ba89e20]\u001b[39m\u001b[92m + Distributed \u001b[39m\n",
      " \u001b[90m [7b1f6079]\u001b[39m\u001b[92m + FileWatching \u001b[39m\n",
      " \u001b[90m [9fa8497b]\u001b[39m\u001b[92m + Future \u001b[39m\n",
      " \u001b[90m [b77e0a4c]\u001b[39m\u001b[92m + InteractiveUtils \u001b[39m\n",
      " \u001b[90m [76f85450]\u001b[39m\u001b[92m + LibGit2 \u001b[39m\n",
      " \u001b[90m [8f399da3]\u001b[39m\u001b[92m + Libdl \u001b[39m\n",
      " \u001b[90m [37e2e46d]\u001b[39m\u001b[92m + LinearAlgebra \u001b[39m\n",
      " \u001b[90m [56ddb016]\u001b[39m\u001b[92m + Logging \u001b[39m\n",
      " \u001b[90m [d6f4376e]\u001b[39m\u001b[92m + Markdown \u001b[39m\n",
      " \u001b[90m [a63ad114]\u001b[39m\u001b[92m + Mmap \u001b[39m\n",
      " \u001b[90m [44cfe95a]\u001b[39m\u001b[92m + Pkg \u001b[39m\n",
      " \u001b[90m [de0858da]\u001b[39m\u001b[92m + Printf \u001b[39m\n",
      " \u001b[90m [3fa0cd96]\u001b[39m\u001b[92m + REPL \u001b[39m\n",
      " \u001b[90m [9a3f8284]\u001b[39m\u001b[92m + Random \u001b[39m\n",
      " \u001b[90m [ea8e919c]\u001b[39m\u001b[92m + SHA \u001b[39m\n",
      " \u001b[90m [9e88b42a]\u001b[39m\u001b[92m + Serialization \u001b[39m\n",
      " \u001b[90m [1a1011a3]\u001b[39m\u001b[92m + SharedArrays \u001b[39m\n",
      " \u001b[90m [6462fe0b]\u001b[39m\u001b[92m + Sockets \u001b[39m\n",
      " \u001b[90m [2f01184e]\u001b[39m\u001b[92m + SparseArrays \u001b[39m\n",
      " \u001b[90m [10745b16]\u001b[39m\u001b[92m + Statistics \u001b[39m\n",
      " \u001b[90m [4607b0f0]\u001b[39m\u001b[92m + SuiteSparse \u001b[39m\n",
      " \u001b[90m [8dfed614]\u001b[39m\u001b[92m + Test \u001b[39m\n",
      " \u001b[90m [cf7118a7]\u001b[39m\u001b[92m + UUIDs \u001b[39m\n",
      " \u001b[90m [4ec0a83e]\u001b[39m\u001b[92m + Unicode \u001b[39m\n",
      "\u001b[32m\u001b[1m   Building\u001b[22m\u001b[39m GR ───→ `~/.julia/packages/GR/cRdXQ/deps/build.log`\n",
      "\u001b[32m\u001b[1m   Building\u001b[22m\u001b[39m Plots → `~/.julia/packages/Plots/HqUc7/deps/build.log`\n",
      "\u001b[32m\u001b[1m   Building\u001b[22m\u001b[39m FFTW ─→ `~/.julia/packages/FFTW/5DZuu/deps/build.log`\n"
     ]
    }
   ],
   "source": [
    "]up"
   ]
  },
  {
   "cell_type": "code",
   "execution_count": null,
   "metadata": {},
   "outputs": [],
   "source": [
    "Tambem podemos verificar se ha algum problema rodando a seguinte celula"
   ]
  },
  {
   "cell_type": "code",
   "execution_count": 2,
   "metadata": {},
   "outputs": [
    {
     "name": "stdout",
     "output_type": "stream",
     "text": [
      "\u001b[32m\u001b[1mStatus\u001b[22m\u001b[39m `/mnt/c/Users/Ariel/Desktop/EP1/src/Project.toml`\n",
      " \u001b[90m [336ed68f]\u001b[39m\u001b[37m CSV v0.6.2\u001b[39m\n",
      " \u001b[90m [a93c6f00]\u001b[39m\u001b[37m DataFrames v0.21.1\u001b[39m\n",
      " \u001b[90m [31c24e10]\u001b[39m\u001b[37m Distributions v0.23.2\u001b[39m\n",
      " \u001b[90m [7073ff75]\u001b[39m\u001b[37m IJulia v1.21.2\u001b[39m\n",
      " \u001b[90m [8314cec4]\u001b[39m\u001b[37m PGFPlotsX v1.2.6\u001b[39m\n",
      " \u001b[90m [1a8c2f83]\u001b[39m\u001b[37m Query v0.12.2\u001b[39m\n",
      " \u001b[90m [f3b207a7]\u001b[39m\u001b[37m StatsPlots v0.14.6\u001b[39m\n"
     ]
    }
   ],
   "source": [
    "] st"
   ]
  },
  {
   "cell_type": "code",
   "execution_count": null,
   "metadata": {},
   "outputs": [],
   "source": [
    "### Infra estrutura C\n",
    "\n",
    "blablabla explicacao"
   ]
  },
  {
   "cell_type": "code",
   "execution_count": null,
   "metadata": {},
   "outputs": [],
   "source": [
    "### Experimentos"
   ]
  },
  {
   "cell_type": "code",
   "execution_count": 5,
   "metadata": {},
   "outputs": [
    {
     "data": {
      "text/html": [
       "<table class=\"data-frame\"><thead><tr><th></th><th>size</th><th>delta_x</th><th>delta_y</th><th>duration</th><th>threads</th></tr><tr><th></th><th>Int64</th><th>Int64</th><th>Int64</th><th>Float64</th><th>Int64</th></tr></thead><tbody><p>1 rows × 5 columns</p><tr><th>1</th><td>1000</td><td>1</td><td>1</td><td>0.36704</td><td>1</td></tr></tbody></table>"
      ],
      "text/latex": [
       "\\begin{tabular}{r|ccccc}\n",
       "\t& size & delta\\_x & delta\\_y & duration & threads\\\\\n",
       "\t\\hline\n",
       "\t& Int64 & Int64 & Int64 & Float64 & Int64\\\\\n",
       "\t\\hline\n",
       "\t1 & 1000 & 1 & 1 & 0.36704 & 1 \\\\\n",
       "\\end{tabular}\n"
      ],
      "text/plain": [
       "1×5 DataFrame\n",
       "│ Row │ size  │ delta_x │ delta_y │ duration │ threads │\n",
       "│     │ \u001b[90mInt64\u001b[39m │ \u001b[90mInt64\u001b[39m   │ \u001b[90mInt64\u001b[39m   │ \u001b[90mFloat64\u001b[39m  │ \u001b[90mInt64\u001b[39m   │\n",
       "├─────┼───────┼─────────┼─────────┼──────────┼─────────┤\n",
       "│ 1   │ 1000  │ 1       │ 1       │ 0.36704  │ 1       │"
      ]
     },
     "execution_count": 5,
     "metadata": {},
     "output_type": "execute_result"
    }
   ],
   "source": [
    "using DataFrames, Query, StatsPlots, Statistics\n",
    "\n",
    "function mandelbrot_seq(c_x_min, c_x_max, c_y_min, c_y_max, image_size)\n",
    "    results = parse.(Float64,\n",
    "        split(chomp(read(`./mandelbrot_seq $c_x_min $c_x_max $c_y_min $c_y_max $image_size`, String)), \",\"))\n",
    "        \n",
    "    return DataFrame(size = image_size,\n",
    "        delta_x = c_x_max - c_x_min,\n",
    "        delta_y = c_y_max - c_y_min,\n",
    "        duration = results[1],\n",
    "        threads=1)\n",
    "end\n",
    "\n",
    "function mandelbrot_pth(c_x_min, c_x_max, c_y_min, c_y_max, image_size, threads)\n",
    "    results = parse.(Float64,\n",
    "        split(chomp(read(`./mandelbrot_pth $c_x_min $c_x_max $c_y_min $c_y_max $image_size $threads`, String)), \", \"))\n",
    "        \n",
    "    return DataFrame(size = image_size,\n",
    "                delta_x = c_x_max - c_x_min,\n",
    "                delta_y = c_y_max - c_y_min,\n",
    "                duration = results[2],\n",
    "                threads=threads)\n",
    "end\n",
    "\n",
    "function mandelbrot(method, c_x_min, c_x_max, c_y_min, c_y_max, image_size, threads)\n",
    "    results = parse.(Float64,\n",
    "        split(chomp(read(`./mandelbrot_$method $c_x_min $c_x_max $c_y_min $c_y_max $image_size $threads`, String)), \", \"))\n",
    "        \n",
    "    return DataFrame(size = image_size,\n",
    "                delta_x = c_x_max - c_x_min,\n",
    "                delta_y = c_y_max - c_y_min,\n",
    "                duration = results[2],\n",
    "                threads=threads)\n",
    "end\n",
    "\n",
    "mandelbrot_seq(0, 1,0,1,1000)"
   ]
  },
  {
   "cell_type": "markdown",
   "metadata": {},
   "source": [
    "mais uma outra funcao do miniEP3 adaptada para o nosso caso"
   ]
  },
  {
   "cell_type": "code",
   "execution_count": 32,
   "metadata": {},
   "outputs": [
    {
     "data": {
      "text/plain": [
       "run_experiments (generic function with 3 methods)"
      ]
     },
     "execution_count": 32,
     "metadata": {},
     "output_type": "execute_result"
    }
   ],
   "source": [
    "function run_experiments(c_x_min, c_x_max, c_y_min, c_y_max, image_size, threads, repetitions)\n",
    "    run(`make`)\n",
    "    \n",
    "    results = DataFrame(size = Int[],\n",
    "        delta_x = Int[],\n",
    "        delta_y = Int[],\n",
    "        duration = Float64[],\n",
    "        threads= Int[])   \n",
    "    for t in threads\n",
    "        for r in 1:repetitions\n",
    "            append!(results,\n",
    "                mandelbrot_pth(c_x_min, c_x_max, c_y_min, c_y_max, image_size , t))\n",
    "            \n",
    "        end\n",
    "    end\n",
    "    return results\n",
    "end"
   ]
  },
  {
   "cell_type": "code",
   "execution_count": null,
   "metadata": {},
   "outputs": [],
   "source": [
    "mais uma"
   ]
  },
  {
   "cell_type": "code",
   "execution_count": 39,
   "metadata": {},
   "outputs": [
    {
     "data": {
      "text/plain": [
       "parse_results (generic function with 1 method)"
      ]
     },
     "execution_count": 39,
     "metadata": {},
     "output_type": "execute_result"
    }
   ],
   "source": [
    "function parse_results(results)\n",
    "    parsed_results = results |>\n",
    "                    @groupby(_.threads) |>\n",
    "                    @map({threads = key(_),\n",
    "                        image_size = mean(_.size),\n",
    "                          delta_x = mean(_.delta_x),\n",
    "                          delta_y = mean(_.delta_y),\n",
    "                          mean_duration = mean(_.duration),\n",
    "                          ci_duration = 1.96 * std(_.duration)})|>\n",
    "                    DataFrame\n",
    "\n",
    "    return parsed_results\n",
    "end"
   ]
  },
  {
   "cell_type": "code",
   "execution_count": 15,
   "metadata": {},
   "outputs": [
    {
     "ename": "LoadError",
     "evalue": "syntax: extra token \"valores\" after end of expression",
     "output_type": "error",
     "traceback": [
      "syntax: extra token \"valores\" after end of expression",
      ""
     ]
    }
   ],
   "source": [
    "arrumando valores para experimentos"
   ]
  },
  {
   "cell_type": "code",
   "execution_count": 40,
   "metadata": {},
   "outputs": [
    {
     "name": "stdout",
     "output_type": "stream",
     "text": [
      "make: Nothing to be done for 'all'.\n"
     ]
    },
    {
     "data": {
      "text/html": [
       "<table class=\"data-frame\"><thead><tr><th></th><th>threads</th><th>image_size</th><th>delta_x</th><th>delta_y</th><th>mean_duration</th><th>ci_duration</th></tr><tr><th></th><th>Int64</th><th>Float64</th><th>Float64</th><th>Float64</th><th>Float64</th><th>Float64</th></tr></thead><tbody><p>6 rows × 6 columns</p><tr><th>1</th><td>1</td><td>1000.0</td><td>1.0</td><td>1.0</td><td>0.355548</td><td>0.00439986</td></tr><tr><th>2</th><td>2</td><td>1000.0</td><td>1.0</td><td>1.0</td><td>0.291933</td><td>0.0113595</td></tr><tr><th>3</th><td>4</td><td>1000.0</td><td>1.0</td><td>1.0</td><td>0.166139</td><td>0.00644046</td></tr><tr><th>4</th><td>8</td><td>1000.0</td><td>1.0</td><td>1.0</td><td>0.131594</td><td>0.00815383</td></tr><tr><th>5</th><td>16</td><td>1000.0</td><td>1.0</td><td>1.0</td><td>0.123278</td><td>0.00455835</td></tr><tr><th>6</th><td>32</td><td>1000.0</td><td>1.0</td><td>1.0</td><td>0.118677</td><td>0.00256883</td></tr></tbody></table>"
      ],
      "text/latex": [
       "\\begin{tabular}{r|cccccc}\n",
       "\t& threads & image\\_size & delta\\_x & delta\\_y & mean\\_duration & ci\\_duration\\\\\n",
       "\t\\hline\n",
       "\t& Int64 & Float64 & Float64 & Float64 & Float64 & Float64\\\\\n",
       "\t\\hline\n",
       "\t1 & 1 & 1000.0 & 1.0 & 1.0 & 0.355548 & 0.00439986 \\\\\n",
       "\t2 & 2 & 1000.0 & 1.0 & 1.0 & 0.291933 & 0.0113595 \\\\\n",
       "\t3 & 4 & 1000.0 & 1.0 & 1.0 & 0.166139 & 0.00644046 \\\\\n",
       "\t4 & 8 & 1000.0 & 1.0 & 1.0 & 0.131594 & 0.00815383 \\\\\n",
       "\t5 & 16 & 1000.0 & 1.0 & 1.0 & 0.123278 & 0.00455835 \\\\\n",
       "\t6 & 32 & 1000.0 & 1.0 & 1.0 & 0.118677 & 0.00256883 \\\\\n",
       "\\end{tabular}\n"
      ],
      "text/plain": [
       "6×6 DataFrame\n",
       "│ Row │ threads │ image_size │ delta_x │ delta_y │ mean_duration │ ci_duration │\n",
       "│     │ \u001b[90mInt64\u001b[39m   │ \u001b[90mFloat64\u001b[39m    │ \u001b[90mFloat64\u001b[39m │ \u001b[90mFloat64\u001b[39m │ \u001b[90mFloat64\u001b[39m       │ \u001b[90mFloat64\u001b[39m     │\n",
       "├─────┼─────────┼────────────┼─────────┼─────────┼───────────────┼─────────────┤\n",
       "│ 1   │ 1       │ 1000.0     │ 1.0     │ 1.0     │ 0.355548      │ 0.00439986  │\n",
       "│ 2   │ 2       │ 1000.0     │ 1.0     │ 1.0     │ 0.291933      │ 0.0113595   │\n",
       "│ 3   │ 4       │ 1000.0     │ 1.0     │ 1.0     │ 0.166139      │ 0.00644046  │\n",
       "│ 4   │ 8       │ 1000.0     │ 1.0     │ 1.0     │ 0.131594      │ 0.00815383  │\n",
       "│ 5   │ 16      │ 1000.0     │ 1.0     │ 1.0     │ 0.123278      │ 0.00455835  │\n",
       "│ 6   │ 32      │ 1000.0     │ 1.0     │ 1.0     │ 0.118677      │ 0.00256883  │"
      ]
     },
     "execution_count": 40,
     "metadata": {},
     "output_type": "execute_result"
    }
   ],
   "source": [
    "size =[trunc(Int,(10000000/(2^x))) for x in 7:11]\n",
    "f = 0\n",
    "threads = [2 ^ x for x in 0:5]\n",
    "repetitions = 10\n",
    "\n",
    "results = run_experiments(0, 1, 0, 1, 1000, threads, repetitions)\n",
    "parsed_results = parse_results(results)"
   ]
  },
  {
   "cell_type": "code",
   "execution_count": null,
   "metadata": {},
   "outputs": [],
   "source": [
    "tambem vamos salvar como csv"
   ]
  },
  {
   "cell_type": "code",
   "execution_count": 41,
   "metadata": {},
   "outputs": [
    {
     "name": "stderr",
     "output_type": "stream",
     "text": [
      "┌ Info: Precompiling CSV [336ed68f-0bac-5ca0-87d4-7b16caf5d00b]\n",
      "└ @ Base loading.jl:1260\n"
     ]
    },
    {
     "data": {
      "text/plain": [
       "save_csv_results (generic function with 1 method)"
      ]
     },
     "execution_count": 41,
     "metadata": {},
     "output_type": "execute_result"
    }
   ],
   "source": [
    "using CSV\n",
    "function save_csv_results(data_frame)\n",
    "    CSV.write(\"./data_frame.csv\",data_frame,delim='\\t')\n",
    "end"
   ]
  },
  {
   "cell_type": "code",
   "execution_count": null,
   "metadata": {},
   "outputs": [],
   "source": [
    "e ler o csv para fazer graficos"
   ]
  },
  {
   "cell_type": "code",
   "execution_count": 42,
   "metadata": {},
   "outputs": [
    {
     "data": {
      "text/plain": [
       "read_csv_results (generic function with 1 method)"
      ]
     },
     "execution_count": 42,
     "metadata": {},
     "output_type": "execute_result"
    }
   ],
   "source": [
    "using CSV\n",
    "function read_csv_results()\n",
    "    df=CSV.read(\"./data_frame.csv\")\n",
    "    return df\n",
    "end"
   ]
  },
  {
   "cell_type": "code",
   "execution_count": 43,
   "metadata": {},
   "outputs": [
    {
     "name": "stderr",
     "output_type": "stream",
     "text": [
      "┌ Info: Precompiling PGFPlotsX [8314cec4-20b6-5062-9cdb-752b83310925]\n",
      "└ @ Base loading.jl:1260\n",
      "┌ Info: Precompiling Contour [d38c429a-6771-53c6-b99e-75d170b6e991]\n",
      "└ @ Base loading.jl:1260\n"
     ]
    },
    {
     "data": {
      "text/plain": [
       "plot_results (generic function with 1 method)"
      ]
     },
     "execution_count": 43,
     "metadata": {},
     "output_type": "execute_result"
    }
   ],
   "source": [
    "pgfplotsx()\n",
    "\n",
    "function plot_results(x, y, target_label, series_label; hline = [], yerror = [], max_thread_power = 10)\n",
    "    if yerror != []\n",
    "        p = scatter(x,\n",
    "            y,\n",
    "            xaxis = :log2,\n",
    "            xlabel = \"Threads\",\n",
    "            xticks = [2 ^ x for x in 0:max_thread_power],\n",
    "            yerror = yerror,\n",
    "            alpha = 100,\n",
    "            labels = series_label,\n",
    "            legend = :topright)\n",
    "    else\n",
    "        p = scatter(x,\n",
    "            y,\n",
    "            xaxis = :log2,\n",
    "            xlabel = \"Threads\",\n",
    "            xticks = [2 ^ x for x in 0:max_thread_power],\n",
    "            alpha = 0.6,\n",
    "            labels = series_label,\n",
    "            legend = :topright)\n",
    "    end\n",
    "\n",
    "    if hline != []\n",
    "        plot!(x,\n",
    "            hline,\n",
    "            xaxis = :log2,\n",
    "            xlabel = \"Threads\",\n",
    "            xticks = [2 ^ x for x in 0:max_thread_power],\n",
    "            labels = target_label,\n",
    "            line = :dash,\n",
    "            width = 2.0)\n",
    "    end\n",
    "\n",
    "    return p\n",
    "end\n"
   ]
  },
  {
   "cell_type": "code",
   "execution_count": 47,
   "metadata": {},
   "outputs": [
    {
     "data": {
      "image/svg+xml": [
       "<?xml version=\"1.0\" encoding=\"UTF-8\"?>\n",
       "<svg xmlns=\"http://www.w3.org/2000/svg\" xmlns:xlink=\"http://www.w3.org/1999/xlink\" width=\"412.485pt\" height=\"274.647pt\" viewBox=\"0 0 412.485 274.647\" version=\"1.2\">\n",
       "<defs>\n",
       "<g>\n",
       "<symbol overflow=\"visible\" id=\"glyph-1590595720703689-0-0\">\n",
       "<path style=\"stroke:none;\" d=\"\"/>\n",
       "</symbol>\n",
       "<symbol overflow=\"visible\" id=\"glyph-1590595720703689-0-1\">\n",
       "<path style=\"stroke:none;\" d=\"M 2.25 -1.625 C 2.375 -1.734375 2.703125 -2 2.828125 -2.109375 C 3.328125 -2.5625 3.796875 -3 3.796875 -3.734375 C 3.796875 -4.671875 3 -5.28125 2 -5.28125 C 1.046875 -5.28125 0.421875 -4.5625 0.421875 -3.859375 C 0.421875 -3.46875 0.734375 -3.40625 0.84375 -3.40625 C 1.015625 -3.40625 1.25 -3.53125 1.25 -3.828125 C 1.25 -4.25 0.859375 -4.25 0.765625 -4.25 C 1 -4.828125 1.53125 -5.03125 1.921875 -5.03125 C 2.65625 -5.03125 3.03125 -4.390625 3.03125 -3.734375 C 3.03125 -2.90625 2.453125 -2.296875 1.515625 -1.34375 L 0.515625 -0.296875 C 0.421875 -0.21875 0.421875 -0.203125 0.421875 0 L 3.5625 0 L 3.796875 -1.421875 L 3.546875 -1.421875 C 3.515625 -1.265625 3.453125 -0.859375 3.359375 -0.71875 C 3.3125 -0.65625 2.71875 -0.65625 2.578125 -0.65625 L 1.171875 -0.65625 Z M 2.25 -1.625 \"/>\n",
       "</symbol>\n",
       "<symbol overflow=\"visible\" id=\"glyph-1590595720703689-0-2\">\n",
       "<path style=\"stroke:none;\" d=\"M 3.890625 -2.53125 C 3.890625 -3.390625 3.796875 -3.90625 3.546875 -4.40625 C 3.1875 -5.109375 2.546875 -5.28125 2.109375 -5.28125 C 1.109375 -5.28125 0.734375 -4.546875 0.625 -4.3125 C 0.34375 -3.734375 0.328125 -2.953125 0.328125 -2.53125 C 0.328125 -2.015625 0.34375 -1.203125 0.734375 -0.578125 C 1.09375 0.015625 1.6875 0.171875 2.109375 0.171875 C 2.484375 0.171875 3.171875 0.046875 3.578125 -0.734375 C 3.859375 -1.3125 3.890625 -2.015625 3.890625 -2.53125 Z M 2.109375 -0.0625 C 1.84375 -0.0625 1.28125 -0.1875 1.125 -1.015625 C 1.03125 -1.46875 1.03125 -2.21875 1.03125 -2.625 C 1.03125 -3.1875 1.03125 -3.734375 1.125 -4.171875 C 1.28125 -4.984375 1.90625 -5.0625 2.109375 -5.0625 C 2.375 -5.0625 2.921875 -4.9375 3.078125 -4.203125 C 3.1875 -3.765625 3.1875 -3.171875 3.1875 -2.625 C 3.1875 -2.15625 3.1875 -1.453125 3.078125 -1 C 2.921875 -0.171875 2.375 -0.0625 2.109375 -0.0625 Z M 2.109375 -0.0625 \"/>\n",
       "</symbol>\n",
       "<symbol overflow=\"visible\" id=\"glyph-1590595720703689-0-3\">\n",
       "<path style=\"stroke:none;\" d=\"M 2.5 -5.0625 C 2.5 -5.28125 2.484375 -5.28125 2.265625 -5.28125 C 1.9375 -4.96875 1.515625 -4.78125 0.765625 -4.78125 L 0.765625 -4.515625 C 0.984375 -4.515625 1.40625 -4.515625 1.875 -4.734375 L 1.875 -0.65625 C 1.875 -0.359375 1.84375 -0.265625 1.09375 -0.265625 L 0.8125 -0.265625 L 0.8125 0 C 1.140625 -0.03125 1.828125 -0.03125 2.171875 -0.03125 C 2.53125 -0.03125 3.234375 -0.03125 3.5625 0 L 3.5625 -0.265625 L 3.28125 -0.265625 C 2.515625 -0.265625 2.5 -0.359375 2.5 -0.65625 Z M 2.5 -5.0625 \"/>\n",
       "</symbol>\n",
       "<symbol overflow=\"visible\" id=\"glyph-1590595720703689-0-4\">\n",
       "<path style=\"stroke:none;\" d=\"M 1.109375 -4.46875 C 1.21875 -4.4375 1.53125 -4.359375 1.875 -4.359375 C 2.859375 -4.359375 3.46875 -5.0625 3.46875 -5.171875 C 3.46875 -5.265625 3.40625 -5.28125 3.375 -5.28125 C 3.359375 -5.28125 3.34375 -5.28125 3.265625 -5.25 C 2.953125 -5.125 2.59375 -5.03125 2.15625 -5.03125 C 1.6875 -5.03125 1.296875 -5.15625 1.0625 -5.25 C 0.984375 -5.28125 0.96875 -5.28125 0.953125 -5.28125 C 0.84375 -5.28125 0.84375 -5.203125 0.84375 -5.0625 L 0.84375 -2.734375 C 0.84375 -2.578125 0.84375 -2.484375 0.984375 -2.484375 C 1.046875 -2.484375 1.0625 -2.515625 1.109375 -2.578125 C 1.203125 -2.703125 1.5 -3.109375 2.171875 -3.109375 C 2.625 -3.109375 2.84375 -2.75 2.90625 -2.59375 C 3.046875 -2.3125 3.0625 -1.9375 3.0625 -1.625 C 3.0625 -1.34375 3.046875 -0.90625 2.828125 -0.5625 C 2.6875 -0.3125 2.359375 -0.078125 1.9375 -0.078125 C 1.421875 -0.078125 0.921875 -0.390625 0.734375 -0.921875 C 0.75 -0.90625 0.796875 -0.90625 0.8125 -0.90625 C 1.03125 -0.90625 1.203125 -1.046875 1.203125 -1.296875 C 1.203125 -1.59375 0.984375 -1.6875 0.8125 -1.6875 C 0.671875 -1.6875 0.421875 -1.609375 0.421875 -1.265625 C 0.421875 -0.5625 1.046875 0.171875 1.953125 0.171875 C 2.953125 0.171875 3.796875 -0.609375 3.796875 -1.59375 C 3.796875 -2.515625 3.125 -3.328125 2.1875 -3.328125 C 1.796875 -3.328125 1.421875 -3.203125 1.109375 -2.9375 Z M 1.109375 -4.46875 \"/>\n",
       "</symbol>\n",
       "<symbol overflow=\"visible\" id=\"glyph-1590595720703689-0-5\">\n",
       "<path style=\"stroke:none;\" d=\"M 2.015625 -2.65625 C 2.640625 -2.65625 3.03125 -2.1875 3.03125 -1.359375 C 3.03125 -0.359375 2.46875 -0.078125 2.046875 -0.078125 C 1.609375 -0.078125 1.015625 -0.234375 0.734375 -0.65625 C 1.03125 -0.65625 1.21875 -0.828125 1.21875 -1.09375 C 1.21875 -1.359375 1.046875 -1.53125 0.78125 -1.53125 C 0.578125 -1.53125 0.34375 -1.40625 0.34375 -1.078125 C 0.34375 -0.328125 1.15625 0.171875 2.0625 0.171875 C 3.125 0.171875 3.859375 -0.5625 3.859375 -1.359375 C 3.859375 -2.015625 3.34375 -2.625 2.53125 -2.796875 C 3.15625 -3.015625 3.625 -3.5625 3.625 -4.203125 C 3.625 -4.828125 2.90625 -5.28125 2.078125 -5.28125 C 1.234375 -5.28125 0.59375 -4.828125 0.59375 -4.21875 C 0.59375 -3.921875 0.78125 -3.796875 1 -3.796875 C 1.234375 -3.796875 1.40625 -3.984375 1.40625 -4.203125 C 1.40625 -4.5 1.140625 -4.609375 0.96875 -4.625 C 1.296875 -5.0625 1.921875 -5.078125 2.0625 -5.078125 C 2.265625 -5.078125 2.875 -5.015625 2.875 -4.203125 C 2.875 -3.640625 2.640625 -3.3125 2.53125 -3.1875 C 2.296875 -2.9375 2.109375 -2.921875 1.625 -2.890625 C 1.46875 -2.875 1.40625 -2.875 1.40625 -2.765625 C 1.40625 -2.65625 1.484375 -2.65625 1.609375 -2.65625 Z M 2.015625 -2.65625 \"/>\n",
       "</symbol>\n",
       "<symbol overflow=\"visible\" id=\"glyph-1590595720703689-1-0\">\n",
       "<path style=\"stroke:none;\" d=\"\"/>\n",
       "</symbol>\n",
       "<symbol overflow=\"visible\" id=\"glyph-1590595720703689-1-1\">\n",
       "<path style=\"stroke:none;\" d=\"M 3.28125 -1.90625 C 3.28125 -2.34375 3.28125 -3.96875 1.828125 -3.96875 C 0.359375 -3.96875 0.359375 -2.34375 0.359375 -1.90625 C 0.359375 -1.46875 0.359375 0.125 1.828125 0.125 C 3.28125 0.125 3.28125 -1.46875 3.28125 -1.90625 Z M 1.828125 -0.0625 C 1.5625 -0.0625 1.15625 -0.1875 1.015625 -0.6875 C 0.921875 -1.03125 0.921875 -1.609375 0.921875 -1.984375 C 0.921875 -2.375 0.921875 -2.84375 1.015625 -3.15625 C 1.15625 -3.703125 1.609375 -3.78125 1.828125 -3.78125 C 2.09375 -3.78125 2.484375 -3.640625 2.625 -3.1875 C 2.703125 -2.875 2.71875 -2.4375 2.71875 -1.984375 C 2.71875 -1.59375 2.71875 -1 2.609375 -0.65625 C 2.453125 -0.140625 2.015625 -0.0625 1.828125 -0.0625 Z M 1.828125 -0.0625 \"/>\n",
       "</symbol>\n",
       "<symbol overflow=\"visible\" id=\"glyph-1590595720703689-1-2\">\n",
       "<path style=\"stroke:none;\" d=\"M 2.140625 -3.796875 C 2.140625 -3.96875 2.125 -3.96875 1.9375 -3.96875 C 1.546875 -3.59375 0.9375 -3.59375 0.71875 -3.59375 L 0.71875 -3.359375 C 0.875 -3.359375 1.265625 -3.359375 1.625 -3.515625 L 1.625 -0.5 C 1.625 -0.3125 1.625 -0.234375 1.015625 -0.234375 L 0.765625 -0.234375 L 0.765625 0 C 1.09375 -0.03125 1.546875 -0.03125 1.890625 -0.03125 C 2.21875 -0.03125 2.6875 -0.03125 3.015625 0 L 3.015625 -0.234375 L 2.75 -0.234375 C 2.140625 -0.234375 2.140625 -0.3125 2.140625 -0.5 Z M 2.140625 -3.796875 \"/>\n",
       "</symbol>\n",
       "<symbol overflow=\"visible\" id=\"glyph-1590595720703689-1-3\">\n",
       "<path style=\"stroke:none;\" d=\"M 3.21875 -1.109375 L 2.984375 -1.109375 C 2.984375 -1.03125 2.921875 -0.640625 2.828125 -0.578125 C 2.78125 -0.53125 2.296875 -0.53125 2.21875 -0.53125 L 1.109375 -0.53125 L 1.875 -1.15625 C 2.078125 -1.3125 2.609375 -1.703125 2.78125 -1.875 C 2.96875 -2.0625 3.21875 -2.359375 3.21875 -2.78125 C 3.21875 -3.53125 2.53125 -3.96875 1.734375 -3.96875 C 0.96875 -3.96875 0.4375 -3.46875 0.4375 -2.90625 C 0.4375 -2.59375 0.6875 -2.5625 0.75 -2.5625 C 0.90625 -2.5625 1.078125 -2.671875 1.078125 -2.890625 C 1.078125 -3.015625 1 -3.203125 0.734375 -3.203125 C 0.875 -3.515625 1.234375 -3.734375 1.640625 -3.734375 C 2.28125 -3.734375 2.609375 -3.265625 2.609375 -2.78125 C 2.609375 -2.359375 2.328125 -1.921875 1.90625 -1.546875 L 0.5 -0.25 C 0.4375 -0.1875 0.4375 -0.1875 0.4375 0 L 3.03125 0 Z M 3.21875 -1.109375 \"/>\n",
       "</symbol>\n",
       "<symbol overflow=\"visible\" id=\"glyph-1590595720703689-1-4\">\n",
       "<path style=\"stroke:none;\" d=\"M 1.75 -1.984375 C 2.265625 -1.984375 2.609375 -1.640625 2.609375 -1.03125 C 2.609375 -0.375 2.203125 -0.09375 1.765625 -0.09375 C 1.609375 -0.09375 1 -0.125 0.734375 -0.46875 C 0.96875 -0.5 1.0625 -0.65625 1.0625 -0.8125 C 1.0625 -1.015625 0.90625 -1.15625 0.71875 -1.15625 C 0.5625 -1.15625 0.375 -1.046875 0.375 -0.796875 C 0.375 -0.203125 1.03125 0.125 1.796875 0.125 C 2.671875 0.125 3.265625 -0.4375 3.265625 -1.03125 C 3.265625 -1.46875 2.9375 -1.921875 2.21875 -2.109375 C 2.6875 -2.265625 3.078125 -2.640625 3.078125 -3.140625 C 3.078125 -3.609375 2.515625 -3.96875 1.796875 -3.96875 C 1.09375 -3.96875 0.5625 -3.640625 0.5625 -3.15625 C 0.5625 -2.90625 0.765625 -2.828125 0.890625 -2.828125 C 1.03125 -2.828125 1.203125 -2.9375 1.203125 -3.140625 C 1.203125 -3.328125 1.0625 -3.4375 0.90625 -3.46875 C 1.1875 -3.765625 1.734375 -3.765625 1.78125 -3.765625 C 2.09375 -3.765625 2.46875 -3.625 2.46875 -3.140625 C 2.46875 -2.8125 2.28125 -2.234375 1.6875 -2.203125 C 1.578125 -2.1875 1.421875 -2.171875 1.359375 -2.171875 C 1.3125 -2.171875 1.234375 -2.171875 1.234375 -2.078125 C 1.234375 -1.984375 1.3125 -1.984375 1.40625 -1.984375 Z M 1.75 -1.984375 \"/>\n",
       "</symbol>\n",
       "<symbol overflow=\"visible\" id=\"glyph-1590595720703689-1-5\">\n",
       "<path style=\"stroke:none;\" d=\"M 3.359375 -0.984375 L 3.359375 -1.21875 L 2.671875 -1.21875 L 2.671875 -3.84375 C 2.671875 -3.984375 2.671875 -4.03125 2.515625 -4.03125 C 2.40625 -4.03125 2.40625 -4.015625 2.34375 -3.9375 L 0.28125 -1.21875 L 0.28125 -0.984375 L 2.125 -0.984375 L 2.125 -0.5 C 2.125 -0.296875 2.125 -0.234375 1.625 -0.234375 L 1.453125 -0.234375 L 1.453125 0 C 1.578125 0 2.140625 -0.03125 2.40625 -0.03125 C 2.65625 -0.03125 3.21875 0 3.34375 0 L 3.34375 -0.234375 L 3.171875 -0.234375 C 2.671875 -0.234375 2.671875 -0.296875 2.671875 -0.5 L 2.671875 -0.984375 Z M 2.171875 -3.375 L 2.171875 -1.21875 L 0.53125 -1.21875 Z M 2.171875 -3.375 \"/>\n",
       "</symbol>\n",
       "<symbol overflow=\"visible\" id=\"glyph-1590595720703689-1-6\">\n",
       "<path style=\"stroke:none;\" d=\"M 1.015625 -3.3125 C 1.21875 -3.265625 1.421875 -3.234375 1.625 -3.234375 C 1.75 -3.234375 2.09375 -3.234375 2.46875 -3.4375 C 2.5625 -3.5 2.9375 -3.75 2.9375 -3.875 C 2.9375 -3.953125 2.875 -3.96875 2.859375 -3.96875 C 2.828125 -3.96875 2.828125 -3.96875 2.765625 -3.953125 C 2.546875 -3.859375 2.25 -3.78125 1.859375 -3.78125 C 1.5625 -3.78125 1.234375 -3.828125 0.96875 -3.9375 C 0.90625 -3.953125 0.890625 -3.96875 0.859375 -3.96875 C 0.78125 -3.96875 0.78125 -3.90625 0.78125 -3.8125 L 0.78125 -2.015625 C 0.78125 -1.921875 0.78125 -1.84375 0.890625 -1.84375 C 0.9375 -1.84375 0.96875 -1.875 1 -1.921875 C 1.15625 -2.109375 1.421875 -2.3125 1.875 -2.3125 C 2.609375 -2.3125 2.609375 -1.421875 2.609375 -1.21875 C 2.609375 -0.984375 2.59375 -0.65625 2.40625 -0.40625 C 2.21875 -0.1875 1.9375 -0.09375 1.6875 -0.09375 C 1.265625 -0.09375 0.859375 -0.3125 0.71875 -0.65625 C 1.015625 -0.671875 1.046875 -0.90625 1.046875 -0.96875 C 1.046875 -1.140625 0.921875 -1.28125 0.734375 -1.28125 C 0.6875 -1.28125 0.4375 -1.25 0.4375 -0.953125 C 0.4375 -0.40625 0.953125 0.125 1.703125 0.125 C 2.515625 0.125 3.21875 -0.453125 3.21875 -1.203125 C 3.21875 -1.875 2.65625 -2.5 1.890625 -2.5 C 1.5 -2.5 1.203125 -2.375 1.015625 -2.21875 Z M 1.015625 -3.3125 \"/>\n",
       "</symbol>\n",
       "<symbol overflow=\"visible\" id=\"glyph-1590595720703689-2-0\">\n",
       "<path style=\"stroke:none;\" d=\"\"/>\n",
       "</symbol>\n",
       "<symbol overflow=\"visible\" id=\"glyph-1590595720703689-2-1\">\n",
       "<path style=\"stroke:none;\" d=\"M 1.609375 -0.4375 C 1.609375 -0.703125 1.390625 -0.875 1.171875 -0.875 C 0.921875 -0.875 0.734375 -0.671875 0.734375 -0.453125 C 0.734375 -0.171875 0.953125 0 1.171875 0 C 1.421875 0 1.609375 -0.203125 1.609375 -0.4375 Z M 1.609375 -0.4375 \"/>\n",
       "</symbol>\n",
       "<symbol overflow=\"visible\" id=\"glyph-1590595720703689-3-0\">\n",
       "<path style=\"stroke:none;\" d=\"\"/>\n",
       "</symbol>\n",
       "<symbol overflow=\"visible\" id=\"glyph-1590595720703689-3-1\">\n",
       "<path style=\"stroke:none;\" d=\"M 7.34375 -4.96875 L 7.140625 -7.421875 L 0.578125 -7.421875 L 0.375 -4.96875 L 0.625 -4.96875 C 0.78125 -6.703125 0.875 -7.09375 2.609375 -7.09375 C 2.796875 -7.09375 3.109375 -7.09375 3.1875 -7.078125 C 3.40625 -7.046875 3.421875 -6.90625 3.421875 -6.65625 L 3.421875 -0.84375 C 3.421875 -0.46875 3.421875 -0.3125 2.34375 -0.3125 L 1.953125 -0.3125 L 1.953125 0 C 2.3125 -0.015625 3.4375 -0.015625 3.859375 -0.015625 C 4.28125 -0.015625 5.421875 -0.015625 5.78125 0 L 5.78125 -0.3125 L 5.375 -0.3125 C 4.3125 -0.3125 4.3125 -0.46875 4.3125 -0.84375 L 4.3125 -6.65625 C 4.3125 -6.9375 4.328125 -7.03125 4.5 -7.078125 C 4.59375 -7.09375 4.90625 -7.09375 5.125 -7.09375 C 6.84375 -7.09375 6.9375 -6.703125 7.09375 -4.96875 Z M 7.34375 -4.96875 \"/>\n",
       "</symbol>\n",
       "<symbol overflow=\"visible\" id=\"glyph-1590595720703689-3-2\">\n",
       "<path style=\"stroke:none;\" d=\"M 5.703125 0 L 5.703125 -0.3125 C 5.15625 -0.3125 4.875 -0.3125 4.859375 -0.640625 L 4.859375 -2.65625 C 4.859375 -3.671875 4.859375 -3.984375 4.609375 -4.328125 C 4.296875 -4.75 3.78125 -4.828125 3.40625 -4.828125 C 2.46875 -4.828125 2.03125 -4.109375 1.875 -3.765625 L 1.875 -7.59375 L 0.34375 -7.46875 L 0.34375 -7.15625 C 1.09375 -7.15625 1.1875 -7.078125 1.1875 -6.546875 L 1.1875 -0.8125 C 1.1875 -0.3125 1.0625 -0.3125 0.34375 -0.3125 L 0.34375 0 C 0.640625 -0.015625 1.21875 -0.015625 1.53125 -0.015625 C 1.84375 -0.015625 2.4375 -0.015625 2.71875 0 L 2.71875 -0.3125 C 2.015625 -0.3125 1.890625 -0.3125 1.890625 -0.8125 L 1.890625 -2.84375 C 1.890625 -3.984375 2.640625 -4.609375 3.328125 -4.609375 C 4 -4.609375 4.15625 -4.046875 4.15625 -3.375 L 4.15625 -0.8125 C 4.15625 -0.3125 4.03125 -0.3125 3.328125 -0.3125 L 3.328125 0 C 3.609375 -0.015625 4.203125 -0.015625 4.5 -0.015625 C 4.828125 -0.015625 5.40625 -0.015625 5.703125 0 Z M 5.703125 0 \"/>\n",
       "</symbol>\n",
       "<symbol overflow=\"visible\" id=\"glyph-1590595720703689-3-3\">\n",
       "<path style=\"stroke:none;\" d=\"M 3.859375 -4.1875 C 3.859375 -4.515625 3.5625 -4.828125 3.09375 -4.828125 C 2.171875 -4.828125 1.84375 -3.8125 1.78125 -3.609375 L 1.765625 -3.609375 L 1.765625 -4.828125 L 0.3125 -4.703125 L 0.3125 -4.390625 C 1.046875 -4.390625 1.140625 -4.3125 1.140625 -3.765625 L 1.140625 -0.8125 C 1.140625 -0.3125 1.015625 -0.3125 0.3125 -0.3125 L 0.3125 0 C 0.609375 -0.015625 1.21875 -0.015625 1.546875 -0.015625 C 1.84375 -0.015625 2.609375 -0.015625 2.859375 0 L 2.859375 -0.3125 L 2.640625 -0.3125 C 1.84375 -0.3125 1.828125 -0.4375 1.828125 -0.828125 L 1.828125 -2.546875 C 1.828125 -3.609375 2.265625 -4.609375 3.109375 -4.609375 C 3.1875 -4.609375 3.21875 -4.609375 3.265625 -4.59375 C 3.171875 -4.546875 3 -4.484375 3 -4.1875 C 3 -3.875 3.25 -3.75 3.421875 -3.75 C 3.640625 -3.75 3.859375 -3.890625 3.859375 -4.1875 Z M 3.859375 -4.1875 \"/>\n",
       "</symbol>\n",
       "<symbol overflow=\"visible\" id=\"glyph-1590595720703689-3-4\">\n",
       "<path style=\"stroke:none;\" d=\"M 4.453125 -1.296875 C 4.453125 -1.359375 4.390625 -1.40625 4.328125 -1.40625 C 4.25 -1.40625 4.21875 -1.359375 4.203125 -1.296875 C 3.921875 -0.375 3.1875 -0.125 2.71875 -0.125 C 2.265625 -0.125 1.15625 -0.4375 1.15625 -2.328125 L 1.15625 -2.53125 L 4.1875 -2.53125 C 4.421875 -2.53125 4.453125 -2.53125 4.453125 -2.75 C 4.453125 -3.84375 3.859375 -4.875 2.53125 -4.875 C 1.296875 -4.875 0.328125 -3.75 0.328125 -2.390625 C 0.328125 -0.953125 1.4375 0.109375 2.65625 0.109375 C 3.953125 0.109375 4.453125 -1.078125 4.453125 -1.296875 Z M 3.765625 -2.75 L 1.171875 -2.75 C 1.25 -4.46875 2.21875 -4.65625 2.53125 -4.65625 C 3.703125 -4.65625 3.765625 -3.109375 3.765625 -2.75 Z M 3.765625 -2.75 \"/>\n",
       "</symbol>\n",
       "<symbol overflow=\"visible\" id=\"glyph-1590595720703689-3-5\">\n",
       "<path style=\"stroke:none;\" d=\"M 5.1875 -0.96875 L 5.1875 -1.578125 L 4.9375 -1.578125 L 4.9375 -0.96875 C 4.9375 -0.34375 4.6875 -0.265625 4.53125 -0.265625 C 4.109375 -0.265625 4.109375 -0.84375 4.109375 -1 L 4.109375 -2.921875 C 4.109375 -3.515625 4.109375 -3.953125 3.625 -4.375 C 3.25 -4.71875 2.75 -4.875 2.28125 -4.875 C 1.375 -4.875 0.6875 -4.28125 0.6875 -3.578125 C 0.6875 -3.265625 0.890625 -3.109375 1.140625 -3.109375 C 1.40625 -3.109375 1.59375 -3.296875 1.59375 -3.546875 C 1.59375 -4 1.203125 -4 1.03125 -4 C 1.296875 -4.46875 1.8125 -4.65625 2.25 -4.65625 C 2.75 -4.65625 3.40625 -4.25 3.40625 -3.265625 L 3.40625 -2.828125 C 1.203125 -2.78125 0.375 -1.875 0.375 -1.03125 C 0.375 -0.15625 1.375 0.109375 2.046875 0.109375 C 2.765625 0.109375 3.265625 -0.328125 3.46875 -0.859375 C 3.515625 -0.34375 3.84375 0.046875 4.3125 0.046875 C 4.546875 0.046875 5.1875 -0.09375 5.1875 -0.96875 Z M 3.40625 -1.546875 C 3.40625 -0.46875 2.609375 -0.109375 2.125 -0.109375 C 1.59375 -0.109375 1.140625 -0.5 1.140625 -1.03125 C 1.140625 -2.46875 3 -2.609375 3.40625 -2.625 Z M 3.40625 -1.546875 \"/>\n",
       "</symbol>\n",
       "<symbol overflow=\"visible\" id=\"glyph-1590595720703689-3-6\">\n",
       "<path style=\"stroke:none;\" d=\"M 5.625 0 L 5.625 -0.3125 C 4.890625 -0.3125 4.796875 -0.390625 4.796875 -0.921875 L 4.796875 -7.59375 L 3.28125 -7.46875 L 3.28125 -7.15625 C 4.03125 -7.15625 4.109375 -7.078125 4.109375 -6.546875 L 4.109375 -4.125 C 3.875 -4.4375 3.40625 -4.828125 2.75 -4.828125 C 1.46875 -4.828125 0.375 -3.75 0.375 -2.34375 C 0.375 -0.96875 1.421875 0.109375 2.625 0.109375 C 3.453125 0.109375 3.9375 -0.4375 4.09375 -0.640625 L 4.09375 0.109375 Z M 4.09375 -1.28125 C 4.09375 -1.078125 4.09375 -1.046875 3.9375 -0.8125 C 3.671875 -0.421875 3.21875 -0.109375 2.671875 -0.109375 C 2.390625 -0.109375 1.21875 -0.21875 1.21875 -2.34375 C 1.21875 -3.125 1.34375 -3.5625 1.578125 -3.921875 C 1.796875 -4.265625 2.234375 -4.609375 2.78125 -4.609375 C 3.46875 -4.609375 3.84375 -4.109375 3.953125 -3.9375 C 4.09375 -3.75 4.09375 -3.734375 4.09375 -3.53125 Z M 4.09375 -1.28125 \"/>\n",
       "</symbol>\n",
       "<symbol overflow=\"visible\" id=\"glyph-1590595720703689-3-7\">\n",
       "<path style=\"stroke:none;\" d=\"M 3.84375 -1.390625 C 3.84375 -1.984375 3.484375 -2.328125 3.390625 -2.421875 C 3 -2.765625 2.703125 -2.828125 1.984375 -2.96875 C 1.65625 -3.03125 0.859375 -3.1875 0.859375 -3.84375 C 0.859375 -4.171875 1.078125 -4.6875 2.0625 -4.6875 C 3.265625 -4.6875 3.328125 -3.65625 3.34375 -3.328125 C 3.359375 -3.234375 3.4375 -3.234375 3.46875 -3.234375 C 3.59375 -3.234375 3.59375 -3.296875 3.59375 -3.484375 L 3.59375 -4.625 C 3.59375 -4.828125 3.59375 -4.875 3.484375 -4.875 C 3.390625 -4.875 3.1875 -4.640625 3.109375 -4.53125 C 2.765625 -4.8125 2.421875 -4.875 2.078125 -4.875 C 0.75 -4.875 0.359375 -4.15625 0.359375 -3.546875 C 0.359375 -3.4375 0.359375 -3.046875 0.78125 -2.671875 C 1.125 -2.359375 1.5 -2.28125 2 -2.1875 C 2.609375 -2.0625 2.75 -2.03125 3.015625 -1.8125 C 3.21875 -1.65625 3.359375 -1.40625 3.359375 -1.109375 C 3.359375 -0.640625 3.078125 -0.109375 2.125 -0.109375 C 1.40625 -0.109375 0.875 -0.53125 0.640625 -1.625 C 0.59375 -1.8125 0.578125 -1.84375 0.578125 -1.84375 C 0.5625 -1.875 0.515625 -1.875 0.484375 -1.875 C 0.359375 -1.875 0.359375 -1.828125 0.359375 -1.625 L 0.359375 -0.140625 C 0.359375 0.046875 0.359375 0.109375 0.46875 0.109375 C 0.53125 0.109375 0.53125 0.09375 0.71875 -0.125 C 0.78125 -0.203125 0.78125 -0.234375 0.9375 -0.40625 C 1.359375 0.109375 1.953125 0.109375 2.125 0.109375 C 3.28125 0.109375 3.84375 -0.53125 3.84375 -1.390625 Z M 3.84375 -1.390625 \"/>\n",
       "</symbol>\n",
       "<symbol overflow=\"visible\" id=\"glyph-1590595720703689-4-0\">\n",
       "<path style=\"stroke:none;\" d=\"\"/>\n",
       "</symbol>\n",
       "<symbol overflow=\"visible\" id=\"glyph-1590595720703689-4-1\">\n",
       "<path style=\"stroke:none;\" d=\"M 5.96875 -2.671875 C 5.96875 -4.203125 4.8125 -5.4375 3.390625 -5.4375 L 0.359375 -5.4375 L 0.359375 -5.171875 L 0.546875 -5.171875 C 1.15625 -5.171875 1.171875 -5.078125 1.171875 -4.78125 L 1.171875 -0.640625 C 1.171875 -0.34375 1.15625 -0.265625 0.546875 -0.265625 L 0.359375 -0.265625 L 0.359375 0 L 3.390625 0 C 4.8125 0 5.96875 -1.1875 5.96875 -2.671875 Z M 5.171875 -2.671875 C 5.171875 -2.265625 5.171875 -1.484375 4.671875 -0.90625 C 4.390625 -0.578125 3.875 -0.265625 3.171875 -0.265625 L 2.265625 -0.265625 C 1.890625 -0.265625 1.875 -0.3125 1.875 -0.59375 L 1.875 -4.84375 C 1.875 -5.109375 1.890625 -5.171875 2.265625 -5.171875 L 3.171875 -5.171875 C 3.796875 -5.171875 4.3125 -4.921875 4.65625 -4.515625 C 5.171875 -3.90625 5.171875 -3.0625 5.171875 -2.671875 Z M 5.171875 -2.671875 \"/>\n",
       "</symbol>\n",
       "<symbol overflow=\"visible\" id=\"glyph-1590595720703689-4-2\">\n",
       "<path style=\"stroke:none;\" d=\"M 4.46875 0 L 4.46875 -0.265625 C 3.921875 -0.265625 3.859375 -0.3125 3.859375 -0.703125 L 3.859375 -3.5 L 2.65625 -3.421875 L 2.65625 -3.15625 C 3.203125 -3.15625 3.265625 -3.109375 3.265625 -2.71875 L 3.265625 -1.328125 C 3.265625 -0.640625 2.84375 -0.140625 2.25 -0.140625 C 1.5625 -0.140625 1.53125 -0.484375 1.53125 -0.875 L 1.53125 -3.5 L 0.328125 -3.421875 L 0.328125 -3.15625 C 0.9375 -3.15625 0.9375 -3.140625 0.9375 -2.421875 L 0.9375 -1.234375 C 0.9375 -0.65625 0.9375 0.078125 2.203125 0.078125 C 2.953125 0.078125 3.234375 -0.5 3.28125 -0.5625 L 3.28125 0.078125 Z M 4.46875 0 \"/>\n",
       "</symbol>\n",
       "<symbol overflow=\"visible\" id=\"glyph-1590595720703689-4-3\">\n",
       "<path style=\"stroke:none;\" d=\"M 3.046875 -3 C 3.046875 -3.28125 2.796875 -3.5 2.453125 -3.5 C 1.9375 -3.5 1.578125 -3.125 1.421875 -2.671875 L 1.40625 -2.671875 L 1.40625 -3.5 L 0.28125 -3.421875 L 0.28125 -3.15625 C 0.8125 -3.15625 0.875 -3.109375 0.875 -2.71875 L 0.875 -0.625 C 0.875 -0.265625 0.78125 -0.265625 0.28125 -0.265625 L 0.28125 0 C 0.59375 -0.03125 1.03125 -0.03125 1.21875 -0.03125 C 1.6875 -0.03125 1.703125 -0.03125 2.21875 0 L 2.21875 -0.265625 L 2.0625 -0.265625 C 1.484375 -0.265625 1.46875 -0.34375 1.46875 -0.640625 L 1.46875 -1.8125 C 1.46875 -2.40625 1.703125 -3.265625 2.46875 -3.28125 C 2.421875 -3.25 2.34375 -3.1875 2.34375 -3 C 2.34375 -2.765625 2.53125 -2.640625 2.703125 -2.640625 C 2.890625 -2.640625 3.046875 -2.78125 3.046875 -3 Z M 3.046875 -3 \"/>\n",
       "</symbol>\n",
       "<symbol overflow=\"visible\" id=\"glyph-1590595720703689-4-4\">\n",
       "<path style=\"stroke:none;\" d=\"M 4.09375 -0.71875 L 4.09375 -1.15625 L 3.84375 -1.15625 L 3.84375 -0.71875 C 3.84375 -0.390625 3.71875 -0.265625 3.5625 -0.265625 C 3.265625 -0.265625 3.265625 -0.625 3.265625 -0.71875 L 3.265625 -2.375 C 3.265625 -3.15625 2.5 -3.546875 1.78125 -3.546875 C 1.125 -3.546875 0.53125 -3.296875 0.53125 -2.765625 C 0.53125 -2.53125 0.703125 -2.390625 0.90625 -2.390625 C 1.125 -2.390625 1.28125 -2.546875 1.28125 -2.765625 C 1.28125 -2.953125 1.15625 -3.078125 0.984375 -3.125 C 1.28125 -3.328125 1.703125 -3.328125 1.765625 -3.328125 C 2.21875 -3.328125 2.65625 -3.015625 2.65625 -2.359375 L 2.65625 -2.109375 C 2.1875 -2.09375 1.65625 -2.0625 1.109375 -1.84375 C 0.40625 -1.53125 0.265625 -1.078125 0.265625 -0.8125 C 0.265625 -0.125 1.078125 0.078125 1.625 0.078125 C 2.203125 0.078125 2.5625 -0.25 2.734375 -0.5625 C 2.78125 -0.265625 2.984375 0.046875 3.328125 0.046875 C 3.40625 0.046875 4.09375 0.015625 4.09375 -0.71875 Z M 2.65625 -1.125 C 2.65625 -0.34375 2 -0.140625 1.6875 -0.140625 C 1.265625 -0.140625 0.921875 -0.421875 0.921875 -0.796875 C 0.921875 -1.328125 1.421875 -1.875 2.65625 -1.90625 Z M 2.65625 -1.125 \"/>\n",
       "</symbol>\n",
       "<symbol overflow=\"visible\" id=\"glyph-1590595720703689-4-5\">\n",
       "<path style=\"stroke:none;\" d=\"M 2.8125 -1 L 2.8125 -1.4375 L 2.5625 -1.4375 L 2.5625 -1.015625 C 2.5625 -0.46875 2.3125 -0.171875 2.015625 -0.171875 C 1.484375 -0.171875 1.484375 -0.84375 1.484375 -0.984375 L 1.484375 -3.171875 L 2.671875 -3.171875 L 2.671875 -3.421875 L 1.484375 -3.421875 L 1.484375 -4.890625 L 1.234375 -4.890625 C 1.21875 -4.171875 0.90625 -3.40625 0.15625 -3.390625 L 0.15625 -3.171875 L 0.875 -3.171875 L 0.875 -1 C 0.875 -0.0625 1.59375 0.078125 1.953125 0.078125 C 2.484375 0.078125 2.8125 -0.390625 2.8125 -1 Z M 2.8125 -1 \"/>\n",
       "</symbol>\n",
       "<symbol overflow=\"visible\" id=\"glyph-1590595720703689-4-6\">\n",
       "<path style=\"stroke:none;\" d=\"M 2.0625 0 L 2.0625 -0.265625 C 1.546875 -0.265625 1.515625 -0.296875 1.515625 -0.609375 L 1.515625 -3.5 L 0.359375 -3.421875 L 0.359375 -3.15625 C 0.859375 -3.15625 0.9375 -3.109375 0.9375 -2.71875 L 0.9375 -0.625 C 0.9375 -0.265625 0.84375 -0.265625 0.328125 -0.265625 L 0.328125 0 C 0.640625 -0.03125 1.09375 -0.03125 1.203125 -0.03125 C 1.3125 -0.03125 1.796875 -0.03125 2.0625 0 Z M 1.609375 -4.78125 C 1.609375 -5.046875 1.40625 -5.234375 1.171875 -5.234375 C 0.953125 -5.234375 0.734375 -5.046875 0.734375 -4.78125 C 0.734375 -4.5625 0.921875 -4.34375 1.171875 -4.34375 C 1.421875 -4.34375 1.609375 -4.5625 1.609375 -4.78125 Z M 1.609375 -4.78125 \"/>\n",
       "</symbol>\n",
       "<symbol overflow=\"visible\" id=\"glyph-1590595720703689-4-7\">\n",
       "<path style=\"stroke:none;\" d=\"M 3.984375 -1.6875 C 3.984375 -2.6875 3.15625 -3.546875 2.109375 -3.546875 C 1.0625 -3.546875 0.234375 -2.6875 0.234375 -1.6875 C 0.234375 -0.703125 1.09375 0.078125 2.109375 0.078125 C 3.140625 0.078125 3.984375 -0.703125 3.984375 -1.6875 Z M 3.265625 -1.765625 C 3.265625 -1.40625 3.25 -0.96875 3.03125 -0.625 C 2.8125 -0.3125 2.453125 -0.171875 2.109375 -0.171875 C 1.671875 -0.171875 1.34375 -0.375 1.171875 -0.65625 C 0.96875 -0.984375 0.953125 -1.375 0.953125 -1.765625 C 0.953125 -2.0625 0.953125 -2.546875 1.1875 -2.890625 C 1.40625 -3.171875 1.734375 -3.328125 2.109375 -3.328125 C 2.515625 -3.328125 2.859375 -3.125 3.046875 -2.84375 C 3.265625 -2.515625 3.265625 -2.078125 3.265625 -1.765625 Z M 3.265625 -1.765625 \"/>\n",
       "</symbol>\n",
       "<symbol overflow=\"visible\" id=\"glyph-1590595720703689-4-8\">\n",
       "<path style=\"stroke:none;\" d=\"M 4.46875 0 L 4.46875 -0.265625 C 3.953125 -0.265625 3.859375 -0.265625 3.859375 -0.625 L 3.859375 -2.40625 C 3.859375 -3.078125 3.5625 -3.5 2.734375 -3.5 C 1.9375 -3.5 1.578125 -2.9375 1.484375 -2.75 L 1.484375 -3.5 L 0.328125 -3.421875 L 0.328125 -3.15625 C 0.859375 -3.15625 0.9375 -3.109375 0.9375 -2.71875 L 0.9375 -0.625 C 0.9375 -0.265625 0.828125 -0.265625 0.328125 -0.265625 L 0.328125 0 C 0.671875 -0.03125 1.015625 -0.03125 1.234375 -0.03125 C 1.46875 -0.03125 1.796875 -0.03125 2.140625 0 L 2.140625 -0.265625 C 1.625 -0.265625 1.53125 -0.265625 1.53125 -0.625 L 1.53125 -2.0625 C 1.53125 -2.890625 2.171875 -3.28125 2.65625 -3.28125 C 3.140625 -3.28125 3.265625 -2.9375 3.265625 -2.4375 L 3.265625 -0.625 C 3.265625 -0.265625 3.171875 -0.265625 2.65625 -0.265625 L 2.65625 0 C 3 -0.03125 3.34375 -0.03125 3.5625 -0.03125 C 3.796875 -0.03125 4.125 -0.03125 4.46875 0 Z M 4.46875 0 \"/>\n",
       "</symbol>\n",
       "</g>\n",
       "<clipPath id=\"clip-1590595720703689-1\">\n",
       "  <path d=\"M 0.0078125 0 L 411.964844 0 L 411.964844 274.292969 L 0.0078125 274.292969 Z M 0.0078125 0 \"/>\n",
       "</clipPath>\n",
       "</defs>\n",
       "<g id=\"surface1\">\n",
       "<g clip-path=\"url(#clip-1590595720703689-1)\" clip-rule=\"nonzero\">\n",
       "<path style=\" stroke:none;fill-rule:nonzero;fill:rgb(100%,100%,100%);fill-opacity:1;\" d=\"M 0.0078125 274.292969 L 413.507812 274.292969 L 413.507812 -1.027344 L 0.0078125 -1.027344 Z M 0.0078125 274.292969 \"/>\n",
       "<path style=\" stroke:none;fill-rule:nonzero;fill:rgb(100%,100%,100%);fill-opacity:1;\" d=\"M 0.0078125 274.296875 L 0.0078125 0 L 411.96875 0 L 411.96875 274.296875 Z M 0.0078125 274.296875 \"/>\n",
       "</g>\n",
       "<path style=\" stroke:none;fill-rule:nonzero;fill:rgb(100%,100%,100%);fill-opacity:1;\" d=\"M 26.164062 241.980469 L 407.183594 241.980469 L 407.183594 4.78125 L 26.164062 4.78125 Z M 26.164062 241.980469 \"/>\n",
       "<path style=\"fill:none;stroke-width:0.49814;stroke-linecap:butt;stroke-linejoin:miter;stroke:rgb(0%,0%,0%);stroke-opacity:0.1;stroke-miterlimit:10;\" d=\"M 0.000128431 0.000517092 L 0.000128431 237.504605 M 71.975331 0.000517092 L 71.975331 237.504605 M 143.966178 0.000517092 L 143.966178 237.504605 M 215.953115 0.000517092 L 215.953115 237.504605 M 287.928317 0.000517092 L 287.928317 237.504605 M 359.911342 0.000517092 L 359.911342 237.504605 \" transform=\"matrix(0.998716,0,0,-0.998716,36.94909,241.980985)\"/>\n",
       "<path style=\"fill:none;stroke-width:0.49814;stroke-linecap:butt;stroke-linejoin:miter;stroke:rgb(0%,0%,0%);stroke-opacity:0.1;stroke-miterlimit:10;\" d=\"M -10.79889 36.351867 L 370.710361 36.351867 M -10.79889 83.646951 L 370.710361 83.646951 M -10.79889 130.942036 L 370.710361 130.942036 M -10.79889 178.237121 L 370.710361 178.237121 M -10.79889 225.532205 L 370.710361 225.532205 \" transform=\"matrix(0.998716,0,0,-0.998716,36.94909,241.980985)\"/>\n",
       "<path style=\"fill:none;stroke-width:0.19925;stroke-linecap:butt;stroke-linejoin:miter;stroke:rgb(0%,0%,0%);stroke-opacity:1;stroke-miterlimit:10;\" d=\"M 0.000128431 0.000517092 L 0.000128431 4.252068 M 71.975331 0.000517092 L 71.975331 4.252068 M 143.966178 0.000517092 L 143.966178 4.252068 M 215.953115 0.000517092 L 215.953115 4.252068 M 287.928317 0.000517092 L 287.928317 4.252068 M 359.911342 0.000517092 L 359.911342 4.252068 \" transform=\"matrix(0.998716,0,0,-0.998716,36.94909,241.980985)\"/>\n",
       "<path style=\"fill:none;stroke-width:0.19925;stroke-linecap:butt;stroke-linejoin:miter;stroke:rgb(0%,0%,0%);stroke-opacity:1;stroke-miterlimit:10;\" d=\"M -10.79889 36.351867 L -6.562984 36.351867 M -10.79889 83.646951 L -6.562984 83.646951 M -10.79889 130.942036 L -6.562984 130.942036 M -10.79889 178.237121 L -6.562984 178.237121 M -10.79889 225.532205 L -6.562984 225.532205 \" transform=\"matrix(0.998716,0,0,-0.998716,36.94909,241.980985)\"/>\n",
       "<path style=\"fill:none;stroke-width:0.99628;stroke-linecap:butt;stroke-linejoin:miter;stroke:rgb(0%,0%,0%);stroke-opacity:1;stroke-miterlimit:10;\" d=\"M -10.79889 0.000517092 L 370.710361 0.000517092 \" transform=\"matrix(0.998716,0,0,-0.998716,36.94909,241.980985)\"/>\n",
       "<path style=\"fill:none;stroke-width:0.99628;stroke-linecap:butt;stroke-linejoin:miter;stroke:rgb(0%,0%,0%);stroke-opacity:1;stroke-miterlimit:10;\" d=\"M -10.79889 0.000517092 L -10.79889 237.504605 \" transform=\"matrix(0.998716,0,0,-0.998716,36.94909,241.980985)\"/>\n",
       "<g style=\"fill:rgb(0%,0%,0%);fill-opacity:1;\">\n",
       "  <use xlink:href=\"#glyph-1590595720703689-0-1\" x=\"32.761473\" y=\"252.152911\"/>\n",
       "</g>\n",
       "<g style=\"fill:rgb(0%,0%,0%);fill-opacity:1;\">\n",
       "  <use xlink:href=\"#glyph-1590595720703689-1-1\" x=\"36.991037\" y=\"249.343522\"/>\n",
       "</g>\n",
       "<g style=\"fill:rgb(0%,0%,0%);fill-opacity:1;\">\n",
       "  <use xlink:href=\"#glyph-1590595720703689-0-1\" x=\"104.642086\" y=\"252.152911\"/>\n",
       "</g>\n",
       "<g style=\"fill:rgb(0%,0%,0%);fill-opacity:1;\">\n",
       "  <use xlink:href=\"#glyph-1590595720703689-1-2\" x=\"108.871649\" y=\"249.343522\"/>\n",
       "</g>\n",
       "<g style=\"fill:rgb(0%,0%,0%);fill-opacity:1;\">\n",
       "  <use xlink:href=\"#glyph-1590595720703689-0-1\" x=\"176.542673\" y=\"252.152911\"/>\n",
       "</g>\n",
       "<g style=\"fill:rgb(0%,0%,0%);fill-opacity:1;\">\n",
       "  <use xlink:href=\"#glyph-1590595720703689-1-3\" x=\"180.771238\" y=\"249.343522\"/>\n",
       "</g>\n",
       "<g style=\"fill:rgb(0%,0%,0%);fill-opacity:1;\">\n",
       "  <use xlink:href=\"#glyph-1590595720703689-0-1\" x=\"248.433273\" y=\"252.152911\"/>\n",
       "</g>\n",
       "<g style=\"fill:rgb(0%,0%,0%);fill-opacity:1;\">\n",
       "  <use xlink:href=\"#glyph-1590595720703689-1-4\" x=\"252.661838\" y=\"249.343522\"/>\n",
       "</g>\n",
       "<g style=\"fill:rgb(0%,0%,0%);fill-opacity:1;\">\n",
       "  <use xlink:href=\"#glyph-1590595720703689-0-1\" x=\"320.318879\" y=\"252.152911\"/>\n",
       "</g>\n",
       "<g style=\"fill:rgb(0%,0%,0%);fill-opacity:1;\">\n",
       "  <use xlink:href=\"#glyph-1590595720703689-1-5\" x=\"324.547444\" y=\"249.343522\"/>\n",
       "</g>\n",
       "<g style=\"fill:rgb(0%,0%,0%);fill-opacity:1;\">\n",
       "  <use xlink:href=\"#glyph-1590595720703689-0-1\" x=\"392.20848\" y=\"252.152911\"/>\n",
       "</g>\n",
       "<g style=\"fill:rgb(0%,0%,0%);fill-opacity:1;\">\n",
       "  <use xlink:href=\"#glyph-1590595720703689-1-6\" x=\"396.437046\" y=\"249.343522\"/>\n",
       "</g>\n",
       "<g style=\"fill:rgb(0%,0%,0%);fill-opacity:1;\">\n",
       "  <use xlink:href=\"#glyph-1590595720703689-0-2\" x=\"7.611797\" y=\"208.242349\"/>\n",
       "</g>\n",
       "<g style=\"fill:rgb(0%,0%,0%);fill-opacity:1;\">\n",
       "  <use xlink:href=\"#glyph-1590595720703689-2-1\" x=\"11.841361\" y=\"208.242349\"/>\n",
       "</g>\n",
       "<g style=\"fill:rgb(0%,0%,0%);fill-opacity:1;\">\n",
       "  <use xlink:href=\"#glyph-1590595720703689-0-3\" x=\"14.190342\" y=\"208.242349\"/>\n",
       "  <use xlink:href=\"#glyph-1590595720703689-0-4\" x=\"18.419426\" y=\"208.242349\"/>\n",
       "</g>\n",
       "<g style=\"fill:rgb(0%,0%,0%);fill-opacity:1;\">\n",
       "  <use xlink:href=\"#glyph-1590595720703689-0-2\" x=\"7.611797\" y=\"161.008059\"/>\n",
       "</g>\n",
       "<g style=\"fill:rgb(0%,0%,0%);fill-opacity:1;\">\n",
       "  <use xlink:href=\"#glyph-1590595720703689-2-1\" x=\"11.841361\" y=\"161.008059\"/>\n",
       "</g>\n",
       "<g style=\"fill:rgb(0%,0%,0%);fill-opacity:1;\">\n",
       "  <use xlink:href=\"#glyph-1590595720703689-0-1\" x=\"14.190342\" y=\"161.008059\"/>\n",
       "  <use xlink:href=\"#glyph-1590595720703689-0-2\" x=\"18.419426\" y=\"161.008059\"/>\n",
       "</g>\n",
       "<g style=\"fill:rgb(0%,0%,0%);fill-opacity:1;\">\n",
       "  <use xlink:href=\"#glyph-1590595720703689-0-2\" x=\"7.611797\" y=\"113.773768\"/>\n",
       "</g>\n",
       "<g style=\"fill:rgb(0%,0%,0%);fill-opacity:1;\">\n",
       "  <use xlink:href=\"#glyph-1590595720703689-2-1\" x=\"11.841361\" y=\"113.773768\"/>\n",
       "</g>\n",
       "<g style=\"fill:rgb(0%,0%,0%);fill-opacity:1;\">\n",
       "  <use xlink:href=\"#glyph-1590595720703689-0-1\" x=\"14.190342\" y=\"113.773768\"/>\n",
       "  <use xlink:href=\"#glyph-1590595720703689-0-4\" x=\"18.419426\" y=\"113.773768\"/>\n",
       "</g>\n",
       "<g style=\"fill:rgb(0%,0%,0%);fill-opacity:1;\">\n",
       "  <use xlink:href=\"#glyph-1590595720703689-0-2\" x=\"7.611797\" y=\"66.539478\"/>\n",
       "</g>\n",
       "<g style=\"fill:rgb(0%,0%,0%);fill-opacity:1;\">\n",
       "  <use xlink:href=\"#glyph-1590595720703689-2-1\" x=\"11.841361\" y=\"66.539478\"/>\n",
       "</g>\n",
       "<g style=\"fill:rgb(0%,0%,0%);fill-opacity:1;\">\n",
       "  <use xlink:href=\"#glyph-1590595720703689-0-5\" x=\"14.190342\" y=\"66.539478\"/>\n",
       "  <use xlink:href=\"#glyph-1590595720703689-0-2\" x=\"18.419426\" y=\"66.539478\"/>\n",
       "</g>\n",
       "<g style=\"fill:rgb(0%,0%,0%);fill-opacity:1;\">\n",
       "  <use xlink:href=\"#glyph-1590595720703689-0-2\" x=\"7.611797\" y=\"19.305187\"/>\n",
       "</g>\n",
       "<g style=\"fill:rgb(0%,0%,0%);fill-opacity:1;\">\n",
       "  <use xlink:href=\"#glyph-1590595720703689-2-1\" x=\"11.841361\" y=\"19.305187\"/>\n",
       "</g>\n",
       "<g style=\"fill:rgb(0%,0%,0%);fill-opacity:1;\">\n",
       "  <use xlink:href=\"#glyph-1590595720703689-0-5\" x=\"14.190342\" y=\"19.305187\"/>\n",
       "  <use xlink:href=\"#glyph-1590595720703689-0-4\" x=\"18.419426\" y=\"19.305187\"/>\n",
       "</g>\n",
       "<path style=\"fill-rule:nonzero;fill:rgb(0%,60.559082%,97.869873%);fill-opacity:0.6;stroke-width:0.74721;stroke-linecap:butt;stroke-linejoin:miter;stroke:rgb(0%,0%,0%);stroke-opacity:0.6;stroke-miterlimit:10;\" d=\"M 2.988339 230.78113 C 2.988339 232.431687 1.650685 233.769341 0.000128431 233.769341 C -1.650428 233.769341 -2.988082 232.431687 -2.988082 230.78113 C -2.988082 229.130574 -1.650428 227.79292 0.000128431 227.79292 C 1.650685 227.79292 2.988339 229.130574 2.988339 230.78113 Z M 2.988339 230.78113 \" transform=\"matrix(0.998716,0,0,-0.998716,36.94909,241.980985)\"/>\n",
       "<path style=\"fill-rule:nonzero;fill:rgb(0%,60.559082%,97.869873%);fill-opacity:0.6;stroke-width:0.74721;stroke-linecap:butt;stroke-linejoin:miter;stroke:rgb(0%,0%,0%);stroke-opacity:0.6;stroke-miterlimit:10;\" d=\"M 74.963542 170.606232 C 74.963542 172.256788 73.625887 173.594442 71.975331 173.594442 C 70.324775 173.594442 68.98712 172.256788 68.98712 170.606232 C 68.98712 168.955675 70.324775 167.618021 71.975331 167.618021 C 73.625887 167.618021 74.963542 168.955675 74.963542 170.606232 Z M 74.963542 170.606232 \" transform=\"matrix(0.998716,0,0,-0.998716,36.94909,241.980985)\"/>\n",
       "<path style=\"fill-rule:nonzero;fill:rgb(0%,60.559082%,97.869873%);fill-opacity:0.6;stroke-width:0.74721;stroke-linecap:butt;stroke-linejoin:miter;stroke:rgb(0%,0%,0%);stroke-opacity:0.6;stroke-miterlimit:10;\" d=\"M 146.958301 51.617556 C 146.958301 53.268112 145.616735 54.605767 143.966178 54.605767 C 142.315622 54.605767 140.977968 53.268112 140.977968 51.617556 C 140.977968 49.967 142.315622 48.629345 143.966178 48.629345 C 145.616735 48.629345 146.958301 49.967 146.958301 51.617556 Z M 146.958301 51.617556 \" transform=\"matrix(0.998716,0,0,-0.998716,36.94909,241.980985)\"/>\n",
       "<path style=\"fill-rule:nonzero;fill:rgb(0%,60.559082%,97.869873%);fill-opacity:0.6;stroke-width:0.74721;stroke-linecap:butt;stroke-linejoin:miter;stroke:rgb(0%,0%,0%);stroke-opacity:0.6;stroke-miterlimit:10;\" d=\"M 218.941326 18.93889 C 218.941326 20.593357 217.603671 21.931012 215.953115 21.931012 C 214.302559 21.931012 212.960993 20.593357 212.960993 18.93889 C 212.960993 17.288333 214.302559 15.950679 215.953115 15.950679 C 217.603671 15.950679 218.941326 17.288333 218.941326 18.93889 Z M 218.941326 18.93889 \" transform=\"matrix(0.998716,0,0,-0.998716,36.94909,241.980985)\"/>\n",
       "<path style=\"fill-rule:nonzero;fill:rgb(0%,60.559082%,97.869873%);fill-opacity:0.6;stroke-width:0.74721;stroke-linecap:butt;stroke-linejoin:miter;stroke:rgb(0%,0%,0%);stroke-opacity:0.6;stroke-miterlimit:10;\" d=\"M 290.920439 11.073324 C 290.920439 12.723881 289.582785 14.061535 287.928317 14.061535 C 286.277761 14.061535 284.940106 12.723881 284.940106 11.073324 C 284.940106 9.422768 286.277761 8.085114 287.928317 8.085114 C 289.582785 8.085114 290.920439 9.422768 290.920439 11.073324 Z M 290.920439 11.073324 \" transform=\"matrix(0.998716,0,0,-0.998716,36.94909,241.980985)\"/>\n",
       "<path style=\"fill-rule:nonzero;fill:rgb(0%,60.559082%,97.869873%);fill-opacity:0.6;stroke-width:0.74721;stroke-linecap:butt;stroke-linejoin:miter;stroke:rgb(0%,0%,0%);stroke-opacity:0.6;stroke-miterlimit:10;\" d=\"M 362.903464 6.72008 C 362.903464 8.370636 361.561899 9.712202 359.911342 9.712202 C 358.260786 9.712202 356.923132 8.370636 356.923132 6.72008 C 356.923132 5.069524 358.260786 3.731869 359.911342 3.731869 C 361.561899 3.731869 362.903464 5.069524 362.903464 6.72008 Z M 362.903464 6.72008 \" transform=\"matrix(0.998716,0,0,-0.998716,36.94909,241.980985)\"/>\n",
       "<g style=\"fill:rgb(0%,0%,0%);fill-opacity:1;\">\n",
       "  <use xlink:href=\"#glyph-1590595720703689-3-1\" x=\"197.587624\" y=\"266.580368\"/>\n",
       "  <use xlink:href=\"#glyph-1590595720703689-3-2\" x=\"205.325621\" y=\"266.580368\"/>\n",
       "  <use xlink:href=\"#glyph-1590595720703689-3-3\" x=\"211.27961\" y=\"266.580368\"/>\n",
       "  <use xlink:href=\"#glyph-1590595720703689-3-4\" x=\"215.449591\" y=\"266.580368\"/>\n",
       "  <use xlink:href=\"#glyph-1590595720703689-3-5\" x=\"220.210593\" y=\"266.580368\"/>\n",
       "  <use xlink:href=\"#glyph-1590595720703689-3-6\" x=\"225.573561\" y=\"266.580368\"/>\n",
       "  <use xlink:href=\"#glyph-1590595720703689-3-7\" x=\"231.52755\" y=\"266.580368\"/>\n",
       "</g>\n",
       "<path style=\"fill-rule:nonzero;fill:rgb(100%,100%,100%);fill-opacity:1;stroke-width:0.99628;stroke-linecap:butt;stroke-linejoin:miter;stroke:rgb(0%,0%,0%);stroke-opacity:1;stroke-miterlimit:10;\" d=\"M 313.36331 217.345916 L 362.578829 217.345916 L 362.578829 232.25568 L 313.36331 232.25568 Z M 313.36331 217.345916 \" transform=\"matrix(0.998716,0,0,-0.998716,36.94909,241.980985)\"/>\n",
       "<path style=\"fill-rule:nonzero;fill:rgb(0%,60.559082%,97.869873%);fill-opacity:0.6;stroke-width:0.74721;stroke-linecap:butt;stroke-linejoin:miter;stroke:rgb(0%,0%,0%);stroke-opacity:0.6;stroke-miterlimit:10;\" d=\"M 11.492031 0.000886386 C 11.492031 1.651443 10.154377 2.989097 8.503821 2.989097 C 6.853264 2.989097 5.51561 1.651443 5.51561 0.000886386 C 5.51561 -1.64967 6.853264 -2.987324 8.503821 -2.987324 C 10.154377 -2.987324 11.492031 -1.64967 11.492031 0.000886386 Z M 11.492031 0.000886386 \" transform=\"matrix(0.998716,0,0,-0.998716,347.382095,17.473541)\"/>\n",
       "<g style=\"fill:rgb(0%,0%,0%);fill-opacity:1;\">\n",
       "  <use xlink:href=\"#glyph-1590595720703689-4-1\" x=\"360.849785\" y=\"19.445008\"/>\n",
       "  <use xlink:href=\"#glyph-1590595720703689-4-2\" x=\"367.305247\" y=\"19.445008\"/>\n",
       "  <use xlink:href=\"#glyph-1590595720703689-4-3\" x=\"372.001576\" y=\"19.445008\"/>\n",
       "  <use xlink:href=\"#glyph-1590595720703689-4-4\" x=\"375.296966\" y=\"19.445008\"/>\n",
       "  <use xlink:href=\"#glyph-1590595720703689-4-5\" x=\"379.523662\" y=\"19.445008\"/>\n",
       "  <use xlink:href=\"#glyph-1590595720703689-4-6\" x=\"382.811092\" y=\"19.445008\"/>\n",
       "  <use xlink:href=\"#glyph-1590595720703689-4-7\" x=\"385.159257\" y=\"19.445008\"/>\n",
       "  <use xlink:href=\"#glyph-1590595720703689-4-8\" x=\"389.385953\" y=\"19.445008\"/>\n",
       "</g>\n",
       "</g>\n",
       "</svg>\n",
       "\n"
      ]
     },
     "execution_count": 47,
     "metadata": {},
     "output_type": "execute_result"
    }
   ],
   "source": [
    "plot_results(parsed_results.threads,\n",
    "    parsed_results.mean_duration,\n",
    "    \"pi\",\n",
    "    \"Duration\",\n",
    "    max_thread_power = 6)"
   ]
  },
  {
   "cell_type": "code",
   "execution_count": null,
   "metadata": {},
   "outputs": [],
   "source": []
  },
  {
   "cell_type": "code",
   "execution_count": null,
   "metadata": {},
   "outputs": [],
   "source": []
  }
 ],
 "metadata": {
  "kernelspec": {
   "display_name": "Julia 1.4.1",
   "language": "julia",
   "name": "julia-1.4"
  },
  "language_info": {
   "file_extension": ".jl",
   "mimetype": "application/julia",
   "name": "julia",
   "version": "1.4.1"
  },
  "name": "Untitled.ipynb"
 },
 "nbformat": 4,
 "nbformat_minor": 4
}
