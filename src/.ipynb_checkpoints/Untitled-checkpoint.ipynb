{
 "cells": [
  {
   "cell_type": "markdown",
   "metadata": {},
   "source": [
    "# EP1 de Programacao Paralela e distribuida - MAC5742\n",
    "## Analise dos Resultados\n"
   ]
  },
  {
   "cell_type": "markdown",
   "metadata": {},
   "source": [
    "| Nome | NUSP |\n",
    "|------|------|\n",
    "| Ariel Serranoni Soares da Silva| 7658024 |\n",
    "| Thiago Martinoni | Numero usp |\n"
   ]
  },
  {
   "cell_type": "markdown",
   "metadata": {},
   "source": [
    "O Objetivo deste documento e analisar os resultados dos experimentos... A ideia foi desviar o minimo possivel da \n",
    "trilha estabelecida nos trabalhos anteriores. Por isso, vamos usar varias coisas do passado. O trabalho em C foi \n",
    "executado na maquina brucutu da rede IME."
   ]
  },
  {
   "cell_type": "code",
   "execution_count": null,
   "metadata": {},
   "outputs": [],
   "source": [
    "### Infra estrutura Julia\n",
    "\n",
    "como vamos usar muito da estrutura dos ultimos trabalhos, usamos o mesmo arquivo project.toml. \n",
    "Pode instalar rodando a celula a seguir"
   ]
  },
  {
   "cell_type": "code",
   "execution_count": null,
   "metadata": {},
   "outputs": [],
   "source": [
    "] up"
   ]
  },
  {
   "cell_type": "code",
   "execution_count": null,
   "metadata": {},
   "outputs": [],
   "source": [
    "Tambem podemos verificar se ha algum problema rodando a seguinte celula"
   ]
  },
  {
   "cell_type": "code",
   "execution_count": null,
   "metadata": {},
   "outputs": [],
   "source": [
    "] st"
   ]
  },
  {
   "cell_type": "code",
   "execution_count": null,
   "metadata": {},
   "outputs": [],
   "source": [
    "### Infra estrutura C\n",
    "\n",
    "blablabla explicacao"
   ]
  },
  {
   "cell_type": "code",
   "execution_count": null,
   "metadata": {},
   "outputs": [],
   "source": [
    "### Experimentos"
   ]
  },
  {
   "cell_type": "code",
   "execution_count": 2,
   "metadata": {},
   "outputs": [
    {
     "ename": "ArgumentError",
     "evalue": "ArgumentError: Package DataFrames not found in current path:\n- Run `import Pkg; Pkg.add(\"DataFrames\")` to install the DataFrames package.\n",
     "output_type": "error",
     "traceback": [
      "ArgumentError: Package DataFrames not found in current path:\n- Run `import Pkg; Pkg.add(\"DataFrames\")` to install the DataFrames package.\n",
      "",
      "Stacktrace:",
      " [1] require(::Module, ::Symbol) at ./loading.jl:823",
      " [2] top-level scope at In[2]:1"
     ]
    }
   ],
   "source": [
    "using DataFrames, Query, StatsPlots, Statistics\n",
    "\n",
    "function mandelbrot_seq(c_x_min, c_x_max, c_y_min, c_y_max, image_size)\n",
    "    results = parse.(Float64,\n",
    "        split(chomp(read(`./mandelbrot_seq $c_x_min $c_x_max $c_y_min $c_y_max $image_size`, String)), \", \"))\n",
    "        \n",
    "    return DataFrame(size = image_size\n",
    "        delta_x = c_x_max - c_x_min,\n",
    "        delta_y = c_y_max - c_y_min,\n",
    "        duration = results[2],\n",
    "        threads=1)\n",
    "end\n",
    "\n",
    "function mandelbrot_pth(c_x_min, c_x_max, c_y_min, c_y_max, image_size, threads)\n",
    "    results = parse.(Float64,\n",
    "        split(chomp(read(`./mandelbrot_pth $c_x_min $c_x_max $c_y_min $c_y_max $image_size $threads`, String)), \", \"))\n",
    "        \n",
    "    return DataFrame(size = image_size,\n",
    "                delta_x = c_x_max - c_x_min,\n",
    "                delta_y = c_y_max - c_y_min,\n",
    "                duration = results[2],\n",
    "                threads=threads)\n",
    "end\n"
   ]
  },
  {
   "cell_type": "code",
   "execution_count": null,
   "metadata": {},
   "outputs": [],
   "source": []
  }
 ],
 "metadata": {
  "kernelspec": {
   "display_name": "Julia 1.0.3",
   "language": "julia",
   "name": "julia-1.0"
  },
  "language_info": {
   "file_extension": ".jl",
   "mimetype": "application/julia",
   "name": "julia",
   "version": "1.0.3"
  }
 },
 "nbformat": 4,
 "nbformat_minor": 4
}
