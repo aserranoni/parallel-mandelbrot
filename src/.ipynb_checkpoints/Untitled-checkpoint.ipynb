{
 "cells": [
  {
   "cell_type": "markdown",
   "metadata": {},
   "source": [
    "\n",
    "# EP1 de Programacao Paralela e distribuida - MAC5742\n",
    "## Analise dos Resultados\n"
   ]
  },
  {
   "cell_type": "markdown",
   "metadata": {},
   "source": [
    "| Nome | NUSP |\n",
    "|------|------|\n",
    "| Ariel Serranoni Soares da Silva| 7658024 |\n",
    "| Thiago Martinoni | Numero usp |\n"
   ]
  },
  {
   "cell_type": "markdown",
   "metadata": {},
   "source": [
    "O Objetivo deste documento e analisar os resultados dos experimentos... A ideia foi desviar o minimo possivel da \n",
    "trilha estabelecida nos trabalhos anteriores. Por isso, vamos usar varias coisas do passado. O trabalho em C foi \n",
    "executado na maquina brucutu da rede IME."
   ]
  },
  {
   "cell_type": "code",
   "execution_count": null,
   "metadata": {},
   "outputs": [],
   "source": [
    "### Infra estrutura Julia\n",
    "\n",
    "como vamos usar muito da estrutura dos ultimos trabalhos, usamos o mesmo arquivo project.toml. \n",
    "Pode instalar rodando a celula a seguir"
   ]
  },
  {
   "cell_type": "code",
   "execution_count": 1,
   "metadata": {},
   "outputs": [
    {
     "name": "stderr",
     "output_type": "stream",
     "text": [
      "\u001b[32m\u001b[1m   Updating\u001b[22m\u001b[39m registry at `~/.julia/registries/General`\n"
     ]
    },
    {
     "name": "stdout",
     "output_type": "stream",
     "text": [
      "\u001b[?25l\u001b[2K"
     ]
    },
    {
     "name": "stderr",
     "output_type": "stream",
     "text": [
      "\u001b[32m\u001b[1m   Updating\u001b[22m\u001b[39m git-repo `https://github.com/JuliaRegistries/General.git`\n"
     ]
    },
    {
     "name": "stdout",
     "output_type": "stream",
     "text": [
      "\u001b[?25h"
     ]
    },
    {
     "name": "stderr",
     "output_type": "stream",
     "text": [
      "\u001b[32m\u001b[1m  Installed\u001b[22m\u001b[39m PositiveFactorizations ─────── v0.2.3\n",
      "\u001b[32m\u001b[1m  Installed\u001b[22m\u001b[39m PooledArrays ───────────────── v0.5.3\n",
      "\u001b[32m\u001b[1m  Installed\u001b[22m\u001b[39m StatsPlots ─────────────────── v0.14.6\n",
      "\u001b[32m\u001b[1m  Installed\u001b[22m\u001b[39m Query ──────────────────────── v0.12.2\n",
      "\u001b[32m\u001b[1m  Installed\u001b[22m\u001b[39m PGFPlotsX ──────────────────── v1.2.6\n",
      "\u001b[32m\u001b[1m  Installed\u001b[22m\u001b[39m DataFrames ─────────────────── v0.21.1\n",
      "\u001b[32m\u001b[1m  Installed\u001b[22m\u001b[39m Distributions ──────────────── v0.23.2\n",
      "\u001b[32m\u001b[1m  Installed\u001b[22m\u001b[39m Rmath_jll ──────────────────── v0.2.2+0\n",
      "\u001b[32m\u001b[1m  Installed\u001b[22m\u001b[39m Ogg_jll ────────────────────── v1.3.4+0\n",
      "\u001b[32m\u001b[1m  Installed\u001b[22m\u001b[39m TableOperations ────────────── v0.2.1\n",
      "\u001b[32m\u001b[1m  Installed\u001b[22m\u001b[39m TableShowUtils ─────────────── v0.2.5\n",
      "\u001b[32m\u001b[1m  Installed\u001b[22m\u001b[39m RecipesPipeline ────────────── v0.1.9\n",
      "\u001b[32m\u001b[1m  Installed\u001b[22m\u001b[39m Colors ─────────────────────── v0.12.1\n",
      "\u001b[32m\u001b[1m  Installed\u001b[22m\u001b[39m CSV ────────────────────────── v0.6.2\n",
      "\u001b[32m\u001b[1m  Installed\u001b[22m\u001b[39m Arpack ─────────────────────── v0.4.0\n",
      "\u001b[32m\u001b[1m  Installed\u001b[22m\u001b[39m DataValueInterfaces ────────── v1.0.0\n",
      "\u001b[32m\u001b[1m  Installed\u001b[22m\u001b[39m Parameters ─────────────────── v0.12.1\n",
      "\u001b[32m\u001b[1m  Installed\u001b[22m\u001b[39m FilePathsBase ──────────────── v0.8.0\n",
      "\u001b[32m\u001b[1m  Installed\u001b[22m\u001b[39m Plots ──────────────────────── v1.3.4\n",
      "\u001b[32m\u001b[1m  Installed\u001b[22m\u001b[39m LibVPX_jll ─────────────────── v1.8.1+1\n",
      "\u001b[32m\u001b[1m  Installed\u001b[22m\u001b[39m IteratorInterfaceExtensions ── v1.0.0\n",
      "\u001b[32m\u001b[1m  Installed\u001b[22m\u001b[39m Opus_jll ───────────────────── v1.3.1+1\n",
      "\u001b[32m\u001b[1m  Installed\u001b[22m\u001b[39m x264_jll ───────────────────── v2019.5.25+2\n",
      "\u001b[32m\u001b[1m  Installed\u001b[22m\u001b[39m NearestNeighbors ───────────── v0.4.4\n",
      "\u001b[32m\u001b[1m  Installed\u001b[22m\u001b[39m DiffResults ────────────────── v1.0.2\n",
      "\u001b[32m\u001b[1m  Installed\u001b[22m\u001b[39m FriBidi_jll ────────────────── v1.0.5+3\n",
      "\u001b[32m\u001b[1m  Installed\u001b[22m\u001b[39m FreeType2_jll ──────────────── v2.10.1+2\n",
      "\u001b[32m\u001b[1m  Installed\u001b[22m\u001b[39m Observables ────────────────── v0.3.1\n",
      "\u001b[32m\u001b[1m  Installed\u001b[22m\u001b[39m FFTW ───────────────────────── v1.2.1\n",
      "\u001b[32m\u001b[1m  Installed\u001b[22m\u001b[39m CompilerSupportLibraries_jll ─ v0.3.3+0\n",
      "\u001b[32m\u001b[1m  Installed\u001b[22m\u001b[39m ColorSchemes ───────────────── v3.9.0\n",
      "\u001b[32m\u001b[1m  Installed\u001b[22m\u001b[39m QueryOperators ─────────────── v0.9.1\n",
      "\u001b[32m\u001b[1m  Installed\u001b[22m\u001b[39m Showoff ────────────────────── v0.3.1\n",
      "\u001b[32m\u001b[1m  Installed\u001b[22m\u001b[39m PlotUtils ──────────────────── v1.0.4\n",
      "\u001b[32m\u001b[1m  Installed\u001b[22m\u001b[39m DataValues ─────────────────── v0.4.13\n",
      "\u001b[32m\u001b[1m  Installed\u001b[22m\u001b[39m FiniteDiff ─────────────────── v2.3.2\n",
      "\u001b[32m\u001b[1m  Installed\u001b[22m\u001b[39m GeometryTypes ──────────────── v0.8.3\n",
      "\u001b[32m\u001b[1m  Installed\u001b[22m\u001b[39m AxisAlgorithms ─────────────── v1.0.0\n",
      "\u001b[32m\u001b[1m  Installed\u001b[22m\u001b[39m DiffRules ──────────────────── v1.0.1\n",
      "\u001b[32m\u001b[1m  Installed\u001b[22m\u001b[39m ArgCheck ───────────────────── v2.0.0\n",
      "\u001b[32m\u001b[1m  Installed\u001b[22m\u001b[39m libvorbis_jll ──────────────── v1.3.6+4\n",
      "\u001b[32m\u001b[1m  Installed\u001b[22m\u001b[39m Ratios ─────────────────────── v0.4.0\n",
      "\u001b[32m\u001b[1m  Installed\u001b[22m\u001b[39m UnPack ─────────────────────── v1.0.1\n",
      "\u001b[32m\u001b[1m  Installed\u001b[22m\u001b[39m LAME_jll ───────────────────── v3.100.0+1\n",
      "\u001b[32m\u001b[1m  Installed\u001b[22m\u001b[39m ColorTypes ─────────────────── v0.10.3\n",
      "\u001b[32m\u001b[1m  Installed\u001b[22m\u001b[39m Distances ──────────────────── v0.8.2\n",
      "\u001b[32m\u001b[1m  Installed\u001b[22m\u001b[39m DefaultApplication ─────────── v1.0.0\n",
      "\u001b[32m\u001b[1m  Installed\u001b[22m\u001b[39m FFTW_jll ───────────────────── v3.3.9+5\n",
      "\u001b[32m\u001b[1m  Installed\u001b[22m\u001b[39m Tables ─────────────────────── v1.0.4\n",
      "\u001b[32m\u001b[1m  Installed\u001b[22m\u001b[39m Compat ─────────────────────── v3.10.0\n",
      "\u001b[32m\u001b[1m  Installed\u001b[22m\u001b[39m PDMats ─────────────────────── v0.9.12\n",
      "\u001b[32m\u001b[1m  Installed\u001b[22m\u001b[39m FixedPointNumbers ──────────── v0.8.0\n",
      "\u001b[32m\u001b[1m  Installed\u001b[22m\u001b[39m IntelOpenMP_jll ────────────── v2018.0.3+0\n",
      "\u001b[32m\u001b[1m  Installed\u001b[22m\u001b[39m WoodburyMatrices ───────────── v0.5.2\n",
      "\u001b[32m\u001b[1m  Installed\u001b[22m\u001b[39m LineSearches ───────────────── v7.0.1\n",
      "\u001b[32m\u001b[1m  Installed\u001b[22m\u001b[39m OffsetArrays ───────────────── v1.0.4\n",
      "\u001b[32m\u001b[1m  Installed\u001b[22m\u001b[39m Rmath ──────────────────────── v0.6.1\n",
      "\u001b[32m\u001b[1m  Installed\u001b[22m\u001b[39m Arpack_jll ─────────────────── v3.5.0+3\n",
      "\u001b[32m\u001b[1m  Installed\u001b[22m\u001b[39m TableTraitsUtils ───────────── v1.0.1\n",
      "\u001b[32m\u001b[1m  Installed\u001b[22m\u001b[39m NaNMath ────────────────────── v0.3.3\n",
      "\u001b[32m\u001b[1m  Installed\u001b[22m\u001b[39m Missings ───────────────────── v0.4.3\n",
      "\u001b[32m\u001b[1m  Installed\u001b[22m\u001b[39m PlotThemes ─────────────────── v2.0.0\n",
      "\u001b[32m\u001b[1m  Installed\u001b[22m\u001b[39m CategoricalArrays ──────────── v0.8.1\n",
      "\u001b[32m\u001b[1m  Installed\u001b[22m\u001b[39m Widgets ────────────────────── v0.6.2\n",
      "\u001b[32m\u001b[1m  Installed\u001b[22m\u001b[39m Bzip2_jll ──────────────────── v1.0.6+2\n",
      "\u001b[32m\u001b[1m  Installed\u001b[22m\u001b[39m AbstractFFTs ───────────────── v0.5.0\n",
      "\u001b[32m\u001b[1m  Installed\u001b[22m\u001b[39m SortingAlgorithms ──────────── v0.3.1\n",
      "\u001b[32m\u001b[1m  Installed\u001b[22m\u001b[39m IterableTables ─────────────── v1.0.0\n",
      "\u001b[32m\u001b[1m  Installed\u001b[22m\u001b[39m x265_jll ───────────────────── v3.0.0+1\n",
      "\u001b[32m\u001b[1m  Installed\u001b[22m\u001b[39m DataAPI ────────────────────── v1.3.0\n",
      "\u001b[32m\u001b[1m  Installed\u001b[22m\u001b[39m Contour ────────────────────── v0.5.3\n",
      "\u001b[32m\u001b[1m  Installed\u001b[22m\u001b[39m OpenSpecFun_jll ────────────── v0.5.3+3\n",
      "\u001b[32m\u001b[1m  Installed\u001b[22m\u001b[39m OpenBLAS_jll ───────────────── v0.3.9+4\n",
      "\u001b[32m\u001b[1m  Installed\u001b[22m\u001b[39m GR ─────────────────────────── v0.49.1\n",
      "\u001b[32m\u001b[1m  Installed\u001b[22m\u001b[39m RecipesBase ────────────────── v1.0.1\n",
      "\u001b[32m\u001b[1m  Installed\u001b[22m\u001b[39m Measures ───────────────────── v0.3.1\n",
      "\u001b[32m\u001b[1m  Installed\u001b[22m\u001b[39m StatsFuns ──────────────────── v0.9.5\n",
      "\u001b[32m\u001b[1m  Installed\u001b[22m\u001b[39m FillArrays ─────────────────── v0.8.10\n",
      "\u001b[32m\u001b[1m  Installed\u001b[22m\u001b[39m DataStructures ─────────────── v0.17.17\n",
      "\u001b[32m\u001b[1m  Installed\u001b[22m\u001b[39m libass_jll ─────────────────── v0.14.0+2\n",
      "\u001b[32m\u001b[1m  Installed\u001b[22m\u001b[39m ArrayInterface ─────────────── v2.8.7\n",
      "\u001b[32m\u001b[1m  Installed\u001b[22m\u001b[39m libfdk_aac_jll ─────────────── v0.1.6+2\n",
      "\u001b[32m\u001b[1m  Installed\u001b[22m\u001b[39m WeakRefStrings ─────────────── v0.6.2\n",
      "\u001b[32m\u001b[1m  Installed\u001b[22m\u001b[39m Optim ──────────────────────── v0.21.0\n",
      "\u001b[32m\u001b[1m  Installed\u001b[22m\u001b[39m StaticArrays ───────────────── v0.12.3\n",
      "\u001b[32m\u001b[1m  Installed\u001b[22m\u001b[39m FFMPEG ─────────────────────── v0.3.0\n",
      "\u001b[32m\u001b[1m  Installed\u001b[22m\u001b[39m MultivariateStats ──────────── v0.7.0\n",
      "\u001b[32m\u001b[1m  Installed\u001b[22m\u001b[39m Zlib_jll ───────────────────── v1.2.11+10\n",
      "\u001b[32m\u001b[1m  Installed\u001b[22m\u001b[39m NLSolversBase ──────────────── v7.6.1\n",
      "\u001b[32m\u001b[1m  Installed\u001b[22m\u001b[39m FFMPEG_jll ─────────────────── v4.1.0+3\n",
      "\u001b[32m\u001b[1m  Installed\u001b[22m\u001b[39m TableTraits ────────────────── v1.0.0\n",
      "\u001b[32m\u001b[1m  Installed\u001b[22m\u001b[39m SpecialFunctions ───────────── v0.10.3\n",
      "\u001b[32m\u001b[1m  Installed\u001b[22m\u001b[39m ForwardDiff ────────────────── v0.10.10\n",
      "\u001b[32m\u001b[1m  Installed\u001b[22m\u001b[39m Clustering ─────────────────── v0.14.0\n",
      "\u001b[32m\u001b[1m  Installed\u001b[22m\u001b[39m Reexport ───────────────────── v0.2.0\n",
      "\u001b[32m\u001b[1m  Installed\u001b[22m\u001b[39m QuadGK ─────────────────────── v2.3.1\n",
      "\u001b[32m\u001b[1m  Installed\u001b[22m\u001b[39m MKL_jll ────────────────────── v2019.0.117+2\n",
      "\u001b[32m\u001b[1m  Installed\u001b[22m\u001b[39m InvertedIndices ────────────── v1.0.0\n",
      "\u001b[32m\u001b[1m  Installed\u001b[22m\u001b[39m CommonSubexpressions ───────── v0.2.0\n",
      "\u001b[32m\u001b[1m  Installed\u001b[22m\u001b[39m KernelDensity ──────────────── v0.5.1\n",
      "\u001b[32m\u001b[1m  Installed\u001b[22m\u001b[39m MacroTools ─────────────────── v0.5.5\n",
      "\u001b[32m\u001b[1m  Installed\u001b[22m\u001b[39m OpenSSL_jll ────────────────── v1.1.1+2\n",
      "\u001b[32m\u001b[1m  Installed\u001b[22m\u001b[39m DocStringExtensions ────────── v0.8.1\n",
      "\u001b[32m\u001b[1m  Installed\u001b[22m\u001b[39m Interpolations ─────────────── v0.12.10\n",
      "\u001b[32m\u001b[1m  Installed\u001b[22m\u001b[39m Requires ───────────────────── v1.0.1\n",
      "\u001b[32m\u001b[1m  Installed\u001b[22m\u001b[39m OrderedCollections ─────────── v1.2.0\n",
      "\u001b[32m\u001b[1m  Installed\u001b[22m\u001b[39m StatsBase ──────────────────── v0.33.0\n",
      "######################################################################### 100.0%#=#=-#  #                                                                      \n",
      "######################################################################### 100.0%##O#- #                                                                        \n",
      "######################################################################### 100.0%##O#- #                                                                        \n",
      "######################################################################### 100.0%##O=#  #                                                                       \n",
      "######################################################################### 100.0%##O#- #                                                                        \n",
      "######################################################################### 100.0%##O=#  #                                                                       \n",
      "######################################################################### 100.0%##O#- #                                                                        \n",
      "######################################################################### 100.0%##O#- #                                                                        \n",
      "######################################################################### 100.0%##O#- #                                                                        \n",
      "######################################################################### 100.0%##O=#  #                                                                       \n",
      "######################################################################### 100.0%##O#- #                                                                        \n",
      "######################################################################### 100.0%##O#- #                                                                        \n",
      "######################################################################### 100.0%##O=#  #                                                                       \n",
      "######################################################################### 100.0%##O#- #                                                                        \n",
      "######################################################################### 100.0%##O#- #                                                                        \n",
      "######################################################################### 100.0%##O=#  #                                                                       \n",
      "######################################################################### 100.0%##O=#  #                                                                       \n",
      "######################################################################### 100.0%##O#- #                                                                        \n",
      "######################################################################### 100.0%##O#- #                                                                                                          2.1%\n",
      "######################################################################### 100.0%##O#- #                                                                        \n",
      "######################################################################### 100.0%##O#- #                                                                        \n",
      "######################################################################### 100.0%00.0%##O#- #                                                                        \n",
      "\u001b[32m\u001b[1m   Updating\u001b[22m\u001b[39m `/mnt/c/Users/Ariel/Desktop/EP1/src/Project.toml`\n",
      " \u001b[90m [336ed68f]\u001b[39m\u001b[92m + CSV v0.6.2\u001b[39m\n",
      " \u001b[90m [a93c6f00]\u001b[39m\u001b[92m + DataFrames v0.21.1\u001b[39m\n",
      " \u001b[90m [31c24e10]\u001b[39m\u001b[92m + Distributions v0.23.2\u001b[39m\n",
      " \u001b[90m [7073ff75]\u001b[39m\u001b[92m + IJulia v1.21.2\u001b[39m\n",
      " \u001b[90m [8314cec4]\u001b[39m\u001b[92m + PGFPlotsX v1.2.6\u001b[39m\n",
      " \u001b[90m [1a8c2f83]\u001b[39m\u001b[92m + Query v0.12.2\u001b[39m\n",
      " \u001b[90m [f3b207a7]\u001b[39m\u001b[92m + StatsPlots v0.14.6\u001b[39m\n",
      "\u001b[32m\u001b[1m   Updating\u001b[22m\u001b[39m `/mnt/c/Users/Ariel/Desktop/EP1/src/Manifest.toml`\n",
      " \u001b[90m [621f4979]\u001b[39m\u001b[92m + AbstractFFTs v0.5.0\u001b[39m\n",
      " \u001b[90m [dce04be8]\u001b[39m\u001b[92m + ArgCheck v2.0.0\u001b[39m\n",
      " \u001b[90m [7d9fca2a]\u001b[39m\u001b[92m + Arpack v0.4.0\u001b[39m\n",
      " \u001b[90m [68821587]\u001b[39m\u001b[92m + Arpack_jll v3.5.0+3\u001b[39m\n",
      " \u001b[90m [4fba245c]\u001b[39m\u001b[92m + ArrayInterface v2.8.7\u001b[39m\n",
      " \u001b[90m [13072b0f]\u001b[39m\u001b[92m + AxisAlgorithms v1.0.0\u001b[39m\n",
      " \u001b[90m [6e34b625]\u001b[39m\u001b[92m + Bzip2_jll v1.0.6+2\u001b[39m\n",
      " \u001b[90m [336ed68f]\u001b[39m\u001b[92m + CSV v0.6.2\u001b[39m\n",
      " \u001b[90m [324d7699]\u001b[39m\u001b[92m + CategoricalArrays v0.8.1\u001b[39m\n",
      " \u001b[90m [aaaa29a8]\u001b[39m\u001b[92m + Clustering v0.14.0\u001b[39m\n",
      " \u001b[90m [35d6a980]\u001b[39m\u001b[92m + ColorSchemes v3.9.0\u001b[39m\n",
      " \u001b[90m [3da002f7]\u001b[39m\u001b[92m + ColorTypes v0.10.3\u001b[39m\n",
      " \u001b[90m [5ae59095]\u001b[39m\u001b[92m + Colors v0.12.1\u001b[39m\n",
      " \u001b[90m [bbf7d656]\u001b[39m\u001b[92m + CommonSubexpressions v0.2.0\u001b[39m\n",
      " \u001b[90m [34da2185]\u001b[39m\u001b[92m + Compat v3.10.0\u001b[39m\n",
      " \u001b[90m [e66e0078]\u001b[39m\u001b[92m + CompilerSupportLibraries_jll v0.3.3+0\u001b[39m\n",
      " \u001b[90m [8f4d0f93]\u001b[39m\u001b[92m + Conda v1.4.1\u001b[39m\n",
      " \u001b[90m [d38c429a]\u001b[39m\u001b[92m + Contour v0.5.3\u001b[39m\n",
      " \u001b[90m [9a962f9c]\u001b[39m\u001b[92m + DataAPI v1.3.0\u001b[39m\n",
      " \u001b[90m [a93c6f00]\u001b[39m\u001b[92m + DataFrames v0.21.1\u001b[39m\n",
      " \u001b[90m [864edb3b]\u001b[39m\u001b[92m + DataStructures v0.17.17\u001b[39m\n",
      " \u001b[90m [e2d170a0]\u001b[39m\u001b[92m + DataValueInterfaces v1.0.0\u001b[39m\n",
      " \u001b[90m [e7dc6d0d]\u001b[39m\u001b[92m + DataValues v0.4.13\u001b[39m\n",
      " \u001b[90m [3f0dd361]\u001b[39m\u001b[92m + DefaultApplication v1.0.0\u001b[39m\n",
      " \u001b[90m [163ba53b]\u001b[39m\u001b[92m + DiffResults v1.0.2\u001b[39m\n",
      " \u001b[90m [b552c78f]\u001b[39m\u001b[92m + DiffRules v1.0.1\u001b[39m\n",
      " \u001b[90m [b4f34e82]\u001b[39m\u001b[92m + Distances v0.8.2\u001b[39m\n",
      " \u001b[90m [31c24e10]\u001b[39m\u001b[92m + Distributions v0.23.2\u001b[39m\n",
      " \u001b[90m [ffbed154]\u001b[39m\u001b[92m + DocStringExtensions v0.8.1\u001b[39m\n",
      " \u001b[90m [c87230d0]\u001b[39m\u001b[92m + FFMPEG v0.3.0\u001b[39m\n",
      " \u001b[90m [b22a6f82]\u001b[39m\u001b[92m + FFMPEG_jll v4.1.0+3\u001b[39m\n",
      " \u001b[90m [7a1cc6ca]\u001b[39m\u001b[92m + FFTW v1.2.1\u001b[39m\n",
      " \u001b[90m [f5851436]\u001b[39m\u001b[92m + FFTW_jll v3.3.9+5\u001b[39m\n",
      " \u001b[90m [48062228]\u001b[39m\u001b[92m + FilePathsBase v0.8.0\u001b[39m\n",
      " \u001b[90m [1a297f60]\u001b[39m\u001b[92m + FillArrays v0.8.10\u001b[39m\n",
      " \u001b[90m [6a86dc24]\u001b[39m\u001b[92m + FiniteDiff v2.3.2\u001b[39m\n",
      " \u001b[90m [53c48c17]\u001b[39m\u001b[92m + FixedPointNumbers v0.8.0\u001b[39m\n",
      " \u001b[90m [f6369f11]\u001b[39m\u001b[92m + ForwardDiff v0.10.10\u001b[39m\n",
      " \u001b[90m [d7e528f0]\u001b[39m\u001b[92m + FreeType2_jll v2.10.1+2\u001b[39m\n",
      " \u001b[90m [559328eb]\u001b[39m\u001b[92m + FriBidi_jll v1.0.5+3\u001b[39m\n",
      " \u001b[90m [28b8d3ca]\u001b[39m\u001b[92m + GR v0.49.1\u001b[39m\n",
      " \u001b[90m [4d00f742]\u001b[39m\u001b[92m + GeometryTypes v0.8.3\u001b[39m\n",
      " \u001b[90m [7073ff75]\u001b[39m\u001b[92m + IJulia v1.21.2\u001b[39m\n",
      " \u001b[90m [1d5cc7b8]\u001b[39m\u001b[92m + IntelOpenMP_jll v2018.0.3+0\u001b[39m\n",
      " \u001b[90m [a98d9a8b]\u001b[39m\u001b[92m + Interpolations v0.12.10\u001b[39m\n",
      " \u001b[90m [41ab1584]\u001b[39m\u001b[92m + InvertedIndices v1.0.0\u001b[39m\n",
      " \u001b[90m [1c8ee90f]\u001b[39m\u001b[92m + IterableTables v1.0.0\u001b[39m\n",
      " \u001b[90m [82899510]\u001b[39m\u001b[92m + IteratorInterfaceExtensions v1.0.0\u001b[39m\n",
      " \u001b[90m [682c06a0]\u001b[39m\u001b[92m + JSON v0.21.0\u001b[39m\n",
      " \u001b[90m [5ab0869b]\u001b[39m\u001b[92m + KernelDensity v0.5.1\u001b[39m\n",
      " \u001b[90m [c1c5ebd0]\u001b[39m\u001b[92m + LAME_jll v3.100.0+1\u001b[39m\n",
      " \u001b[90m [dd192d2f]\u001b[39m\u001b[92m + LibVPX_jll v1.8.1+1\u001b[39m\n",
      " \u001b[90m [d3d80556]\u001b[39m\u001b[92m + LineSearches v7.0.1\u001b[39m\n",
      " \u001b[90m [856f044c]\u001b[39m\u001b[92m + MKL_jll v2019.0.117+2\u001b[39m\n",
      " \u001b[90m [1914dd2f]\u001b[39m\u001b[92m + MacroTools v0.5.5\u001b[39m\n",
      " \u001b[90m [739be429]\u001b[39m\u001b[92m + MbedTLS v1.0.2\u001b[39m\n",
      " \u001b[90m [c8ffd9c3]\u001b[39m\u001b[92m + MbedTLS_jll v2.16.0+2\u001b[39m\n",
      " \u001b[90m [442fdcdd]\u001b[39m\u001b[92m + Measures v0.3.1\u001b[39m\n",
      " \u001b[90m [e1d29d7a]\u001b[39m\u001b[92m + Missings v0.4.3\u001b[39m\n",
      " \u001b[90m [6f286f6a]\u001b[39m\u001b[92m + MultivariateStats v0.7.0\u001b[39m\n",
      " \u001b[90m [d41bc354]\u001b[39m\u001b[92m + NLSolversBase v7.6.1\u001b[39m\n",
      " \u001b[90m [77ba4419]\u001b[39m\u001b[92m + NaNMath v0.3.3\u001b[39m\n",
      " \u001b[90m [b8a86587]\u001b[39m\u001b[92m + NearestNeighbors v0.4.4\u001b[39m\n",
      " \u001b[90m [510215fc]\u001b[39m\u001b[92m + Observables v0.3.1\u001b[39m\n",
      " \u001b[90m [6fe1bfb0]\u001b[39m\u001b[92m + OffsetArrays v1.0.4\u001b[39m\n",
      " \u001b[90m [e7412a2a]\u001b[39m\u001b[92m + Ogg_jll v1.3.4+0\u001b[39m\n",
      " \u001b[90m [4536629a]\u001b[39m\u001b[92m + OpenBLAS_jll v0.3.9+4\u001b[39m\n",
      " \u001b[90m [458c3c95]\u001b[39m\u001b[92m + OpenSSL_jll v1.1.1+2\u001b[39m\n",
      " \u001b[90m [efe28fd5]\u001b[39m\u001b[92m + OpenSpecFun_jll v0.5.3+3\u001b[39m\n",
      " \u001b[90m [429524aa]\u001b[39m\u001b[92m + Optim v0.21.0\u001b[39m\n",
      " \u001b[90m [91d4177d]\u001b[39m\u001b[92m + Opus_jll v1.3.1+1\u001b[39m\n",
      " \u001b[90m [bac558e1]\u001b[39m\u001b[92m + OrderedCollections v1.2.0\u001b[39m\n",
      " \u001b[90m [90014a1f]\u001b[39m\u001b[92m + PDMats v0.9.12\u001b[39m\n",
      " \u001b[90m [8314cec4]\u001b[39m\u001b[92m + PGFPlotsX v1.2.6\u001b[39m\n",
      " \u001b[90m [d96e819e]\u001b[39m\u001b[92m + Parameters v0.12.1\u001b[39m\n",
      " \u001b[90m [69de0a69]\u001b[39m\u001b[92m + Parsers v1.0.4\u001b[39m\n",
      " \u001b[90m [ccf2f8ad]\u001b[39m\u001b[92m + PlotThemes v2.0.0\u001b[39m\n",
      " \u001b[90m [995b91a9]\u001b[39m\u001b[92m + PlotUtils v1.0.4\u001b[39m\n",
      " \u001b[90m [91a5bcdd]\u001b[39m\u001b[92m + Plots v1.3.4\u001b[39m\n",
      " \u001b[90m [2dfb63ee]\u001b[39m\u001b[92m + PooledArrays v0.5.3\u001b[39m\n",
      " \u001b[90m [85a6dd25]\u001b[39m\u001b[92m + PositiveFactorizations v0.2.3\u001b[39m\n",
      " \u001b[90m [1fd47b50]\u001b[39m\u001b[92m + QuadGK v2.3.1\u001b[39m\n",
      " \u001b[90m [1a8c2f83]\u001b[39m\u001b[92m + Query v0.12.2\u001b[39m\n",
      " \u001b[90m [2aef5ad7]\u001b[39m\u001b[92m + QueryOperators v0.9.1\u001b[39m\n",
      " \u001b[90m [c84ed2f1]\u001b[39m\u001b[92m + Ratios v0.4.0\u001b[39m\n",
      " \u001b[90m [3cdcf5f2]\u001b[39m\u001b[92m + RecipesBase v1.0.1\u001b[39m\n",
      " \u001b[90m [01d81517]\u001b[39m\u001b[92m + RecipesPipeline v0.1.9\u001b[39m\n",
      " \u001b[90m [189a3867]\u001b[39m\u001b[92m + Reexport v0.2.0\u001b[39m\n",
      " \u001b[90m [ae029012]\u001b[39m\u001b[92m + Requires v1.0.1\u001b[39m\n",
      " \u001b[90m [79098fc4]\u001b[39m\u001b[92m + Rmath v0.6.1\u001b[39m\n",
      " \u001b[90m [f50d1b31]\u001b[39m\u001b[92m + Rmath_jll v0.2.2+0\u001b[39m\n",
      " \u001b[90m [992d4aef]\u001b[39m\u001b[92m + Showoff v0.3.1\u001b[39m\n",
      " \u001b[90m [b85f4697]\u001b[39m\u001b[92m + SoftGlobalScope v1.0.10\u001b[39m\n",
      " \u001b[90m [a2af1166]\u001b[39m\u001b[92m + SortingAlgorithms v0.3.1\u001b[39m\n",
      " \u001b[90m [276daf66]\u001b[39m\u001b[92m + SpecialFunctions v0.10.3\u001b[39m\n",
      " \u001b[90m [90137ffa]\u001b[39m\u001b[92m + StaticArrays v0.12.3\u001b[39m\n"
     ]
    },
    {
     "name": "stderr",
     "output_type": "stream",
     "text": [
      " \u001b[90m [2913bbd2]\u001b[39m\u001b[92m + StatsBase v0.33.0\u001b[39m\n",
      " \u001b[90m [4c63d2b9]\u001b[39m\u001b[92m + StatsFuns v0.9.5\u001b[39m\n",
      " \u001b[90m [f3b207a7]\u001b[39m\u001b[92m + StatsPlots v0.14.6\u001b[39m\n",
      " \u001b[90m [ab02a1b2]\u001b[39m\u001b[92m + TableOperations v0.2.1\u001b[39m\n",
      " \u001b[90m [5e66a065]\u001b[39m\u001b[92m + TableShowUtils v0.2.5\u001b[39m\n",
      " \u001b[90m [3783bdb8]\u001b[39m\u001b[92m + TableTraits v1.0.0\u001b[39m\n",
      " \u001b[90m [382cd787]\u001b[39m\u001b[92m + TableTraitsUtils v1.0.1\u001b[39m\n",
      " \u001b[90m [bd369af6]\u001b[39m\u001b[92m + Tables v1.0.4\u001b[39m\n",
      " \u001b[90m [3a884ed6]\u001b[39m\u001b[92m + UnPack v1.0.1\u001b[39m\n",
      " \u001b[90m [81def892]\u001b[39m\u001b[92m + VersionParsing v1.2.0\u001b[39m\n",
      " \u001b[90m [ea10d353]\u001b[39m\u001b[92m + WeakRefStrings v0.6.2\u001b[39m\n",
      " \u001b[90m [cc8bc4a8]\u001b[39m\u001b[92m + Widgets v0.6.2\u001b[39m\n",
      " \u001b[90m [efce3f68]\u001b[39m\u001b[92m + WoodburyMatrices v0.5.2\u001b[39m\n",
      " \u001b[90m [c2297ded]\u001b[39m\u001b[92m + ZMQ v1.2.0\u001b[39m\n",
      " \u001b[90m [8f1865be]\u001b[39m\u001b[92m + ZeroMQ_jll v4.3.2+3\u001b[39m\n",
      " \u001b[90m [83775a58]\u001b[39m\u001b[92m + Zlib_jll v1.2.11+10\u001b[39m\n",
      " \u001b[90m [0ac62f75]\u001b[39m\u001b[92m + libass_jll v0.14.0+2\u001b[39m\n",
      " \u001b[90m [f638f0a6]\u001b[39m\u001b[92m + libfdk_aac_jll v0.1.6+2\u001b[39m\n",
      " \u001b[90m [f27f6e37]\u001b[39m\u001b[92m + libvorbis_jll v1.3.6+4\u001b[39m\n",
      " \u001b[90m [1270edf5]\u001b[39m\u001b[92m + x264_jll v2019.5.25+2\u001b[39m\n",
      " \u001b[90m [dfaa095f]\u001b[39m\u001b[92m + x265_jll v3.0.0+1\u001b[39m\n",
      " \u001b[90m [2a0f44e3]\u001b[39m\u001b[92m + Base64 \u001b[39m\n",
      " \u001b[90m [ade2ca70]\u001b[39m\u001b[92m + Dates \u001b[39m\n",
      " \u001b[90m [8bb1440f]\u001b[39m\u001b[92m + DelimitedFiles \u001b[39m\n",
      " \u001b[90m [8ba89e20]\u001b[39m\u001b[92m + Distributed \u001b[39m\n",
      " \u001b[90m [7b1f6079]\u001b[39m\u001b[92m + FileWatching \u001b[39m\n",
      " \u001b[90m [9fa8497b]\u001b[39m\u001b[92m + Future \u001b[39m\n",
      " \u001b[90m [b77e0a4c]\u001b[39m\u001b[92m + InteractiveUtils \u001b[39m\n",
      " \u001b[90m [76f85450]\u001b[39m\u001b[92m + LibGit2 \u001b[39m\n",
      " \u001b[90m [8f399da3]\u001b[39m\u001b[92m + Libdl \u001b[39m\n",
      " \u001b[90m [37e2e46d]\u001b[39m\u001b[92m + LinearAlgebra \u001b[39m\n",
      " \u001b[90m [56ddb016]\u001b[39m\u001b[92m + Logging \u001b[39m\n",
      " \u001b[90m [d6f4376e]\u001b[39m\u001b[92m + Markdown \u001b[39m\n",
      " \u001b[90m [a63ad114]\u001b[39m\u001b[92m + Mmap \u001b[39m\n",
      " \u001b[90m [44cfe95a]\u001b[39m\u001b[92m + Pkg \u001b[39m\n",
      " \u001b[90m [de0858da]\u001b[39m\u001b[92m + Printf \u001b[39m\n",
      " \u001b[90m [3fa0cd96]\u001b[39m\u001b[92m + REPL \u001b[39m\n",
      " \u001b[90m [9a3f8284]\u001b[39m\u001b[92m + Random \u001b[39m\n",
      " \u001b[90m [ea8e919c]\u001b[39m\u001b[92m + SHA \u001b[39m\n",
      " \u001b[90m [9e88b42a]\u001b[39m\u001b[92m + Serialization \u001b[39m\n",
      " \u001b[90m [1a1011a3]\u001b[39m\u001b[92m + SharedArrays \u001b[39m\n",
      " \u001b[90m [6462fe0b]\u001b[39m\u001b[92m + Sockets \u001b[39m\n",
      " \u001b[90m [2f01184e]\u001b[39m\u001b[92m + SparseArrays \u001b[39m\n",
      " \u001b[90m [10745b16]\u001b[39m\u001b[92m + Statistics \u001b[39m\n",
      " \u001b[90m [4607b0f0]\u001b[39m\u001b[92m + SuiteSparse \u001b[39m\n",
      " \u001b[90m [8dfed614]\u001b[39m\u001b[92m + Test \u001b[39m\n",
      " \u001b[90m [cf7118a7]\u001b[39m\u001b[92m + UUIDs \u001b[39m\n",
      " \u001b[90m [4ec0a83e]\u001b[39m\u001b[92m + Unicode \u001b[39m\n",
      "\u001b[32m\u001b[1m   Building\u001b[22m\u001b[39m GR ───→ `~/.julia/packages/GR/cRdXQ/deps/build.log`\n",
      "\u001b[32m\u001b[1m   Building\u001b[22m\u001b[39m Plots → `~/.julia/packages/Plots/HqUc7/deps/build.log`\n",
      "\u001b[32m\u001b[1m   Building\u001b[22m\u001b[39m FFTW ─→ `~/.julia/packages/FFTW/5DZuu/deps/build.log`\n"
     ]
    }
   ],
   "source": [
    "]up"
   ]
  },
  {
   "cell_type": "code",
   "execution_count": null,
   "metadata": {},
   "outputs": [],
   "source": [
    "Tambem podemos verificar se ha algum problema rodando a seguinte celula"
   ]
  },
  {
   "cell_type": "code",
   "execution_count": 2,
   "metadata": {},
   "outputs": [
    {
     "name": "stdout",
     "output_type": "stream",
     "text": [
      "\u001b[32m\u001b[1mStatus\u001b[22m\u001b[39m `/mnt/c/Users/Ariel/Desktop/EP1/src/Project.toml`\n",
      " \u001b[90m [336ed68f]\u001b[39m\u001b[37m CSV v0.6.2\u001b[39m\n",
      " \u001b[90m [a93c6f00]\u001b[39m\u001b[37m DataFrames v0.21.1\u001b[39m\n",
      " \u001b[90m [31c24e10]\u001b[39m\u001b[37m Distributions v0.23.2\u001b[39m\n",
      " \u001b[90m [7073ff75]\u001b[39m\u001b[37m IJulia v1.21.2\u001b[39m\n",
      " \u001b[90m [8314cec4]\u001b[39m\u001b[37m PGFPlotsX v1.2.6\u001b[39m\n",
      " \u001b[90m [1a8c2f83]\u001b[39m\u001b[37m Query v0.12.2\u001b[39m\n",
      " \u001b[90m [f3b207a7]\u001b[39m\u001b[37m StatsPlots v0.14.6\u001b[39m\n"
     ]
    }
   ],
   "source": [
    "] st"
   ]
  },
  {
   "cell_type": "code",
   "execution_count": null,
   "metadata": {},
   "outputs": [],
   "source": [
    "### Infra estrutura C\n",
    "\n",
    "blablabla explicacao"
   ]
  },
  {
   "cell_type": "code",
   "execution_count": null,
   "metadata": {},
   "outputs": [],
   "source": [
    "### Experimentos"
   ]
  },
  {
   "cell_type": "code",
   "execution_count": 72,
   "metadata": {},
   "outputs": [
    {
     "data": {
      "text/html": [
       "<table class=\"data-frame\"><thead><tr><th></th><th>size</th><th>delta_x</th><th>delta_y</th><th>duration_clock</th><th>duration_mono</th><th>duration_sys</th><th>threads</th><th>method</th></tr><tr><th></th><th>Int64</th><th>Int64</th><th>Int64</th><th>Float64</th><th>Float64</th><th>Float64</th><th>Int64</th><th>String</th></tr></thead><tbody><p>1 rows × 8 columns</p><tr><th>1</th><td>1000</td><td>1</td><td>1</td><td>0.352759</td><td>0.352754</td><td>0.352754</td><td>2</td><td>seq</td></tr></tbody></table>"
      ],
      "text/latex": [
       "\\begin{tabular}{r|cccccccc}\n",
       "\t& size & delta\\_x & delta\\_y & duration\\_clock & duration\\_mono & duration\\_sys & threads & method\\\\\n",
       "\t\\hline\n",
       "\t& Int64 & Int64 & Int64 & Float64 & Float64 & Float64 & Int64 & String\\\\\n",
       "\t\\hline\n",
       "\t1 & 1000 & 1 & 1 & 0.352759 & 0.352754 & 0.352754 & 2 & seq \\\\\n",
       "\\end{tabular}\n"
      ],
      "text/plain": [
       "1×8 DataFrame. Omitted printing of 3 columns\n",
       "│ Row │ size  │ delta_x │ delta_y │ duration_clock │ duration_mono │\n",
       "│     │ \u001b[90mInt64\u001b[39m │ \u001b[90mInt64\u001b[39m   │ \u001b[90mInt64\u001b[39m   │ \u001b[90mFloat64\u001b[39m        │ \u001b[90mFloat64\u001b[39m       │\n",
       "├─────┼───────┼─────────┼─────────┼────────────────┼───────────────┤\n",
       "│ 1   │ 1000  │ 1       │ 1       │ 0.352759       │ 0.352754      │"
      ]
     },
     "execution_count": 72,
     "metadata": {},
     "output_type": "execute_result"
    }
   ],
   "source": [
    "using DataFrames, Query, StatsPlots, Statistics\n",
    "\n",
    "function mandelbrot(method, c_x_min, c_x_max, c_y_min, c_y_max, image_size, threads=1)\n",
    "    results = parse.(Float64,\n",
    "        split(chomp(read(`./mandelbrot_$method $c_x_min $c_x_max $c_y_min $c_y_max $image_size $threads`, String)), \", \"))\n",
    "        \n",
    "    return DataFrame(size = image_size,\n",
    "                delta_x = c_x_max - c_x_min,\n",
    "                delta_y = c_y_max - c_y_min,\n",
    "                duration_clock = results[1],\n",
    "                duration_mono = results[2],\n",
    "                duration_sys = results[3],\n",
    "                threads=threads,\n",
    "                method=method)\n",
    "    end\n",
    " \n",
    "\n",
    "mandelbrot(\"seq\",0, 1,0,1,1000,2)"
   ]
  },
  {
   "cell_type": "markdown",
   "metadata": {},
   "source": [
    "mais uma outra funcao do miniEP3 adaptada para o nosso caso"
   ]
  },
  {
   "cell_type": "code",
   "execution_count": 186,
   "metadata": {},
   "outputs": [
    {
     "name": "stdout",
     "output_type": "stream",
     "text": [
      "make: Nothing to be done for 'all'.\n",
      "123123123"
     ]
    },
    {
     "data": {
      "text/html": [
       "<table class=\"data-frame\"><thead><tr><th></th><th>size</th><th>delta_x</th><th>delta_y</th><th>duration_clock</th><th>duration_mono</th><th>duration_sys</th><th>threads</th><th>method</th></tr><tr><th></th><th>Int64</th><th>Float64</th><th>Float64</th><th>Float64</th><th>Float64</th><th>Float64</th><th>Int64</th><th>String</th></tr></thead><tbody><p>70 rows × 8 columns</p><tr><th>1</th><td>1000</td><td>1.0</td><td>1.0</td><td>0.357669</td><td>0.357665</td><td>0.357665</td><td>1</td><td>seq</td></tr><tr><th>2</th><td>1000</td><td>1.0</td><td>1.0</td><td>0.355612</td><td>0.355639</td><td>0.355639</td><td>1</td><td>seq</td></tr><tr><th>3</th><td>1000</td><td>1.0</td><td>1.0</td><td>0.361766</td><td>0.36176</td><td>0.361761</td><td>1</td><td>seq</td></tr><tr><th>4</th><td>1000</td><td>1.0</td><td>1.0</td><td>0.355489</td><td>0.355528</td><td>0.355529</td><td>1</td><td>seq</td></tr><tr><th>5</th><td>1000</td><td>1.0</td><td>1.0</td><td>0.355651</td><td>0.355646</td><td>0.355646</td><td>1</td><td>seq</td></tr><tr><th>6</th><td>1000</td><td>1.0</td><td>1.0</td><td>0.353688</td><td>0.353713</td><td>0.353713</td><td>1</td><td>seq</td></tr><tr><th>7</th><td>1000</td><td>1.0</td><td>1.0</td><td>0.354275</td><td>0.354271</td><td>0.35427</td><td>1</td><td>seq</td></tr><tr><th>8</th><td>1000</td><td>1.0</td><td>1.0</td><td>0.35352</td><td>0.353515</td><td>0.353515</td><td>1</td><td>seq</td></tr><tr><th>9</th><td>1000</td><td>1.0</td><td>1.0</td><td>0.355359</td><td>0.355354</td><td>0.355354</td><td>1</td><td>seq</td></tr><tr><th>10</th><td>1000</td><td>1.0</td><td>1.0</td><td>0.354317</td><td>0.354313</td><td>0.354313</td><td>1</td><td>seq</td></tr><tr><th>11</th><td>1000</td><td>1.0</td><td>1.0</td><td>0.355748</td><td>0.358374</td><td>0.358374</td><td>1</td><td>pth</td></tr><tr><th>12</th><td>1000</td><td>1.0</td><td>1.0</td><td>0.352423</td><td>0.352845</td><td>0.352845</td><td>1</td><td>pth</td></tr><tr><th>13</th><td>1000</td><td>1.0</td><td>1.0</td><td>0.345776</td><td>0.353569</td><td>0.353568</td><td>1</td><td>pth</td></tr><tr><th>14</th><td>1000</td><td>1.0</td><td>1.0</td><td>0.347049</td><td>0.354914</td><td>0.354914</td><td>1</td><td>pth</td></tr><tr><th>15</th><td>1000</td><td>1.0</td><td>1.0</td><td>0.347956</td><td>0.35281</td><td>0.35281</td><td>1</td><td>pth</td></tr><tr><th>16</th><td>1000</td><td>1.0</td><td>1.0</td><td>0.350923</td><td>0.354787</td><td>0.354787</td><td>1</td><td>pth</td></tr><tr><th>17</th><td>1000</td><td>1.0</td><td>1.0</td><td>0.351598</td><td>0.355361</td><td>0.355361</td><td>1</td><td>pth</td></tr><tr><th>18</th><td>1000</td><td>1.0</td><td>1.0</td><td>0.351807</td><td>0.353873</td><td>0.353873</td><td>1</td><td>pth</td></tr><tr><th>19</th><td>1000</td><td>1.0</td><td>1.0</td><td>0.353578</td><td>0.354822</td><td>0.354822</td><td>1</td><td>pth</td></tr><tr><th>20</th><td>1000</td><td>1.0</td><td>1.0</td><td>0.352188</td><td>0.352977</td><td>0.352977</td><td>1</td><td>pth</td></tr><tr><th>21</th><td>1000</td><td>1.0</td><td>1.0</td><td>0.361736</td><td>0.292694</td><td>0.292693</td><td>2</td><td>pth</td></tr><tr><th>22</th><td>1000</td><td>1.0</td><td>1.0</td><td>0.357678</td><td>0.291797</td><td>0.291797</td><td>2</td><td>pth</td></tr><tr><th>23</th><td>1000</td><td>1.0</td><td>1.0</td><td>0.343113</td><td>0.285327</td><td>0.285327</td><td>2</td><td>pth</td></tr><tr><th>24</th><td>1000</td><td>1.0</td><td>1.0</td><td>0.353374</td><td>0.290184</td><td>0.290183</td><td>2</td><td>pth</td></tr><tr><th>25</th><td>1000</td><td>1.0</td><td>1.0</td><td>0.344793</td><td>0.287397</td><td>0.287397</td><td>2</td><td>pth</td></tr><tr><th>26</th><td>1000</td><td>1.0</td><td>1.0</td><td>0.345165</td><td>0.28716</td><td>0.28716</td><td>2</td><td>pth</td></tr><tr><th>27</th><td>1000</td><td>1.0</td><td>1.0</td><td>0.351887</td><td>0.290882</td><td>0.290883</td><td>2</td><td>pth</td></tr><tr><th>28</th><td>1000</td><td>1.0</td><td>1.0</td><td>0.398105</td><td>0.316444</td><td>0.316444</td><td>2</td><td>pth</td></tr><tr><th>29</th><td>1000</td><td>1.0</td><td>1.0</td><td>0.383475</td><td>0.28771</td><td>0.287709</td><td>2</td><td>pth</td></tr><tr><th>30</th><td>1000</td><td>1.0</td><td>1.0</td><td>0.35214</td><td>0.290895</td><td>0.290895</td><td>2</td><td>pth</td></tr><tr><th>&vellip;</th><td>&vellip;</td><td>&vellip;</td><td>&vellip;</td><td>&vellip;</td><td>&vellip;</td><td>&vellip;</td><td>&vellip;</td><td>&vellip;</td></tr></tbody></table>"
      ],
      "text/latex": [
       "\\begin{tabular}{r|cccccccc}\n",
       "\t& size & delta\\_x & delta\\_y & duration\\_clock & duration\\_mono & duration\\_sys & threads & method\\\\\n",
       "\t\\hline\n",
       "\t& Int64 & Float64 & Float64 & Float64 & Float64 & Float64 & Int64 & String\\\\\n",
       "\t\\hline\n",
       "\t1 & 1000 & 1.0 & 1.0 & 0.357669 & 0.357665 & 0.357665 & 1 & seq \\\\\n",
       "\t2 & 1000 & 1.0 & 1.0 & 0.355612 & 0.355639 & 0.355639 & 1 & seq \\\\\n",
       "\t3 & 1000 & 1.0 & 1.0 & 0.361766 & 0.36176 & 0.361761 & 1 & seq \\\\\n",
       "\t4 & 1000 & 1.0 & 1.0 & 0.355489 & 0.355528 & 0.355529 & 1 & seq \\\\\n",
       "\t5 & 1000 & 1.0 & 1.0 & 0.355651 & 0.355646 & 0.355646 & 1 & seq \\\\\n",
       "\t6 & 1000 & 1.0 & 1.0 & 0.353688 & 0.353713 & 0.353713 & 1 & seq \\\\\n",
       "\t7 & 1000 & 1.0 & 1.0 & 0.354275 & 0.354271 & 0.35427 & 1 & seq \\\\\n",
       "\t8 & 1000 & 1.0 & 1.0 & 0.35352 & 0.353515 & 0.353515 & 1 & seq \\\\\n",
       "\t9 & 1000 & 1.0 & 1.0 & 0.355359 & 0.355354 & 0.355354 & 1 & seq \\\\\n",
       "\t10 & 1000 & 1.0 & 1.0 & 0.354317 & 0.354313 & 0.354313 & 1 & seq \\\\\n",
       "\t11 & 1000 & 1.0 & 1.0 & 0.355748 & 0.358374 & 0.358374 & 1 & pth \\\\\n",
       "\t12 & 1000 & 1.0 & 1.0 & 0.352423 & 0.352845 & 0.352845 & 1 & pth \\\\\n",
       "\t13 & 1000 & 1.0 & 1.0 & 0.345776 & 0.353569 & 0.353568 & 1 & pth \\\\\n",
       "\t14 & 1000 & 1.0 & 1.0 & 0.347049 & 0.354914 & 0.354914 & 1 & pth \\\\\n",
       "\t15 & 1000 & 1.0 & 1.0 & 0.347956 & 0.35281 & 0.35281 & 1 & pth \\\\\n",
       "\t16 & 1000 & 1.0 & 1.0 & 0.350923 & 0.354787 & 0.354787 & 1 & pth \\\\\n",
       "\t17 & 1000 & 1.0 & 1.0 & 0.351598 & 0.355361 & 0.355361 & 1 & pth \\\\\n",
       "\t18 & 1000 & 1.0 & 1.0 & 0.351807 & 0.353873 & 0.353873 & 1 & pth \\\\\n",
       "\t19 & 1000 & 1.0 & 1.0 & 0.353578 & 0.354822 & 0.354822 & 1 & pth \\\\\n",
       "\t20 & 1000 & 1.0 & 1.0 & 0.352188 & 0.352977 & 0.352977 & 1 & pth \\\\\n",
       "\t21 & 1000 & 1.0 & 1.0 & 0.361736 & 0.292694 & 0.292693 & 2 & pth \\\\\n",
       "\t22 & 1000 & 1.0 & 1.0 & 0.357678 & 0.291797 & 0.291797 & 2 & pth \\\\\n",
       "\t23 & 1000 & 1.0 & 1.0 & 0.343113 & 0.285327 & 0.285327 & 2 & pth \\\\\n",
       "\t24 & 1000 & 1.0 & 1.0 & 0.353374 & 0.290184 & 0.290183 & 2 & pth \\\\\n",
       "\t25 & 1000 & 1.0 & 1.0 & 0.344793 & 0.287397 & 0.287397 & 2 & pth \\\\\n",
       "\t26 & 1000 & 1.0 & 1.0 & 0.345165 & 0.28716 & 0.28716 & 2 & pth \\\\\n",
       "\t27 & 1000 & 1.0 & 1.0 & 0.351887 & 0.290882 & 0.290883 & 2 & pth \\\\\n",
       "\t28 & 1000 & 1.0 & 1.0 & 0.398105 & 0.316444 & 0.316444 & 2 & pth \\\\\n",
       "\t29 & 1000 & 1.0 & 1.0 & 0.383475 & 0.28771 & 0.287709 & 2 & pth \\\\\n",
       "\t30 & 1000 & 1.0 & 1.0 & 0.35214 & 0.290895 & 0.290895 & 2 & pth \\\\\n",
       "\t$\\dots$ & $\\dots$ & $\\dots$ & $\\dots$ & $\\dots$ & $\\dots$ & $\\dots$ & $\\dots$ & $\\dots$ \\\\\n",
       "\\end{tabular}\n"
      ],
      "text/plain": [
       "70×8 DataFrame. Omitted printing of 3 columns\n",
       "│ Row │ size  │ delta_x │ delta_y │ duration_clock │ duration_mono │\n",
       "│     │ \u001b[90mInt64\u001b[39m │ \u001b[90mFloat64\u001b[39m │ \u001b[90mFloat64\u001b[39m │ \u001b[90mFloat64\u001b[39m        │ \u001b[90mFloat64\u001b[39m       │\n",
       "├─────┼───────┼─────────┼─────────┼────────────────┼───────────────┤\n",
       "│ 1   │ 1000  │ 1.0     │ 1.0     │ 0.357669       │ 0.357665      │\n",
       "│ 2   │ 1000  │ 1.0     │ 1.0     │ 0.355612       │ 0.355639      │\n",
       "│ 3   │ 1000  │ 1.0     │ 1.0     │ 0.361766       │ 0.36176       │\n",
       "│ 4   │ 1000  │ 1.0     │ 1.0     │ 0.355489       │ 0.355528      │\n",
       "│ 5   │ 1000  │ 1.0     │ 1.0     │ 0.355651       │ 0.355646      │\n",
       "│ 6   │ 1000  │ 1.0     │ 1.0     │ 0.353688       │ 0.353713      │\n",
       "│ 7   │ 1000  │ 1.0     │ 1.0     │ 0.354275       │ 0.354271      │\n",
       "│ 8   │ 1000  │ 1.0     │ 1.0     │ 0.35352        │ 0.353515      │\n",
       "│ 9   │ 1000  │ 1.0     │ 1.0     │ 0.355359       │ 0.355354      │\n",
       "│ 10  │ 1000  │ 1.0     │ 1.0     │ 0.354317       │ 0.354313      │\n",
       "⋮\n",
       "│ 60  │ 1000  │ 1.0     │ 1.0     │ 0.365244       │ 0.289373      │\n",
       "│ 61  │ 1000  │ 1.0     │ 1.0     │ 0.380857       │ 0.201719      │\n",
       "│ 62  │ 1000  │ 1.0     │ 1.0     │ 0.379281       │ 0.200338      │\n",
       "│ 63  │ 1000  │ 1.0     │ 1.0     │ 0.389525       │ 0.207868      │\n",
       "│ 64  │ 1000  │ 1.0     │ 1.0     │ 0.378481       │ 0.200824      │\n",
       "│ 65  │ 1000  │ 1.0     │ 1.0     │ 0.379165       │ 0.202081      │\n",
       "│ 66  │ 1000  │ 1.0     │ 1.0     │ 0.389372       │ 0.205274      │\n",
       "│ 67  │ 1000  │ 1.0     │ 1.0     │ 0.392371       │ 0.208864      │\n",
       "│ 68  │ 1000  │ 1.0     │ 1.0     │ 0.376881       │ 0.200799      │\n",
       "│ 69  │ 1000  │ 1.0     │ 1.0     │ 0.41078        │ 0.215289      │\n",
       "│ 70  │ 1000  │ 1.0     │ 1.0     │ 0.379045       │ 0.200622      │"
      ]
     },
     "execution_count": 186,
     "metadata": {},
     "output_type": "execute_result"
    }
   ],
   "source": [
    "function run_experiments(methods,c_x_min, c_x_max, c_y_min, c_y_max, image_size, threads, repetitions)\n",
    "    run(`make`)\n",
    "    \n",
    "    results = DataFrame(size = Int64[],\n",
    "                delta_x = Float64[],\n",
    "                delta_y = Float64[],\n",
    "                duration_clock = Float64[],\n",
    "                duration_mono = Float64[],\n",
    "                duration_sys = Float64[],\n",
    "                threads= Int64[],\n",
    "                method= String[])\n",
    "    \n",
    "    for method in methods\n",
    "            for t in 1:length(threads)\n",
    "                if (threads[t] <= 1 || method != \"seq\") \n",
    "                    for r in 1:repetitions\n",
    "                        append!(results,\n",
    "                            mandelbrot(method,c_x_min, c_x_max, c_y_min, c_y_max, image_size , threads[t]))\n",
    "                \n",
    "                    end\n",
    "                end\n",
    "            end\n",
    "        end\n",
    "    return results\n",
    "end\n",
    "\n",
    "results = run_experiments([\"seq\",\"pth\",\"omp\"],0, 1, 0, 1, 1000, [1,2],10)"
   ]
  },
  {
   "cell_type": "code",
   "execution_count": 182,
   "metadata": {},
   "outputs": [
    {
     "name": "stdout",
     "output_type": "stream",
     "text": [
      "3"
     ]
    }
   ],
   "source": [
    "t=[1,2,3]\n",
    "print(length(t))\n",
    "for i in t\n",
    "    if i>1==false\n",
    "        print(i)\n",
    " "
   ]
  },
  {
   "cell_type": "code",
   "execution_count": null,
   "metadata": {},
   "outputs": [],
   "source": [
    "function parse_results(results)\n",
    "    parsed_results=results|>\n",
    "                @groupby((_.threads,_.method)) |>\n",
    "                @map({threads_method = key(_),\n",
    "                repetitions=repetitions,\n",
    "                size = mean(_.size),\n",
    "                delta_x = mean(_.delta_x),\n",
    "                delta_y = mean(_.delta_y),\n",
    "                mean_duration_clock = mean(_.duration_clock),\n",
    "                mean_duration_mono = mean(_.duration_mono),\n",
    "                mean_duration_sys = mean(_.duration_sys),\n",
    "                ci_duration_clock = 1.96 * std(_.duration_clock),\n",
    "                ci_duration_mono = 1.96 * std(_.duration_mono),\n",
    "                ci_duration_sys = 1.96 * std(_.duration_sys)})|>\n",
    "                DataFrame\n",
    "    \n",
    "      final_results = DataFrame(threads= Int64[],\n",
    "                    method= String[],\n",
    "                    size = Int64[],\n",
    "                    delta_x = Float64[],\n",
    "                    delta_y = Float64[],\n",
    "                    mean_duration_clock = Float64[],\n",
    "                    mean_duration_mono = Float64[],\n",
    "                    mean_duration_sys = Float64[],\n",
    "                    ci_duration_clock = Float64[],\n",
    "                    ci_duration_mono = Float64[],\n",
    "                    ci_duration_sys = Float64[],\n",
    "                    repetitions = Int64[])\n",
    "    \n",
    "        for i in 1:length(parsed_results.size)\n",
    "            append!(final_results, DataFrame(size=parsed_results.size[i],\n",
    "                                        delta_x=parsed_results.delta_x[i],\n",
    "                                        delta_y=parsed_results.delta_y[i],\n",
    "                                        mean_duration_clock=parsed_results.mean_duration_clock[i],\n",
    "                                        mean_duration_mono=parsed_results.mean_duration_mono[i],\n",
    "                                        mean_duration_sys=parsed_results.mean_duration_sys[i],\n",
    "                                        ci_duration_clock=parsed_results.ci_duration_clock[i],\n",
    "                                        ci_duration_mono=parsed_results.ci_duration_mono[i],\n",
    "                                        ci_duration_sys=parsed_results.ci_duration_sys[i],\n",
    "                                        repetitions =parsed_results.repetitions[i],\n",
    "                                        threads = parsed_results.threads_method[i][1],\n",
    "                                        method = parsed_results.threads_method[i][2]))\n",
    "    \n",
    "        end\n",
    "    return final_results\n",
    "end\n",
    "parsed_results =parse_results(results)"
   ]
  },
  {
   "cell_type": "code",
   "execution_count": null,
   "metadata": {},
   "outputs": [],
   "source": [
    "parsed_results.threads_method[1][1]|>typeof"
   ]
  },
  {
   "cell_type": "code",
   "execution_count": null,
   "metadata": {},
   "outputs": [],
   "source": [
    "threads = [2 ^ x for x in 0:5]\n",
    "methods = [\"seq\",\"pth\",\"omp\"]\n",
    "repetitions=10\n",
    "results = run_experiments(methods,0, 1, 0, 1, 5000, threads, repetitions)\n",
    "parsed_results = parse_results(results)"
   ]
  },
  {
   "cell_type": "code",
   "execution_count": 160,
   "metadata": {},
   "outputs": [
    {
     "ename": "LoadError",
     "evalue": "syntax: extra token \"vamos\" after end of expression",
     "output_type": "error",
     "traceback": [
      "syntax: extra token \"vamos\" after end of expression",
      ""
     ]
    }
   ],
   "source": [
    "tambem vamos salvar como csv"
   ]
  },
  {
   "cell_type": "code",
   "execution_count": 41,
   "metadata": {},
   "outputs": [
    {
     "name": "stderr",
     "output_type": "stream",
     "text": [
      "┌ Info: Precompiling CSV [336ed68f-0bac-5ca0-87d4-7b16caf5d00b]\n",
      "└ @ Base loading.jl:1260\n"
     ]
    },
    {
     "data": {
      "text/plain": [
       "save_csv_results (generic function with 1 method)"
      ]
     },
     "execution_count": 41,
     "metadata": {},
     "output_type": "execute_result"
    }
   ],
   "source": [
    "using CSV\n",
    "function save_csv_results(data_frame)\n",
    "    CSV.write(\"./data_frame.csv\",data_frame,delim='\\t')\n",
    "end"
   ]
  },
  {
   "cell_type": "code",
   "execution_count": null,
   "metadata": {},
   "outputs": [],
   "source": [
    "e ler o csv para fazer graficos"
   ]
  },
  {
   "cell_type": "code",
   "execution_count": 42,
   "metadata": {},
   "outputs": [
    {
     "data": {
      "text/plain": [
       "read_csv_results (generic function with 1 method)"
      ]
     },
     "execution_count": 42,
     "metadata": {},
     "output_type": "execute_result"
    }
   ],
   "source": [
    "using CSV\n",
    "function read_csv_results()\n",
    "    df=CSV.read(\"./data_frame.csv\")\n",
    "    return df\n",
    "end"
   ]
  },
  {
   "cell_type": "code",
   "execution_count": 102,
   "metadata": {},
   "outputs": [
    {
     "data": {
      "text/plain": [
       "plot_results (generic function with 1 method)"
      ]
     },
     "execution_count": 102,
     "metadata": {},
     "output_type": "execute_result"
    }
   ],
   "source": [
    "pgfplotsx()\n",
    "\n",
    "function plot_results(x, y, target_label, series_label; hline = [], yerror = [], max_thread_power = 10)\n",
    "    if yerror != []\n",
    "        p = scatter(x,\n",
    "            y,\n",
    "            xaxis = :log2,\n",
    "            xlabel = \"Threads\",\n",
    "            xticks = [2 ^ x for x in 0:max_thread_power],\n",
    "            yerror = yerror,\n",
    "            alpha = 100,\n",
    "            labels = series_label,\n",
    "            legend = :topright)\n",
    "    else\n",
    "        p = scatter(x,\n",
    "            y,\n",
    "            xaxis = :log2,\n",
    "            xlabel = \"Threads\",\n",
    "            xticks = [2 ^ x for x in 0:max_thread_power],\n",
    "            alpha = 0.6,\n",
    "            labels = series_label,\n",
    "            legend = :topright)\n",
    "    end\n",
    "\n",
    "    if hline != []\n",
    "        plot!(x,\n",
    "            hline,\n",
    "            xaxis = :log2,\n",
    "            xlabel = \"Threads\",\n",
    "            xticks = [2 ^ x for x in 0:max_thread_power],\n",
    "            labels = target_label,\n",
    "            line = :dash,\n",
    "            width = 2.0)\n",
    "    end\n",
    "\n",
    "    return p\n",
    "end\n"
   ]
  },
  {
   "cell_type": "code",
   "execution_count": 101,
   "metadata": {},
   "outputs": [
    {
     "ename": "ErrorException",
     "evalue": "type EnumerableMap has no field threads",
     "output_type": "error",
     "traceback": [
      "type EnumerableMap has no field threads",
      "",
      "Stacktrace:",
      " [1] getproperty(::QueryOperators.EnumerableMap{NamedTuple{(:threads_method, :repetitions, :size, :delta_x, :delta_y, :mean_duration_clock, :mean_duration_mono, :mean_duration_sys, :ci_duration_clock, :ci_duration_mono, :ci_duration_sys),_A} where _A<:Tuple,QueryOperators.EnumerableIterable{Grouping{Array{Any,1},NamedTuple{(:size, :delta_x, :delta_y, :duration_clock, :duration_mono, :duration_sys, :threads, :method),Tuple{Int64,Float64,Float64,Float64,Float64,Float64,Int64,String}}},QueryOperators.EnumerableGroupBy{Grouping{Array{Any,1},NamedTuple{(:size, :delta_x, :delta_y, :duration_clock, :duration_mono, :duration_sys, :threads, :method),Tuple{Int64,Float64,Float64,Float64,Float64,Float64,Int64,String}}},Array{Any,1},NamedTuple{(:size, :delta_x, :delta_y, :duration_clock, :duration_mono, :duration_sys, :threads, :method),Tuple{Int64,Float64,Float64,Float64,Float64,Float64,Int64,String}},QueryOperators.EnumerableIterable{NamedTuple{(:size, :delta_x, :delta_y, :duration_clock, :duration_mono, :duration_sys, :threads, :method),Tuple{Int64,Float64,Float64,Float64,Float64,Float64,Int64,String}},Tables.DataValueRowIterator{NamedTuple{(:size, :delta_x, :delta_y, :duration_clock, :duration_mono, :duration_sys, :threads, :method),Tuple{Int64,Float64,Float64,Float64,Float64,Float64,Int64,String}},Tables.Schema{(:size, :delta_x, :delta_y, :duration_clock, :duration_mono, :duration_sys, :threads, :method),Tuple{Int64,Float64,Float64,Float64,Float64,Float64,Int64,String}},Tables.RowIterator{NamedTuple{(:size, :delta_x, :delta_y, :duration_clock, :duration_mono, :duration_sys, :threads, :method),Tuple{Array{Int64,1},Array{Float64,1},Array{Float64,1},Array{Float64,1},Array{Float64,1},Array{Float64,1},Array{Int64,1},Array{String,1}}}}}},var\"#336#341\",var\"#337#342\"}},var\"#339#344\"}, ::Symbol) at ./Base.jl:33",
      " [2] top-level scope at In[101]:1"
     ]
    }
   ],
   "source": [
    "plot_results(parsed_results.threads,\n",
    "    parsed_results.mean_duration_sys,\n",
    "    \"pi\",\n",
    "    \"Duration\",\n",
    "    max_thread_power = 6)"
   ]
  },
  {
   "cell_type": "code",
   "execution_count": null,
   "metadata": {},
   "outputs": [],
   "source": []
  },
  {
   "cell_type": "code",
   "execution_count": null,
   "metadata": {},
   "outputs": [],
   "source": []
  }
 ],
 "metadata": {
  "kernelspec": {
   "display_name": "Julia 1.4.1",
   "language": "julia",
   "name": "julia-1.4"
  },
  "language_info": {
   "file_extension": ".jl",
   "mimetype": "application/julia",
   "name": "julia",
   "version": "1.4.1"
  },
  "name": "Untitled.ipynb"
 },
 "nbformat": 4,
 "nbformat_minor": 4
}
