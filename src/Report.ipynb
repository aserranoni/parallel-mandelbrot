{
 "cells": [
  {
   "cell_type": "markdown",
   "metadata": {},
   "source": [
    "\n",
    "# EP1 de Programacao Paralela e distribuida - MAC5742\n",
    "\n"
   ]
  },
  {
   "cell_type": "markdown",
   "metadata": {},
   "source": [
    "| Nome | N° USP |\n",
    "|------|------|\n",
    "| Ariel Serranoni Soares da Silva| 7658024 |\n",
    "| Thiago Martinoni | 9793401 |\n"
   ]
  },
  {
   "cell_type": "markdown",
   "metadata": {},
   "source": [
    "## Resumo\n",
    "\n",
    "Em matemática, fractais são conjuntos são auto-similares. Intuitivamente, essa propriedade significa que, se $X$ é um conjunto\n",
    "auto-similar, então $X$ é formado por cópias identicas a si mesmo. Não raramente a representação gráfica (plotagem) de fractais\n",
    "\n",
    "Em particular, o conjunto de mandelbrot é um fractal que pode ser plotado facilmente utilizando apenas conceitos básicos de programação, como condicionais e laços.\n",
    "A implementação sequencial  é muito comum em disciplinas introdutórias de computação. Neste trabalho vamos além, implementaremos três versões deste algorítmo, a clássica sequencial, uma utilizando pthreads e uma terceira utilizando open mp. Os códigos em C e seus encontram-se disponíveis em bla. Aqui vamos analisar o desempenho de cada algorítmo afim de obter um parâmetro de comparação a respeito do desempenho dessas bibliotecas. \n",
    "\n",
    "## Implementações em C\n",
    "\n",
    "Temos três arquivos, cada um responsável por calcular o conjunto de mandelbrot utilizando um método diferente. \n",
    "Como o programa `mandelbrot_seq` serve como base para os outros dois, é natural que comentemos algumas das mudanças\n",
    "que fizemos na implementação do primeiro programa antes de continuarmos: \n",
    "\n",
    "#### Percorrendo vetores multidimensionais com um único laço\n",
    "\n",
    "Na implementação original que recebemos como base, a função `compute_mandelbrot()` operava com dois laços. Neste contexto,\n",
    "cada iteração do laço externo era responsável por uma linha da imagem. Portanto, para dividir o trabalho do algorítmo em unidades menores do que uma linha, seríamos obrigados a criar threads dentro de threads ou então partir para um novo \n",
    "paradigma de implementação do nosso programa. \n",
    "\n",
    "A mudança que fizemos foi considerar um único parâmetro `i`, desta vez percorrendo todos os `image_buffer_size` pixels da imagem. Sabendo o número `image_size` de pixels em cada linha, conseguimos descobrir a linha (`i/image_size`) e coluna (`i%image_size`) exatas de um pixel a partir de um único parâmetro. \n",
    "\n",
    "Vale notar que esse mesmo raciocínio pode ser generalizado para vetores com mais dimensões (tensores). Por exemplo, \n",
    "adicionando uma terceira dimensão, consegueríamos saber a \"altura\" a qual o índice `i` corresponde ao fazer o cálculo\n",
    "`i/image_size ^2`.\n",
    "\n",
    "Além disso, também é importante enxergar como esta mudança contribui para a paralelização do algorítmo. Como citamos acima,\n",
    "a divisão do trabalho em unidades tão pequenas quanto possível nos oferece uma flexibilidade maior ao alocar tarfas para cada\n",
    "thread.\n",
    "\n",
    "\n",
    "#### Recebendo mais opções pela linha de comando\n",
    "\n",
    "Além da mudança descrita anteriormente, também adicionamos um argumento extra `i_o` a ser recebido na inicialização do programa. Dessa forma, conseguimos mudar esta opção no programa sem alterar o código, contribuindo para a praticidade na realização do experimento.\n",
    "\n",
    "#### Cálculos de tempo \n",
    "\n",
    "Para medir o desempenho de um programa, é essensial que tenhamos uma maneira de medir o tempo de execução do mesmo. \n",
    "Para isso, aproveitamos a struct `timer_info` do miniEP3 e encapsulamos as medições nas funçoes `start_timer()` e `stop_timer()`. Também retornamos os resultados utilizando os mesmos métodos no miniEP3 através da função `print_results()`\n",
    "\n",
    "### Implementações em paralelo\n",
    "\n",
    "Nas implementações em paralelo, utilizamos a estratégia de divisão estática tanto no programa `mandelbrot_pth` quanto no `mandelbrot_omp` afim de obter uma comparação mais justa possível. Apesar disso, não sabemos exatamente o que OpenMp faz com\n",
    "o resto da divisão das unidades de trabalho pelo número de threads. Enquanto isso, na implementação utilizando PThreads adicionamos este excedente ao trabalho da primeira thread.\n",
    "\n"
   ]
  },
  {
   "cell_type": "markdown",
   "metadata": {},
   "source": [
    "## Infra estrutura Julia\n",
    "\n",
    "Para este relatório, também reaproveitamos muito da estrutura dos trabalhos anteriores. Utilizamos Jupyter notebooks e Julia na versão 1.3.0. Também usamos os mesmos pacotes do nosso último trabalho. A seguinte célula fará as instalações necessárias dos pacotes Julia:  "
   ]
  },
  {
   "cell_type": "code",
   "execution_count": 1,
   "metadata": {},
   "outputs": [
    {
     "name": "stdout",
     "output_type": "stream",
     "text": [
      "\u001b[32m\u001b[1m  Updating\u001b[22m\u001b[39m registry at `~/.julia/registries/General`\n",
      "\u001b[32m\u001b[1m  Updating\u001b[22m\u001b[39m git-repo `https://github.com/JuliaRegistries/General.git`\n",
      "\u001b[?25l\u001b[2K\u001b[?25h\u001b[32m\u001b[1m Resolving\u001b[22m\u001b[39m package versions...\n",
      "\u001b[32m\u001b[1m  Updating\u001b[22m\u001b[39m `/var/fasttmp/parallel-mandelbrot/src/Project.toml`\n",
      "\u001b[90m [no changes]\u001b[39m\n",
      "\u001b[32m\u001b[1m  Updating\u001b[22m\u001b[39m `/var/fasttmp/parallel-mandelbrot/src/Manifest.toml`\n",
      "\u001b[90m [no changes]\u001b[39m\n"
     ]
    }
   ],
   "source": [
    "]up"
   ]
  },
  {
   "cell_type": "markdown",
   "metadata": {},
   "source": [
    "Antes de iniciarmos os experimentos, vale conferir se tudo correu como esperado na instalação acima."
   ]
  },
  {
   "cell_type": "code",
   "execution_count": 2,
   "metadata": {},
   "outputs": [
    {
     "name": "stdout",
     "output_type": "stream",
     "text": [
      "\u001b[32m\u001b[1m    Status\u001b[22m\u001b[39m `/var/fasttmp/parallel-mandelbrot/src/Project.toml`\n",
      " \u001b[90m [336ed68f]\u001b[39m\u001b[37m CSV v0.6.2\u001b[39m\n",
      " \u001b[90m [a93c6f00]\u001b[39m\u001b[37m DataFrames v0.21.1\u001b[39m\n",
      " \u001b[90m [31c24e10]\u001b[39m\u001b[37m Distributions v0.23.3\u001b[39m\n",
      " \u001b[90m [7073ff75]\u001b[39m\u001b[37m IJulia v1.21.2\u001b[39m\n",
      " \u001b[90m [8314cec4]\u001b[39m\u001b[37m PGFPlotsX v1.2.6\u001b[39m\n",
      " \u001b[90m [1a8c2f83]\u001b[39m\u001b[37m Query v0.12.2\u001b[39m\n",
      " \u001b[90m [f3b207a7]\u001b[39m\u001b[37m StatsPlots v0.14.6\u001b[39m\n"
     ]
    }
   ],
   "source": [
    "] st"
   ]
  },
  {
   "cell_type": "markdown",
   "metadata": {},
   "source": [
    "### Experimentos e Coleta de Dados\n",
    "\n",
    "O Primeiro passo para analisarmos o tempo de execução de um determinado programa sempre foi e sempre será executar o programa\n",
    "em questão. A função abaixo é uma adaptação da função `measure_monte_carlo()` do mini EP3. Seu objetivo é justamente fazer uma chamada de um dos programas em C na linha de comando e salvar os dados que serão relevantes para nossa análise.\n"
   ]
  },
  {
   "cell_type": "code",
   "execution_count": 3,
   "metadata": {},
   "outputs": [
    {
     "data": {
      "text/plain": [
       "mandelbrot (generic function with 2 methods)"
      ]
     },
     "execution_count": 3,
     "metadata": {},
     "output_type": "execute_result"
    }
   ],
   "source": [
    "using DataFrames, Query, StatsPlots, Statistics\n",
    "\n",
    "function mandelbrot(method, region, image_size, i_o, threads=1)\n",
    "    a=region[2][1]\n",
    "    b=region[2][2]\n",
    "    c=region[2][3]\n",
    "    d=region[2][4]\n",
    "    results = parse.(Float64,\n",
    "        split(chomp(read(`./mandelbrot_$method $a  $b $c $d $image_size $i_o $threads`, String)), \", \"))\n",
    "        \n",
    "    return DataFrame(size = image_size,\n",
    "                region=region[1],\n",
    "                delta_x = region[2][2] - region[2][1],\n",
    "                delta_y = region[2][4] - region[2][3],\n",
    "                duration_clock = results[1],\n",
    "                duration_mono = results[2],\n",
    "                duration_sys = results[3],\n",
    "                threads=threads,\n",
    "                method=method,\n",
    "                i_o=i_o)\n",
    "    end"
   ]
  },
  {
   "cell_type": "markdown",
   "metadata": {},
   "source": [
    "Para que nossa análise tenha algum valor do ponto de vista estatístico, precisamos nos basear em uma amostra consideravelmente\n",
    "grande. A função a seguir, também adaptada do miniEP3 tem o intuito de automatizar \n",
    "repetidas chamadas dos programas em C, feitas pela função acima. A função `run_experiments()` a seguir nos permite variar\n",
    "todos os parâmetros das chamadas feitas pela função acima e estabelecer um número de repetições. Então as chamadas são executadas, os resultados coletados e retornados na forma de um `DataFrame`.\n"
   ]
  },
  {
   "cell_type": "code",
   "execution_count": 4,
   "metadata": {},
   "outputs": [
    {
     "data": {
      "text/plain": [
       "run_experiments (generic function with 1 method)"
      ]
     },
     "execution_count": 4,
     "metadata": {},
     "output_type": "execute_result"
    }
   ],
   "source": [
    "function run_experiments(methods, regions ,image_size, threads, i_o, repetitions)\n",
    "    run(`make`)\n",
    "    \n",
    "    results = DataFrame(size = Int64[],\n",
    "                region = String[],\n",
    "                delta_x = Float64[],\n",
    "                delta_y = Float64[],\n",
    "                duration_clock = Float64[],\n",
    "                duration_mono = Float64[],\n",
    "                duration_sys = Float64[],\n",
    "                threads= Int64[],\n",
    "                method= String[],\n",
    "                i_o = Int64[])\n",
    "        \n",
    "    for tuple in regions\n",
    "        for method in methods\n",
    "            for size in image_size\n",
    "                for t in 1:length(threads)\n",
    "                    if ( threads[t] <= 1  || method != \"seq\") \n",
    "                            if(method == \"seq\")\n",
    "                                for alt in i_o\n",
    "                                    for r in 1:repetitions\n",
    "                                        append!(results, mandelbrot(method, tuple, size, alt, threads[t]))\n",
    "                \n",
    "                                    end\n",
    "                                end\n",
    "                            end\n",
    "                            else\n",
    "                                for r in 1:repetitions\n",
    "                                        append!(results, mandelbrot(method, tuple, size, 0, threads[t]))\n",
    "                                end\n",
    "                            end\n",
    "                        end\n",
    "                    end\n",
    "                end\n",
    "            end\n",
    "\n",
    "    return results\n",
    "end"
   ]
  },
  {
   "cell_type": "code",
   "execution_count": 5,
   "metadata": {},
   "outputs": [
    {
     "data": {
      "text/plain": [
       "parse_results (generic function with 1 method)"
      ]
     },
     "execution_count": 5,
     "metadata": {},
     "output_type": "execute_result"
    }
   ],
   "source": [
    "function parse_results(results)\n",
    "  parsed_results=results|>\n",
    "                @groupby((_.threads,_.method,_.region, _.size)) |>\n",
    "                @map({threads_method = key(_),\n",
    "                repetitions=repetitions,\n",
    "                i_o= i_o,\n",
    "                delta_x = mean(_.delta_x),\n",
    "                delta_y = mean(_.delta_y),\n",
    "                mean_duration_clock = mean(_.duration_clock),\n",
    "                mean_duration_mono = mean(_.duration_mono),\n",
    "                mean_duration_sys = mean(_.duration_sys),\n",
    "                ci_duration_clock = 1.96 * std(_.duration_clock),\n",
    "                ci_duration_mono = 1.96 * std(_.duration_mono),\n",
    "                ci_duration_sys = 1.96 * std(_.duration_sys)})|>\n",
    "                DataFrame\n",
    "    \n",
    "      final_results = DataFrame(i_o=Int64[],\n",
    "                    threads= Int64[],\n",
    "                    method= String[],\n",
    "                    region = String[],\n",
    "                    size = Int64[],\n",
    "                    delta_x = Float64[],\n",
    "                    delta_y = Float64[],\n",
    "                    mean_duration_clock = Float64[],\n",
    "                    mean_duration_mono = Float64[],\n",
    "                    mean_duration_sys = Float64[],\n",
    "                    ci_duration_clock = Float64[],\n",
    "                    ci_duration_mono = Float64[],\n",
    "                    ci_duration_sys = Float64[],\n",
    "                    repetitions = Int64[])\n",
    "    \n",
    "        for i in 1:length(parsed_results.threads_method)\n",
    "            \n",
    "            append!(final_results, DataFrame(size=parsed_results.threads_method[i][4],\n",
    "                                        delta_x=parsed_results.delta_x[i],\n",
    "                                         delta_y=parsed_results.delta_y[i],\n",
    "                                        mean_duration_clock=parsed_results.mean_duration_clock[i],\n",
    "                                        mean_duration_mono=parsed_results.mean_duration_mono[i],\n",
    "                                        mean_duration_sys=parsed_results.mean_duration_sys[i],\n",
    "                                        ci_duration_clock=parsed_results.ci_duration_clock[i],\n",
    "                                        ci_duration_mono=parsed_results.ci_duration_mono[i],\n",
    "                                        ci_duration_sys=parsed_results.ci_duration_sys[i],\n",
    "                                        repetitions =parsed_results.repetitions[i],\n",
    "                                        threads = parsed_results.threads_method[i][1],\n",
    "                                        method = parsed_results.threads_method[i][2],\n",
    "                                        region = parsed_results.threads_method[i][3],\n",
    "                                        i_o = parsed_results.i_o[i]))\n",
    "    \n",
    "        end\n",
    "    return final_results\n",
    "end"
   ]
  },
  {
   "cell_type": "markdown",
   "metadata": {},
   "source": [
    "Antes de iniciar os experimentos, vamos ajustar parâmetros para que os experimentos ocorram como proposto no enunciado.\n",
    "\n",
    "\n",
    "|               \t| Sequencial         \t| Pthreads & OpenMp  \t| \n",
    "|----------------\t|--------------------\t|--------------------\t|\n",
    "| I/O e Alocação \t| Com e Sem          \t| Sem                \t|\n",
    "| N° de Threads  \t| 1                  \t| $2^0\\ldots 2^5$    \t|\n",
    "| Lado da Imagem \t| $2^0\\ldots 2^{13}$ \t| $2^0\\ldots 2^{13}$ \t|\n",
    "| Região         \t| Todas              \t| Todas              \t|\n"
   ]
  },
  {
   "cell_type": "code",
   "execution_count": 6,
   "metadata": {},
   "outputs": [
    {
     "data": {
      "text/plain": [
       "10"
      ]
     },
     "execution_count": 6,
     "metadata": {},
     "output_type": "execute_result"
    }
   ],
   "source": [
    "sizes=[2^x for x in 4:13]\n",
    "threads = [2 ^ x for x in 0:5]\n",
    "methods = [\"pth\",\"omp\",\"seq\"]\n",
    "i_o=[0,1]\n",
    "regions = Dict(\"Full Picture\" => (-2.5,1.5,-2.0,2.0),\n",
    "                \"Seahorse Valley\" => (-0.8,-0.7,0.05,0.15),\n",
    "                \"Elephant Valley\" => (0.175,0.375,-0.1,0.1),\n",
    "                \"Triple Spiral Valley\" =>(-0.188,-0.012,0.554,0.754))\n",
    "repetitions=10"
   ]
  },
  {
   "cell_type": "markdown",
   "metadata": {},
   "source": [
    "Como a função run_experiments pode fazer muitas chamadas dos programas em C, salvar os resultados em um arquivo pode ser uma forma\n",
    "de agilizar o fluxo de trabalho. No nosso caso, precisamos executar umas 1200 chamadas na linha de comando. Isso torna essencial\n",
    "salvar os resultados. As seguintes funções são reaproveitadas do miniEP3 e nos ajudam com esse trabalho."
   ]
  },
  {
   "cell_type": "code",
   "execution_count": 7,
   "metadata": {},
   "outputs": [
    {
     "name": "stdout",
     "output_type": "stream",
     "text": [
      "make: Nothing to be done for 'all'.\n"
     ]
    },
    {
     "data": {
      "text/plain": [
       "\"./data_frame.csv\""
      ]
     },
     "execution_count": 7,
     "metadata": {},
     "output_type": "execute_result"
    }
   ],
   "source": [
    "using CSV\n",
    "\n",
    "function save_csv_results(data_frame)\n",
    "    CSV.write(\"./data_frame.csv\",data_frame,delim='\\t')\n",
    "end\n",
    "\n",
    "function read_csv_results()\n",
    "    df=CSV.read(\"./data_frame.csv\")\n",
    "    return df\n",
    "end\n",
    "results = run_experiments(methods, regions, sizes, threads, i_o, repetitions)\n",
    "parsed_results = parse_results(results)\n",
    "save_csv_results(parsed_results)"
   ]
  },
  {
   "cell_type": "code",
   "execution_count": 11,
   "metadata": {},
   "outputs": [
    {
     "data": {
      "text/html": [
       "<table class=\"data-frame\"><thead><tr><th></th><th>i_o</th><th>threads</th><th>method</th><th>region</th><th>size</th><th>delta_x</th><th>delta_y</th><th>mean_duration_clock</th></tr><tr><th></th><th>Int64</th><th>Int64</th><th>String</th><th>String</th><th>Int64</th><th>Float64</th><th>Float64</th><th>Float64</th></tr></thead><tbody><p>480 rows × 14 columns (omitted printing of 6 columns)</p><tr><th>1</th><td>0</td><td>1</td><td>seq</td><td>Full Picture</td><td>16</td><td>4.0</td><td>4.0</td><td>0.00023515</td></tr><tr><th>2</th><td>1</td><td>1</td><td>seq</td><td>Full Picture</td><td>16</td><td>4.0</td><td>4.0</td><td>0.00023515</td></tr><tr><th>3</th><td>0</td><td>2</td><td>seq</td><td>Full Picture</td><td>16</td><td>4.0</td><td>4.0</td><td>0.0001096</td></tr><tr><th>4</th><td>1</td><td>2</td><td>seq</td><td>Full Picture</td><td>16</td><td>4.0</td><td>4.0</td><td>0.0001096</td></tr><tr><th>5</th><td>0</td><td>4</td><td>seq</td><td>Full Picture</td><td>16</td><td>4.0</td><td>4.0</td><td>0.0001093</td></tr><tr><th>6</th><td>1</td><td>4</td><td>seq</td><td>Full Picture</td><td>16</td><td>4.0</td><td>4.0</td><td>0.0001093</td></tr><tr><th>7</th><td>0</td><td>8</td><td>seq</td><td>Full Picture</td><td>16</td><td>4.0</td><td>4.0</td><td>0.0001123</td></tr><tr><th>8</th><td>1</td><td>8</td><td>seq</td><td>Full Picture</td><td>16</td><td>4.0</td><td>4.0</td><td>0.0001123</td></tr><tr><th>9</th><td>0</td><td>16</td><td>seq</td><td>Full Picture</td><td>16</td><td>4.0</td><td>4.0</td><td>0.0001105</td></tr><tr><th>10</th><td>1</td><td>16</td><td>seq</td><td>Full Picture</td><td>16</td><td>4.0</td><td>4.0</td><td>0.0001105</td></tr><tr><th>11</th><td>0</td><td>32</td><td>seq</td><td>Full Picture</td><td>16</td><td>4.0</td><td>4.0</td><td>0.0001117</td></tr><tr><th>12</th><td>1</td><td>32</td><td>seq</td><td>Full Picture</td><td>16</td><td>4.0</td><td>4.0</td><td>0.0001117</td></tr><tr><th>13</th><td>0</td><td>1</td><td>seq</td><td>Full Picture</td><td>32</td><td>4.0</td><td>4.0</td><td>0.00056365</td></tr><tr><th>14</th><td>1</td><td>1</td><td>seq</td><td>Full Picture</td><td>32</td><td>4.0</td><td>4.0</td><td>0.00056365</td></tr><tr><th>15</th><td>0</td><td>2</td><td>seq</td><td>Full Picture</td><td>32</td><td>4.0</td><td>4.0</td><td>0.0003974</td></tr><tr><th>16</th><td>1</td><td>2</td><td>seq</td><td>Full Picture</td><td>32</td><td>4.0</td><td>4.0</td><td>0.0003974</td></tr><tr><th>17</th><td>0</td><td>4</td><td>seq</td><td>Full Picture</td><td>32</td><td>4.0</td><td>4.0</td><td>0.0003944</td></tr><tr><th>18</th><td>1</td><td>4</td><td>seq</td><td>Full Picture</td><td>32</td><td>4.0</td><td>4.0</td><td>0.0003944</td></tr><tr><th>19</th><td>0</td><td>8</td><td>seq</td><td>Full Picture</td><td>32</td><td>4.0</td><td>4.0</td><td>0.0003876</td></tr><tr><th>20</th><td>1</td><td>8</td><td>seq</td><td>Full Picture</td><td>32</td><td>4.0</td><td>4.0</td><td>0.0003876</td></tr><tr><th>21</th><td>0</td><td>16</td><td>seq</td><td>Full Picture</td><td>32</td><td>4.0</td><td>4.0</td><td>0.0003947</td></tr><tr><th>22</th><td>1</td><td>16</td><td>seq</td><td>Full Picture</td><td>32</td><td>4.0</td><td>4.0</td><td>0.0003947</td></tr><tr><th>23</th><td>0</td><td>32</td><td>seq</td><td>Full Picture</td><td>32</td><td>4.0</td><td>4.0</td><td>0.0003952</td></tr><tr><th>24</th><td>1</td><td>32</td><td>seq</td><td>Full Picture</td><td>32</td><td>4.0</td><td>4.0</td><td>0.0003952</td></tr><tr><th>25</th><td>0</td><td>1</td><td>seq</td><td>Full Picture</td><td>64</td><td>4.0</td><td>4.0</td><td>0.00189705</td></tr><tr><th>26</th><td>1</td><td>1</td><td>seq</td><td>Full Picture</td><td>64</td><td>4.0</td><td>4.0</td><td>0.00189705</td></tr><tr><th>27</th><td>0</td><td>2</td><td>seq</td><td>Full Picture</td><td>64</td><td>4.0</td><td>4.0</td><td>0.0015001</td></tr><tr><th>28</th><td>1</td><td>2</td><td>seq</td><td>Full Picture</td><td>64</td><td>4.0</td><td>4.0</td><td>0.0015001</td></tr><tr><th>29</th><td>0</td><td>4</td><td>seq</td><td>Full Picture</td><td>64</td><td>4.0</td><td>4.0</td><td>0.001494</td></tr><tr><th>30</th><td>1</td><td>4</td><td>seq</td><td>Full Picture</td><td>64</td><td>4.0</td><td>4.0</td><td>0.001494</td></tr><tr><th>&vellip;</th><td>&vellip;</td><td>&vellip;</td><td>&vellip;</td><td>&vellip;</td><td>&vellip;</td><td>&vellip;</td><td>&vellip;</td><td>&vellip;</td></tr></tbody></table>"
      ],
      "text/latex": [
       "\\begin{tabular}{r|ccccccccc}\n",
       "\t& i\\_o & threads & method & region & size & delta\\_x & delta\\_y & mean\\_duration\\_clock & \\\\\n",
       "\t\\hline\n",
       "\t& Int64 & Int64 & String & String & Int64 & Float64 & Float64 & Float64 & \\\\\n",
       "\t\\hline\n",
       "\t1 & 0 & 1 & seq & Full Picture & 16 & 4.0 & 4.0 & 0.00023515 & $\\dots$ \\\\\n",
       "\t2 & 1 & 1 & seq & Full Picture & 16 & 4.0 & 4.0 & 0.00023515 & $\\dots$ \\\\\n",
       "\t3 & 0 & 2 & seq & Full Picture & 16 & 4.0 & 4.0 & 0.0001096 & $\\dots$ \\\\\n",
       "\t4 & 1 & 2 & seq & Full Picture & 16 & 4.0 & 4.0 & 0.0001096 & $\\dots$ \\\\\n",
       "\t5 & 0 & 4 & seq & Full Picture & 16 & 4.0 & 4.0 & 0.0001093 & $\\dots$ \\\\\n",
       "\t6 & 1 & 4 & seq & Full Picture & 16 & 4.0 & 4.0 & 0.0001093 & $\\dots$ \\\\\n",
       "\t7 & 0 & 8 & seq & Full Picture & 16 & 4.0 & 4.0 & 0.0001123 & $\\dots$ \\\\\n",
       "\t8 & 1 & 8 & seq & Full Picture & 16 & 4.0 & 4.0 & 0.0001123 & $\\dots$ \\\\\n",
       "\t9 & 0 & 16 & seq & Full Picture & 16 & 4.0 & 4.0 & 0.0001105 & $\\dots$ \\\\\n",
       "\t10 & 1 & 16 & seq & Full Picture & 16 & 4.0 & 4.0 & 0.0001105 & $\\dots$ \\\\\n",
       "\t11 & 0 & 32 & seq & Full Picture & 16 & 4.0 & 4.0 & 0.0001117 & $\\dots$ \\\\\n",
       "\t12 & 1 & 32 & seq & Full Picture & 16 & 4.0 & 4.0 & 0.0001117 & $\\dots$ \\\\\n",
       "\t13 & 0 & 1 & seq & Full Picture & 32 & 4.0 & 4.0 & 0.00056365 & $\\dots$ \\\\\n",
       "\t14 & 1 & 1 & seq & Full Picture & 32 & 4.0 & 4.0 & 0.00056365 & $\\dots$ \\\\\n",
       "\t15 & 0 & 2 & seq & Full Picture & 32 & 4.0 & 4.0 & 0.0003974 & $\\dots$ \\\\\n",
       "\t16 & 1 & 2 & seq & Full Picture & 32 & 4.0 & 4.0 & 0.0003974 & $\\dots$ \\\\\n",
       "\t17 & 0 & 4 & seq & Full Picture & 32 & 4.0 & 4.0 & 0.0003944 & $\\dots$ \\\\\n",
       "\t18 & 1 & 4 & seq & Full Picture & 32 & 4.0 & 4.0 & 0.0003944 & $\\dots$ \\\\\n",
       "\t19 & 0 & 8 & seq & Full Picture & 32 & 4.0 & 4.0 & 0.0003876 & $\\dots$ \\\\\n",
       "\t20 & 1 & 8 & seq & Full Picture & 32 & 4.0 & 4.0 & 0.0003876 & $\\dots$ \\\\\n",
       "\t21 & 0 & 16 & seq & Full Picture & 32 & 4.0 & 4.0 & 0.0003947 & $\\dots$ \\\\\n",
       "\t22 & 1 & 16 & seq & Full Picture & 32 & 4.0 & 4.0 & 0.0003947 & $\\dots$ \\\\\n",
       "\t23 & 0 & 32 & seq & Full Picture & 32 & 4.0 & 4.0 & 0.0003952 & $\\dots$ \\\\\n",
       "\t24 & 1 & 32 & seq & Full Picture & 32 & 4.0 & 4.0 & 0.0003952 & $\\dots$ \\\\\n",
       "\t25 & 0 & 1 & seq & Full Picture & 64 & 4.0 & 4.0 & 0.00189705 & $\\dots$ \\\\\n",
       "\t26 & 1 & 1 & seq & Full Picture & 64 & 4.0 & 4.0 & 0.00189705 & $\\dots$ \\\\\n",
       "\t27 & 0 & 2 & seq & Full Picture & 64 & 4.0 & 4.0 & 0.0015001 & $\\dots$ \\\\\n",
       "\t28 & 1 & 2 & seq & Full Picture & 64 & 4.0 & 4.0 & 0.0015001 & $\\dots$ \\\\\n",
       "\t29 & 0 & 4 & seq & Full Picture & 64 & 4.0 & 4.0 & 0.001494 & $\\dots$ \\\\\n",
       "\t30 & 1 & 4 & seq & Full Picture & 64 & 4.0 & 4.0 & 0.001494 & $\\dots$ \\\\\n",
       "\t$\\dots$ & $\\dots$ & $\\dots$ & $\\dots$ & $\\dots$ & $\\dots$ & $\\dots$ & $\\dots$ & $\\dots$ &  \\\\\n",
       "\\end{tabular}\n"
      ],
      "text/plain": [
       "480×14 DataFrame. Omitted printing of 8 columns\n",
       "│ Row │ i_o   │ threads │ method │ region               │ size  │ delta_x │\n",
       "│     │ \u001b[90mInt64\u001b[39m │ \u001b[90mInt64\u001b[39m   │ \u001b[90mString\u001b[39m │ \u001b[90mString\u001b[39m               │ \u001b[90mInt64\u001b[39m │ \u001b[90mFloat64\u001b[39m │\n",
       "├─────┼───────┼─────────┼────────┼──────────────────────┼───────┼─────────┤\n",
       "│ 1   │ 0     │ 1       │ seq    │ Full Picture         │ 16    │ 4.0     │\n",
       "│ 2   │ 1     │ 1       │ seq    │ Full Picture         │ 16    │ 4.0     │\n",
       "│ 3   │ 0     │ 2       │ seq    │ Full Picture         │ 16    │ 4.0     │\n",
       "│ 4   │ 1     │ 2       │ seq    │ Full Picture         │ 16    │ 4.0     │\n",
       "│ 5   │ 0     │ 4       │ seq    │ Full Picture         │ 16    │ 4.0     │\n",
       "│ 6   │ 1     │ 4       │ seq    │ Full Picture         │ 16    │ 4.0     │\n",
       "│ 7   │ 0     │ 8       │ seq    │ Full Picture         │ 16    │ 4.0     │\n",
       "│ 8   │ 1     │ 8       │ seq    │ Full Picture         │ 16    │ 4.0     │\n",
       "│ 9   │ 0     │ 16      │ seq    │ Full Picture         │ 16    │ 4.0     │\n",
       "│ 10  │ 1     │ 16      │ seq    │ Full Picture         │ 16    │ 4.0     │\n",
       "⋮\n",
       "│ 470 │ 1     │ 1       │ seq    │ Triple Spiral Valley │ 8192  │ 0.176   │\n",
       "│ 471 │ 0     │ 2       │ seq    │ Triple Spiral Valley │ 8192  │ 0.176   │\n",
       "│ 472 │ 1     │ 2       │ seq    │ Triple Spiral Valley │ 8192  │ 0.176   │\n",
       "│ 473 │ 0     │ 4       │ seq    │ Triple Spiral Valley │ 8192  │ 0.176   │\n",
       "│ 474 │ 1     │ 4       │ seq    │ Triple Spiral Valley │ 8192  │ 0.176   │\n",
       "│ 475 │ 0     │ 8       │ seq    │ Triple Spiral Valley │ 8192  │ 0.176   │\n",
       "│ 476 │ 1     │ 8       │ seq    │ Triple Spiral Valley │ 8192  │ 0.176   │\n",
       "│ 477 │ 0     │ 16      │ seq    │ Triple Spiral Valley │ 8192  │ 0.176   │\n",
       "│ 478 │ 1     │ 16      │ seq    │ Triple Spiral Valley │ 8192  │ 0.176   │\n",
       "│ 479 │ 0     │ 32      │ seq    │ Triple Spiral Valley │ 8192  │ 0.176   │\n",
       "│ 480 │ 1     │ 32      │ seq    │ Triple Spiral Valley │ 8192  │ 0.176   │"
      ]
     },
     "execution_count": 11,
     "metadata": {},
     "output_type": "execute_result"
    }
   ],
   "source": [
    "parsed_results"
   ]
  },
  {
   "cell_type": "markdown",
   "metadata": {},
   "source": [
    "### Vizualização e Análise dos Resultados\n",
    "\n",
    "A função a seguir será de grande valia para simplificar a geração de gráficos"
   ]
  },
  {
   "cell_type": "code",
   "execution_count": 13,
   "metadata": {},
   "outputs": [
    {
     "data": {
      "text/plain": [
       "plot_results (generic function with 4 methods)"
      ]
     },
     "execution_count": 13,
     "metadata": {},
     "output_type": "execute_result"
    }
   ],
   "source": [
    "pgfplotsx()\n",
    "\n",
    "function plot_results(x, y, group, target_label, series_label, hline = [], yerror = [], max_thread_power = 10)\n",
    "    if yerror != []\n",
    "        s = scatter(x,\n",
    "            y,\n",
    "            xaxis = :log2,\n",
    "            group=group,\n",
    "            xlabel = \"Threads\",\n",
    "            xticks = [2 ^ x for x in 0:max_thread_power],\n",
    "            yerror = yerror,\n",
    "            alpha = 100,\n",
    "            labels = series_label,\n",
    "            legend = :topright)\n",
    "    else\n",
    "        p = scatter(x,\n",
    "            y,\n",
    "            ,\n",
    "            group=group,\n",
    "            xlabel = \"Threads\",\n",
    "            xticks = [2 ^ x for x in 0:max_thread_power],\n",
    "            alpha = 0.6,\n",
    "            labels = series_label,\n",
    "            legend = :topright)\n",
    "    end\n",
    "\n",
    "    if hline != []\n",
    "        plot!(x,\n",
    "            hline,\n",
    "            xaxis = :log2,\n",
    "            xlabel = \"Threads\",\n",
    "            xticks = [2 ^ x for x in 0:max_thread_power],\n",
    "            labels = target_label,\n",
    "            line = :dash,\n",
    "            width = 2.0)\n",
    "    end\n",
    "\n",
    "    return p\n",
    "end"
   ]
  },
  {
   "cell_type": "code",
   "execution_count": 24,
   "metadata": {},
   "outputs": [
    {
     "data": {
      "text/html": [
       "<table class=\"data-frame\"><thead><tr><th></th><th>i_o</th><th>threads</th><th>method</th><th>region</th><th>size</th><th>delta_x</th><th>delta_y</th><th>mean_duration_clock</th></tr><tr><th></th><th>Int64</th><th>Int64</th><th>String</th><th>String</th><th>Int64</th><th>Float64</th><th>Float64</th><th>Float64</th></tr></thead><tbody><p>480 rows × 14 columns (omitted printing of 6 columns)</p><tr><th>1</th><td>0</td><td>1</td><td>seq</td><td>Full Picture</td><td>16</td><td>4.0</td><td>4.0</td><td>0.00023515</td></tr><tr><th>2</th><td>1</td><td>1</td><td>seq</td><td>Full Picture</td><td>16</td><td>4.0</td><td>4.0</td><td>0.00023515</td></tr><tr><th>3</th><td>0</td><td>2</td><td>seq</td><td>Full Picture</td><td>16</td><td>4.0</td><td>4.0</td><td>0.0001096</td></tr><tr><th>4</th><td>1</td><td>2</td><td>seq</td><td>Full Picture</td><td>16</td><td>4.0</td><td>4.0</td><td>0.0001096</td></tr><tr><th>5</th><td>0</td><td>4</td><td>seq</td><td>Full Picture</td><td>16</td><td>4.0</td><td>4.0</td><td>0.0001093</td></tr><tr><th>6</th><td>1</td><td>4</td><td>seq</td><td>Full Picture</td><td>16</td><td>4.0</td><td>4.0</td><td>0.0001093</td></tr><tr><th>7</th><td>0</td><td>8</td><td>seq</td><td>Full Picture</td><td>16</td><td>4.0</td><td>4.0</td><td>0.0001123</td></tr><tr><th>8</th><td>1</td><td>8</td><td>seq</td><td>Full Picture</td><td>16</td><td>4.0</td><td>4.0</td><td>0.0001123</td></tr><tr><th>9</th><td>0</td><td>16</td><td>seq</td><td>Full Picture</td><td>16</td><td>4.0</td><td>4.0</td><td>0.0001105</td></tr><tr><th>10</th><td>1</td><td>16</td><td>seq</td><td>Full Picture</td><td>16</td><td>4.0</td><td>4.0</td><td>0.0001105</td></tr><tr><th>11</th><td>0</td><td>32</td><td>seq</td><td>Full Picture</td><td>16</td><td>4.0</td><td>4.0</td><td>0.0001117</td></tr><tr><th>12</th><td>1</td><td>32</td><td>seq</td><td>Full Picture</td><td>16</td><td>4.0</td><td>4.0</td><td>0.0001117</td></tr><tr><th>13</th><td>0</td><td>1</td><td>seq</td><td>Full Picture</td><td>32</td><td>4.0</td><td>4.0</td><td>0.00056365</td></tr><tr><th>14</th><td>1</td><td>1</td><td>seq</td><td>Full Picture</td><td>32</td><td>4.0</td><td>4.0</td><td>0.00056365</td></tr><tr><th>15</th><td>0</td><td>2</td><td>seq</td><td>Full Picture</td><td>32</td><td>4.0</td><td>4.0</td><td>0.0003974</td></tr><tr><th>16</th><td>1</td><td>2</td><td>seq</td><td>Full Picture</td><td>32</td><td>4.0</td><td>4.0</td><td>0.0003974</td></tr><tr><th>17</th><td>0</td><td>4</td><td>seq</td><td>Full Picture</td><td>32</td><td>4.0</td><td>4.0</td><td>0.0003944</td></tr><tr><th>18</th><td>1</td><td>4</td><td>seq</td><td>Full Picture</td><td>32</td><td>4.0</td><td>4.0</td><td>0.0003944</td></tr><tr><th>19</th><td>0</td><td>8</td><td>seq</td><td>Full Picture</td><td>32</td><td>4.0</td><td>4.0</td><td>0.0003876</td></tr><tr><th>20</th><td>1</td><td>8</td><td>seq</td><td>Full Picture</td><td>32</td><td>4.0</td><td>4.0</td><td>0.0003876</td></tr><tr><th>21</th><td>0</td><td>16</td><td>seq</td><td>Full Picture</td><td>32</td><td>4.0</td><td>4.0</td><td>0.0003947</td></tr><tr><th>22</th><td>1</td><td>16</td><td>seq</td><td>Full Picture</td><td>32</td><td>4.0</td><td>4.0</td><td>0.0003947</td></tr><tr><th>23</th><td>0</td><td>32</td><td>seq</td><td>Full Picture</td><td>32</td><td>4.0</td><td>4.0</td><td>0.0003952</td></tr><tr><th>24</th><td>1</td><td>32</td><td>seq</td><td>Full Picture</td><td>32</td><td>4.0</td><td>4.0</td><td>0.0003952</td></tr><tr><th>25</th><td>0</td><td>1</td><td>seq</td><td>Full Picture</td><td>64</td><td>4.0</td><td>4.0</td><td>0.00189705</td></tr><tr><th>26</th><td>1</td><td>1</td><td>seq</td><td>Full Picture</td><td>64</td><td>4.0</td><td>4.0</td><td>0.00189705</td></tr><tr><th>27</th><td>0</td><td>2</td><td>seq</td><td>Full Picture</td><td>64</td><td>4.0</td><td>4.0</td><td>0.0015001</td></tr><tr><th>28</th><td>1</td><td>2</td><td>seq</td><td>Full Picture</td><td>64</td><td>4.0</td><td>4.0</td><td>0.0015001</td></tr><tr><th>29</th><td>0</td><td>4</td><td>seq</td><td>Full Picture</td><td>64</td><td>4.0</td><td>4.0</td><td>0.001494</td></tr><tr><th>30</th><td>1</td><td>4</td><td>seq</td><td>Full Picture</td><td>64</td><td>4.0</td><td>4.0</td><td>0.001494</td></tr><tr><th>&vellip;</th><td>&vellip;</td><td>&vellip;</td><td>&vellip;</td><td>&vellip;</td><td>&vellip;</td><td>&vellip;</td><td>&vellip;</td><td>&vellip;</td></tr></tbody></table>"
      ],
      "text/latex": [
       "\\begin{tabular}{r|ccccccccc}\n",
       "\t& i\\_o & threads & method & region & size & delta\\_x & delta\\_y & mean\\_duration\\_clock & \\\\\n",
       "\t\\hline\n",
       "\t& Int64 & Int64 & String & String & Int64 & Float64 & Float64 & Float64 & \\\\\n",
       "\t\\hline\n",
       "\t1 & 0 & 1 & seq & Full Picture & 16 & 4.0 & 4.0 & 0.00023515 & $\\dots$ \\\\\n",
       "\t2 & 1 & 1 & seq & Full Picture & 16 & 4.0 & 4.0 & 0.00023515 & $\\dots$ \\\\\n",
       "\t3 & 0 & 2 & seq & Full Picture & 16 & 4.0 & 4.0 & 0.0001096 & $\\dots$ \\\\\n",
       "\t4 & 1 & 2 & seq & Full Picture & 16 & 4.0 & 4.0 & 0.0001096 & $\\dots$ \\\\\n",
       "\t5 & 0 & 4 & seq & Full Picture & 16 & 4.0 & 4.0 & 0.0001093 & $\\dots$ \\\\\n",
       "\t6 & 1 & 4 & seq & Full Picture & 16 & 4.0 & 4.0 & 0.0001093 & $\\dots$ \\\\\n",
       "\t7 & 0 & 8 & seq & Full Picture & 16 & 4.0 & 4.0 & 0.0001123 & $\\dots$ \\\\\n",
       "\t8 & 1 & 8 & seq & Full Picture & 16 & 4.0 & 4.0 & 0.0001123 & $\\dots$ \\\\\n",
       "\t9 & 0 & 16 & seq & Full Picture & 16 & 4.0 & 4.0 & 0.0001105 & $\\dots$ \\\\\n",
       "\t10 & 1 & 16 & seq & Full Picture & 16 & 4.0 & 4.0 & 0.0001105 & $\\dots$ \\\\\n",
       "\t11 & 0 & 32 & seq & Full Picture & 16 & 4.0 & 4.0 & 0.0001117 & $\\dots$ \\\\\n",
       "\t12 & 1 & 32 & seq & Full Picture & 16 & 4.0 & 4.0 & 0.0001117 & $\\dots$ \\\\\n",
       "\t13 & 0 & 1 & seq & Full Picture & 32 & 4.0 & 4.0 & 0.00056365 & $\\dots$ \\\\\n",
       "\t14 & 1 & 1 & seq & Full Picture & 32 & 4.0 & 4.0 & 0.00056365 & $\\dots$ \\\\\n",
       "\t15 & 0 & 2 & seq & Full Picture & 32 & 4.0 & 4.0 & 0.0003974 & $\\dots$ \\\\\n",
       "\t16 & 1 & 2 & seq & Full Picture & 32 & 4.0 & 4.0 & 0.0003974 & $\\dots$ \\\\\n",
       "\t17 & 0 & 4 & seq & Full Picture & 32 & 4.0 & 4.0 & 0.0003944 & $\\dots$ \\\\\n",
       "\t18 & 1 & 4 & seq & Full Picture & 32 & 4.0 & 4.0 & 0.0003944 & $\\dots$ \\\\\n",
       "\t19 & 0 & 8 & seq & Full Picture & 32 & 4.0 & 4.0 & 0.0003876 & $\\dots$ \\\\\n",
       "\t20 & 1 & 8 & seq & Full Picture & 32 & 4.0 & 4.0 & 0.0003876 & $\\dots$ \\\\\n",
       "\t21 & 0 & 16 & seq & Full Picture & 32 & 4.0 & 4.0 & 0.0003947 & $\\dots$ \\\\\n",
       "\t22 & 1 & 16 & seq & Full Picture & 32 & 4.0 & 4.0 & 0.0003947 & $\\dots$ \\\\\n",
       "\t23 & 0 & 32 & seq & Full Picture & 32 & 4.0 & 4.0 & 0.0003952 & $\\dots$ \\\\\n",
       "\t24 & 1 & 32 & seq & Full Picture & 32 & 4.0 & 4.0 & 0.0003952 & $\\dots$ \\\\\n",
       "\t25 & 0 & 1 & seq & Full Picture & 64 & 4.0 & 4.0 & 0.00189705 & $\\dots$ \\\\\n",
       "\t26 & 1 & 1 & seq & Full Picture & 64 & 4.0 & 4.0 & 0.00189705 & $\\dots$ \\\\\n",
       "\t27 & 0 & 2 & seq & Full Picture & 64 & 4.0 & 4.0 & 0.0015001 & $\\dots$ \\\\\n",
       "\t28 & 1 & 2 & seq & Full Picture & 64 & 4.0 & 4.0 & 0.0015001 & $\\dots$ \\\\\n",
       "\t29 & 0 & 4 & seq & Full Picture & 64 & 4.0 & 4.0 & 0.001494 & $\\dots$ \\\\\n",
       "\t30 & 1 & 4 & seq & Full Picture & 64 & 4.0 & 4.0 & 0.001494 & $\\dots$ \\\\\n",
       "\t$\\dots$ & $\\dots$ & $\\dots$ & $\\dots$ & $\\dots$ & $\\dots$ & $\\dots$ & $\\dots$ & $\\dots$ &  \\\\\n",
       "\\end{tabular}\n"
      ],
      "text/plain": [
       "480×14 DataFrame. Omitted printing of 8 columns\n",
       "│ Row │ i_o   │ threads │ method │ region               │ size  │ delta_x │\n",
       "│     │ \u001b[90mInt64\u001b[39m │ \u001b[90mInt64\u001b[39m   │ \u001b[90mString\u001b[39m │ \u001b[90mString\u001b[39m               │ \u001b[90mInt64\u001b[39m │ \u001b[90mFloat64\u001b[39m │\n",
       "├─────┼───────┼─────────┼────────┼──────────────────────┼───────┼─────────┤\n",
       "│ 1   │ 0     │ 1       │ seq    │ Full Picture         │ 16    │ 4.0     │\n",
       "│ 2   │ 1     │ 1       │ seq    │ Full Picture         │ 16    │ 4.0     │\n",
       "│ 3   │ 0     │ 2       │ seq    │ Full Picture         │ 16    │ 4.0     │\n",
       "│ 4   │ 1     │ 2       │ seq    │ Full Picture         │ 16    │ 4.0     │\n",
       "│ 5   │ 0     │ 4       │ seq    │ Full Picture         │ 16    │ 4.0     │\n",
       "│ 6   │ 1     │ 4       │ seq    │ Full Picture         │ 16    │ 4.0     │\n",
       "│ 7   │ 0     │ 8       │ seq    │ Full Picture         │ 16    │ 4.0     │\n",
       "│ 8   │ 1     │ 8       │ seq    │ Full Picture         │ 16    │ 4.0     │\n",
       "│ 9   │ 0     │ 16      │ seq    │ Full Picture         │ 16    │ 4.0     │\n",
       "│ 10  │ 1     │ 16      │ seq    │ Full Picture         │ 16    │ 4.0     │\n",
       "⋮\n",
       "│ 470 │ 1     │ 1       │ seq    │ Triple Spiral Valley │ 8192  │ 0.176   │\n",
       "│ 471 │ 0     │ 2       │ seq    │ Triple Spiral Valley │ 8192  │ 0.176   │\n",
       "│ 472 │ 1     │ 2       │ seq    │ Triple Spiral Valley │ 8192  │ 0.176   │\n",
       "│ 473 │ 0     │ 4       │ seq    │ Triple Spiral Valley │ 8192  │ 0.176   │\n",
       "│ 474 │ 1     │ 4       │ seq    │ Triple Spiral Valley │ 8192  │ 0.176   │\n",
       "│ 475 │ 0     │ 8       │ seq    │ Triple Spiral Valley │ 8192  │ 0.176   │\n",
       "│ 476 │ 1     │ 8       │ seq    │ Triple Spiral Valley │ 8192  │ 0.176   │\n",
       "│ 477 │ 0     │ 16      │ seq    │ Triple Spiral Valley │ 8192  │ 0.176   │\n",
       "│ 478 │ 1     │ 16      │ seq    │ Triple Spiral Valley │ 8192  │ 0.176   │\n",
       "│ 479 │ 0     │ 32      │ seq    │ Triple Spiral Valley │ 8192  │ 0.176   │\n",
       "│ 480 │ 1     │ 32      │ seq    │ Triple Spiral Valley │ 8192  │ 0.176   │"
      ]
     },
     "execution_count": 24,
     "metadata": {},
     "output_type": "execute_result"
    }
   ],
   "source": [
    "parsed_results[parsed_results.method .== \"seq\",:]"
   ]
  },
  {
   "cell_type": "code",
   "execution_count": 14,
   "metadata": {},
   "outputs": [
    {
     "ename": "MethodError",
     "evalue": "MethodError: no method matching plot_results(::Array{Int64,1}, ::Array{Float64,1}, ::Array{String,1}, ::Array{String,1}; max_thread_power=5)\nClosest candidates are:\n  plot_results(::Any, ::Any, ::Any, ::Any, !Matched::Any; hline, yerror, max_thread_power) at In[13]:4\n  plot_results(::Any, ::Any, ::Any, ::Any, !Matched::Any, !Matched::Any) at In[13]:4 got unsupported keyword argument \"max_thread_power\"\n  plot_results(::Any, ::Any, ::Any, ::Any, !Matched::Any, !Matched::Any, !Matched::Any) at In[13]:4 got unsupported keyword argument \"max_thread_power\"\n  ...",
     "output_type": "error",
     "traceback": [
      "MethodError: no method matching plot_results(::Array{Int64,1}, ::Array{Float64,1}, ::Array{String,1}, ::Array{String,1}; max_thread_power=5)\nClosest candidates are:\n  plot_results(::Any, ::Any, ::Any, ::Any, !Matched::Any; hline, yerror, max_thread_power) at In[13]:4\n  plot_results(::Any, ::Any, ::Any, ::Any, !Matched::Any, !Matched::Any) at In[13]:4 got unsupported keyword argument \"max_thread_power\"\n  plot_results(::Any, ::Any, ::Any, ::Any, !Matched::Any, !Matched::Any, !Matched::Any) at In[13]:4 got unsupported keyword argument \"max_thread_power\"\n  ...",
      "",
      "Stacktrace:",
      " [1] top-level scope at In[14]:7"
     ]
    }
   ],
   "source": [
    "## Little data wrangling\n",
    "\n",
    "data_full_picture = parsed_results[parsed_results.region .== \"Full Picture\",:]\n",
    "data_seahorse_valley = parsed_results[parsed_results.region .== \"Seahorse Valley\" ,:]\n",
    "data_elephant_valley = parsed_results[parsed_results.region .== \"Elephant Valley\", :]\n",
    "data_triple_spiral = parsed_results[parsed_results.region .== \"Triple Spiral Valley\", :]\n",
    "\n",
    "##Plots\n",
    "p1=plot_results(data_full_picture.threads,\n",
    "            data_full_picture.mean_duration_mono,\n",
    "            data_full_picture.method,\n",
    "            data_full_picture.method,\n",
    "            max_thread_power = 5)\n",
    "\n",
    "p2=plot_results(data_seahorse_valley.threads,\n",
    "            data_seahorse_valley.mean_duration_mono,\n",
    "            data_seahorse_valley.method,\n",
    "            \"\",\n",
    "            data_seahorse_valley.method,\n",
    "            max_thread_power = 5)\n",
    "\n",
    "p3=plot_results(data_elephant_valley.threads,\n",
    "                data_elephant_valley.mean_duration_mono,\n",
    "                data_elephant_valley.method,\n",
    "                data_elephant_valley.method,\n",
    "                max_thread_power=5)\n",
    "\n",
    "##Layout\n",
    "plot(p1,p2,p3,p4 layout=(2,2), title = \"Qualquer coisa\" , legend=true)"
   ]
  },
  {
   "cell_type": "markdown",
   "metadata": {},
   "source": [
    "## Observações finais"
   ]
  },
  {
   "cell_type": "markdown",
   "metadata": {},
   "source": [
    "### Infra Estrutura de trabalho remoto utilizando SSH\n",
    "\n",
    "A realização deste trabalho demandou muito poder computacional. Como nenhum dos elementos da dupla possui um computador poderoso o suficiente para realizar testes e ainda viver, precisamos aprender um pouco sobre o uso remoto da rede IME. Como\n",
    "nesse momento em que a grande maioria da comunidade IME não consegue estar fisicamente presente no instituto, resolvemos fazer\n",
    "uma pequena descrição de como utilizamos a máquina brucutu da rede IME para realizar nossos experimentos.\n",
    "\n",
    "Em primeiro lugar, vale dizer que o acesso às redes do IME\n",
    "\n",
    "#### Incluindo um novo kernel\n",
    "\n",
    "\n",
    "#### Abrindo uma porta para acesso local"
   ]
  }
 ],
 "metadata": {
  "kernelspec": {
   "display_name": "Julia 1.3.0",
   "language": "julia",
   "name": "julia-1.3"
  },
  "language_info": {
   "file_extension": ".jl",
   "mimetype": "application/julia",
   "name": "julia",
   "version": "1.3.0"
  },
  "name": "Untitled.ipynb"
 },
 "nbformat": 4,
 "nbformat_minor": 4
}
